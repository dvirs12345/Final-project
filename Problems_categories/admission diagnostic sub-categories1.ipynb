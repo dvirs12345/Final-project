{
 "metadata": {
  "language_info": {
   "codemirror_mode": {
    "name": "ipython",
    "version": 3
   },
   "file_extension": ".py",
   "mimetype": "text/x-python",
   "name": "python",
   "nbconvert_exporter": "python",
   "pygments_lexer": "ipython3",
   "version": "3.8.6-final"
  },
  "orig_nbformat": 2,
  "kernelspec": {
   "name": "python3",
   "display_name": "Python 3.8.6 64-bit",
   "metadata": {
    "interpreter": {
     "hash": "0842e88368afed9d6d3545cb71ab478a5393a8a4f4360e0d970ea0fb89474111"
    }
   }
  }
 },
 "nbformat": 4,
 "nbformat_minor": 2,
 "cells": [
  {
   "source": [
    "# Makes new classified1"
   ],
   "cell_type": "markdown",
   "metadata": {}
  },
  {
   "cell_type": "code",
   "execution_count": 1,
   "metadata": {},
   "outputs": [],
   "source": [
    "import pandas as pd \n",
    "import numpy as np"
   ]
  },
  {
   "cell_type": "code",
   "execution_count": 2,
   "metadata": {},
   "outputs": [
    {
     "output_type": "stream",
     "name": "stdout",
     "text": [
      "{'t': 'trauma', 'o': 'oncologic (cancer)', 'c': 'cardiovascular', 'p': 'pulmonary', 'k': 'kidney', 'm': 'metabolic', 'g': 'gastrointestinal', 'n': 'neurologic', 'h': 'hematologic', 'v': 'vascular', 's': 'Sepsis'}\n"
     ]
    }
   ],
   "source": [
    "# Make a dictionary of all letters possible and the problems they represent.\n",
    "columns1 = [\"ProblemText\", \"subCategories\", \"trauma\", \"oncologic (cancer)\", \"cardiovascular\", \"pulmonary\", \"kidney\", \"metabolic\", \"gastrointestinal\", \"neurologic\", \"hematologic\", \"vascular\", \"Sepsis\"]\n",
    "categories = columns1[2::]\n",
    "categoriesLetters = [\"t\", \"o\", \"c\", \"p\", \"k\", \"m\", \"g\", \"n\", \"h\", \"v\", \"s\"] \n",
    "transition = dict(zip(categoriesLetters, categories))\n",
    "print(transition)"
   ]
  },
  {
   "cell_type": "code",
   "execution_count": 3,
   "metadata": {},
   "outputs": [
    {
     "output_type": "stream",
     "name": "stdout",
     "text": [
      "                       ProblemText subCategories\n0                a- v canal repair             v\n1                              AAA             v\n2                abdominal abscess            vs\n3        abdominal aortic aneurysm             v\n4  Abdominal Aortic Aneurysmectomy             v\n"
     ]
    }
   ],
   "source": [
    "# Handle the excel\n",
    "my_excel = pd.read_excel(\"admission diagnosis sub-categories.xlsx\", sheet_name=\"problem categories\")\n",
    "my_excel = my_excel[[\"ProblemText\", \"Unnamed: 1\"]]\n",
    "my_excel = my_excel.rename(columns={\"Unnamed: 1\": \"subCategories\"})\n",
    "print(my_excel.head())"
   ]
  },
  {
   "cell_type": "code",
   "execution_count": 4,
   "metadata": {},
   "outputs": [
    {
     "output_type": "stream",
     "name": "stdout",
     "text": [
      "                       ProblemText subCategories trauma oncologic (cancer)  \\\n0                a- v canal repair             v    NaN                NaN   \n1                              AAA             v    NaN                NaN   \n2                abdominal abscess            vs    NaN                NaN   \n3        abdominal aortic aneurysm             v    NaN                NaN   \n4  Abdominal Aortic Aneurysmectomy             v    NaN                NaN   \n\n  cardiovascular pulmonary kidney metabolic gastrointestinal neurologic  \\\n0            NaN       NaN    NaN       NaN              NaN        NaN   \n1            NaN       NaN    NaN       NaN              NaN        NaN   \n2            NaN       NaN    NaN       NaN              NaN        NaN   \n3            NaN       NaN    NaN       NaN              NaN        NaN   \n4            NaN       NaN    NaN       NaN              NaN        NaN   \n\n  hematologic vascular Sepsis  \n0         NaN      NaN    NaN  \n1         NaN      NaN    NaN  \n2         NaN      NaN    NaN  \n3         NaN      NaN    NaN  \n4         NaN      NaN    NaN  \n"
     ]
    }
   ],
   "source": [
    "# Create new DataFrame\n",
    "df = pd.DataFrame(None, columns=columns1) \n",
    "df[\"ProblemText\"] = my_excel[\"ProblemText\"]\n",
    "df[\"subCategories\"] = my_excel[\"subCategories\"]\n",
    "print(df.head())"
   ]
  },
  {
   "cell_type": "code",
   "execution_count": 5,
   "metadata": {},
   "outputs": [
    {
     "output_type": "stream",
     "name": "stdout",
     "text": [
      "                          ProblemText subCategories  trauma  \\\n0                   a- v canal repair             v       0   \n1                                 AAA             v       0   \n2                   abdominal abscess            vs       0   \n3           abdominal aortic aneurysm             v       0   \n4     Abdominal Aortic Aneurysmectomy             v       0   \n...                               ...           ...     ...   \n2580                  wound infection             s       0   \n2581                     WPW Syndrome            cs       0   \n2582                wrist deformation             t       1   \n2583             zenkers diverticulum             g       0   \n2584                  zygoma fracture             t       1   \n\n      oncologic (cancer)  cardiovascular  pulmonary  kidney  metabolic  \\\n0                      0               0          0       0          0   \n1                      0               0          0       0          0   \n2                      0               0          0       0          0   \n3                      0               0          0       0          0   \n4                      0               0          0       0          0   \n...                  ...             ...        ...     ...        ...   \n2580                   0               0          0       0          0   \n2581                   0               1          0       0          0   \n2582                   0               0          0       0          0   \n2583                   0               0          0       0          0   \n2584                   0               0          0       0          0   \n\n      gastrointestinal  neurologic  hematologic  vascular  Sepsis  \n0                    0           0            0         1       0  \n1                    0           0            0         1       0  \n2                    0           0            0         1       1  \n3                    0           0            0         1       0  \n4                    0           0            0         1       0  \n...                ...         ...          ...       ...     ...  \n2580                 0           0            0         0       1  \n2581                 0           0            0         0       1  \n2582                 0           0            0         0       0  \n2583                 1           0            0         0       0  \n2584                 0           0            0         0       0  \n\n[2585 rows x 13 columns]\n"
     ]
    }
   ],
   "source": [
    "# Fill 1 in the right places and 0 in the rest\n",
    "for index, row in df.iterrows(): # Iterate over df\n",
    "    if not isinstance(row[\"subCategories\"], float):\n",
    "        for c in row[\"subCategories\"]: # iterate over the string\n",
    "            if c in transition.keys():\n",
    "                df[transition[c]][index] = 1\n",
    "df.fillna(0, inplace=True)\n",
    "print(df)"
   ]
  },
  {
   "cell_type": "code",
   "execution_count": 6,
   "metadata": {},
   "outputs": [],
   "source": [
    "df.to_excel(r'new classified1.xlsx', index=False)"
   ]
  }
 ]
}