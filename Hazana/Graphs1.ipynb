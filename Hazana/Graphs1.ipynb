{
 "metadata": {
  "language_info": {
   "codemirror_mode": {
    "name": "ipython",
    "version": 3
   },
   "file_extension": ".py",
   "mimetype": "text/x-python",
   "name": "python",
   "nbconvert_exporter": "python",
   "pygments_lexer": "ipython3",
   "version": "3.8.6-final"
  },
  "orig_nbformat": 2,
  "kernelspec": {
   "name": "python3",
   "display_name": "Python 3.8.6 64-bit",
   "metadata": {
    "interpreter": {
     "hash": "0842e88368afed9d6d3545cb71ab478a5393a8a4f4360e0d970ea0fb89474111"
    }
   }
  }
 },
 "nbformat": 4,
 "nbformat_minor": 2,
 "cells": [
  {
   "cell_type": "code",
   "execution_count": 1,
   "metadata": {},
   "outputs": [],
   "source": [
    "import matplotlib.pyplot as plt\n",
    "import numpy as np\n",
    "import pandas as pd\n",
    "import seaborn as sns\n",
    "%matplotlib inline"
   ]
  },
  {
   "cell_type": "code",
   "execution_count": 2,
   "metadata": {},
   "outputs": [],
   "source": [
    "df = pd.read_excel(\"patient_level__ver 12_proj1_sn_5-13.xlsx\")\n",
    "target_feature = \"90 days mortality\"\n",
    "num_of_days = 5\n",
    "fignum = 0"
   ]
  },
  {
   "cell_type": "code",
   "execution_count": 3,
   "metadata": {},
   "outputs": [],
   "source": [
    "def plot_median(df1, group, num_of_days, state, kg):\n",
    "    X = range(num_of_days)\n",
    "    Y = []\n",
    "    std = []\n",
    "    for i in X:\n",
    "        if not kg:\n",
    "            Y.append(df1[group+str(i)].median())\n",
    "            std.append(df1[group+str(i)].std())\n",
    "        else:\n",
    "            Y.append(df1[group+str(i)+\"/kg\"].median())\n",
    "            std.append(df1[group+str(i)+\"/kg\"].std())\n",
    "            \n",
    "\n",
    "    X = np.array(X)\n",
    "    Y = np.array(Y)\n",
    "    std = np.array(std)\n",
    "\n",
    "    if not kg:\n",
    "        title = \"Median of \" + group + \" for \" + str(num_of_days) + \" days - \" + state\n",
    "    else:\n",
    "        title = \"Median of \" + group + \"/kg\" + \" for \" + str(num_of_days) + \" days - \" + state\n",
    "\n",
    "    plt.title(title)\n",
    "    plt.xlabel(\"Days\")\n",
    "    plt.ylabel(group)\n",
    "\n",
    "    # plt.fill_between(X, Y-std, Y+std, alpha=.3)\n",
    "    plt.plot(X,Y)\n",
    "    "
   ]
  },
  {
   "cell_type": "code",
   "execution_count": 4,
   "metadata": {},
   "outputs": [],
   "source": [
    "def plot_median_both(df1, df2, group, num_of_days, kg, filename):\n",
    "    df1 = df1[df[\"ICU_LOS\"] == num_of_days]\n",
    "    X = range(num_of_days)\n",
    "    Y = []\n",
    "    std1 = []\n",
    "    for i in X:\n",
    "        if not kg:\n",
    "            Y.append(df1[group+str(i)].mean())\n",
    "            std1.append(df1[group+str(i)].std())\n",
    "        else:\n",
    "            Y.append(df1[group+str(i)+\"/kg\"].mean())\n",
    "            std1.append(df1[group+str(i)+\"/kg\"].std())\n",
    "    \n",
    "    Y2 = []\n",
    "    std2 = []\n",
    "    for i in X:\n",
    "        if not kg:\n",
    "            Y2.append(df2[group+str(i)].mean())\n",
    "            std2.append(df2[group+str(i)].std())\n",
    "        else:\n",
    "            Y2.append(df2[group+str(i)+\"/kg\"].mean())\n",
    "            std2.append(df2[group+str(i)+\"/kg\"].std())\n",
    "            \n",
    "\n",
    "    X = np.array(X)\n",
    "    Y = np.array(Y)\n",
    "    Y2 = np.array(Y2)\n",
    "    std1 = np.array(std1)\n",
    "    std2 = np.array(std2)\n",
    "\n",
    "    if not kg:\n",
    "        title = \"Median of \" + group + \" for \" + str(num_of_days) + \" days - Both\" \n",
    "    else:\n",
    "        title = \"Median of \" + group + \"/kg\" + \" for \" + str(num_of_days) + \" days - Both\" \n",
    "        \n",
    "    plt.title(title)\n",
    "    plt.xlabel(\"Days\")\n",
    "    plt.ylabel(group)\n",
    "    # plt.fill_between(X, Y-std1, Y+std1, alpha=.3, color='blue')\n",
    "    # plt.fill_between(X, Y2-std2, Y2+std2, alpha=.3, color='red')\n",
    "    plt.legend(['Alive', 'Dead'])\n",
    "    plt.ylim([0,1])\n",
    "    plt.plot(X, Y, X, Y2)\n",
    "    plt.savefig(filename)\n",
    "    # fignum+=1"
   ]
  },
  {
   "cell_type": "code",
   "execution_count": 5,
   "metadata": {},
   "outputs": [],
   "source": [
    "group = \"pro_to_target_day\"\n",
    "df_alive = df[df[target_feature] == 0]\n",
    "# df_alive = df_alive[df_alive[\"ICU_LOS\"] == num_of_days]\n",
    "# plot_median(df_alive, group, num_of_days, \"Alive\", False)"
   ]
  },
  {
   "cell_type": "code",
   "execution_count": 6,
   "metadata": {},
   "outputs": [],
   "source": [
    "df_dead = df[df[target_feature] == 1]\n",
    "# df_dead = df_dead[df_dead[\"ICU_LOS\"] == num_of_days]\n",
    "# plot_median(df_dead, group, num_of_days, \"Dead\", False)"
   ]
  },
  {
   "cell_type": "code",
   "execution_count": 7,
   "metadata": {},
   "outputs": [],
   "source": [
    "# plot_median_both(df_alive, df_dead, group, num_of_days, False)"
   ]
  },
  {
   "cell_type": "code",
   "execution_count": 8,
   "metadata": {},
   "outputs": [],
   "source": [
    "group = \"EN_pro_day\"\n",
    "# plot_median(df_alive, group, num_of_days, \"Alive\", False)"
   ]
  },
  {
   "cell_type": "code",
   "execution_count": 9,
   "metadata": {},
   "outputs": [],
   "source": [
    "# plot_median(df_dead, group, num_of_days, \"Dead\", False)"
   ]
  },
  {
   "cell_type": "code",
   "execution_count": 10,
   "metadata": {},
   "outputs": [],
   "source": [
    "# plot_median_both(df_alive, df_dead, group, num_of_days, False)"
   ]
  },
  {
   "cell_type": "code",
   "execution_count": 11,
   "metadata": {},
   "outputs": [],
   "source": [
    "group = \"EN_pro_day\"\n",
    "# plot_median(df_alive, group, num_of_days, \"Alive\", True)"
   ]
  },
  {
   "cell_type": "code",
   "execution_count": 12,
   "metadata": {},
   "outputs": [],
   "source": [
    "# plot_median(df_dead, group, num_of_days, \"Dead\", True)"
   ]
  },
  {
   "cell_type": "code",
   "execution_count": 13,
   "metadata": {},
   "outputs": [],
   "source": [
    "# plot_median_both(df_alive, df_dead, group, num_of_days, True)"
   ]
  },
  {
   "cell_type": "code",
   "execution_count": 14,
   "metadata": {},
   "outputs": [
    {
     "output_type": "display_data",
     "data": {
      "text/plain": "<Figure size 432x288 with 0 Axes>"
     },
     "metadata": {}
    }
   ],
   "source": [
    "# df_alive = df[df[target_feature] == 0]\n",
    "# df_dead = df[df[target_feature] == 1]\n",
    "target_features = [\"ICU_mortality\", \"HOSP_mortality\", \"28_mortality\", \"90 days mortality\"]\n",
    "for i in range(5, 14):\n",
    "    for j in target_features:\n",
    "        df_alive = df[df[j] == 0]\n",
    "        df_dead = df[df[j] == 1]\n",
    "        group = \"EN_pro_day\"\n",
    "        plot_median_both(df_alive, df_dead, group, i, False, \"EN_pro_day\" + j + str(i)) # EN_pro_day\n",
    "        plt.clf()\n",
    "        if i <= 5:\n",
    "            plot_median_both(df_alive, df_dead, group, i, True, \"EN_pro_daykg\" + j + str(i)) # kg\n",
    "            plt.clf()\n",
    "        group = \"pro_to_target_day\"\n",
    "        plot_median_both(df_alive, df_dead, group, i, False, \"pro_to_target_day\" + j + str(i)) # pro_to_target_day\n",
    "        plt.clf()"
   ]
  }
 ]
}