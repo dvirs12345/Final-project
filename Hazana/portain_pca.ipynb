{
 "cells": [
  {
   "cell_type": "markdown",
   "metadata": {
    "_uuid": "855d1bd2aad044e8623f1067f1bf07fd90360221"
   },
   "source": [
    "# Objective:\n",
    "recognize  the fashion object   on Mnist dataset with the help of PCA and GridSearchCV\n",
    "https://www.kaggle.com/zalando-research/fashionmnist"
   ]
  },
  {
   "cell_type": "code",
   "execution_count": 1,
   "metadata": {
    "scrolled": true
   },
   "outputs": [
    {
     "data": {
      "text/html": [
       "<div>\n",
       "<style scoped>\n",
       "    .dataframe tbody tr th:only-of-type {\n",
       "        vertical-align: middle;\n",
       "    }\n",
       "\n",
       "    .dataframe tbody tr th {\n",
       "        vertical-align: top;\n",
       "    }\n",
       "\n",
       "    .dataframe thead th {\n",
       "        text-align: right;\n",
       "    }\n",
       "</style>\n",
       "<table border=\"1\" class=\"dataframe\">\n",
       "  <thead>\n",
       "    <tr style=\"text-align: right;\">\n",
       "      <th></th>\n",
       "      <th>ser_num</th>\n",
       "      <th>ICU_LOS</th>\n",
       "      <th>LOS_Group</th>\n",
       "      <th>ICU_mortality</th>\n",
       "      <th>HOSP_mortality</th>\n",
       "      <th>28_mortality</th>\n",
       "      <th>90 days mortality</th>\n",
       "      <th>trauma</th>\n",
       "      <th>metabolic</th>\n",
       "      <th>gastrointestinal</th>\n",
       "      <th>...</th>\n",
       "      <th>EN_pro_day12</th>\n",
       "      <th>PN_pro_day12</th>\n",
       "      <th>EN_pro_day13</th>\n",
       "      <th>PN_pro_day13</th>\n",
       "      <th>EN_pro_day0/kg</th>\n",
       "      <th>EN_pro_day1/kg</th>\n",
       "      <th>EN_pro_day2/kg</th>\n",
       "      <th>EN_pro_day3/kg</th>\n",
       "      <th>EN_pro_day4/kg</th>\n",
       "      <th>EN_pro_day5/kg</th>\n",
       "    </tr>\n",
       "  </thead>\n",
       "  <tbody>\n",
       "    <tr>\n",
       "      <th>0</th>\n",
       "      <td>2</td>\n",
       "      <td>9</td>\n",
       "      <td>LOS_8-13</td>\n",
       "      <td>0</td>\n",
       "      <td>0</td>\n",
       "      <td>0</td>\n",
       "      <td>0</td>\n",
       "      <td>0</td>\n",
       "      <td>1</td>\n",
       "      <td>0</td>\n",
       "      <td>...</td>\n",
       "      <td>0.0</td>\n",
       "      <td>0.000000</td>\n",
       "      <td>0.0</td>\n",
       "      <td>0.0</td>\n",
       "      <td>1.250297</td>\n",
       "      <td>1.221456</td>\n",
       "      <td>1.578462</td>\n",
       "      <td>0.995015</td>\n",
       "      <td>1.394308</td>\n",
       "      <td>1.403077</td>\n",
       "    </tr>\n",
       "    <tr>\n",
       "      <th>1</th>\n",
       "      <td>3</td>\n",
       "      <td>5</td>\n",
       "      <td>LOS_5-7</td>\n",
       "      <td>0</td>\n",
       "      <td>0</td>\n",
       "      <td>0</td>\n",
       "      <td>0</td>\n",
       "      <td>0</td>\n",
       "      <td>1</td>\n",
       "      <td>0</td>\n",
       "      <td>...</td>\n",
       "      <td>0.0</td>\n",
       "      <td>0.000000</td>\n",
       "      <td>0.0</td>\n",
       "      <td>0.0</td>\n",
       "      <td>0.758495</td>\n",
       "      <td>0.000000</td>\n",
       "      <td>0.670993</td>\n",
       "      <td>1.177788</td>\n",
       "      <td>0.403229</td>\n",
       "      <td>0.000000</td>\n",
       "    </tr>\n",
       "    <tr>\n",
       "      <th>2</th>\n",
       "      <td>5</td>\n",
       "      <td>13</td>\n",
       "      <td>LOS_8-13</td>\n",
       "      <td>0</td>\n",
       "      <td>0</td>\n",
       "      <td>0</td>\n",
       "      <td>0</td>\n",
       "      <td>0</td>\n",
       "      <td>0</td>\n",
       "      <td>1</td>\n",
       "      <td>...</td>\n",
       "      <td>0.0</td>\n",
       "      <td>53.273355</td>\n",
       "      <td>0.0</td>\n",
       "      <td>0.0</td>\n",
       "      <td>0.000000</td>\n",
       "      <td>0.000000</td>\n",
       "      <td>0.023259</td>\n",
       "      <td>1.396370</td>\n",
       "      <td>0.256457</td>\n",
       "      <td>0.000000</td>\n",
       "    </tr>\n",
       "    <tr>\n",
       "      <th>3</th>\n",
       "      <td>7</td>\n",
       "      <td>6</td>\n",
       "      <td>LOS_5-7</td>\n",
       "      <td>0</td>\n",
       "      <td>0</td>\n",
       "      <td>0</td>\n",
       "      <td>0</td>\n",
       "      <td>0</td>\n",
       "      <td>1</td>\n",
       "      <td>1</td>\n",
       "      <td>...</td>\n",
       "      <td>0.0</td>\n",
       "      <td>0.000000</td>\n",
       "      <td>0.0</td>\n",
       "      <td>0.0</td>\n",
       "      <td>1.145278</td>\n",
       "      <td>1.520000</td>\n",
       "      <td>1.520000</td>\n",
       "      <td>1.520000</td>\n",
       "      <td>1.520000</td>\n",
       "      <td>1.209667</td>\n",
       "    </tr>\n",
       "    <tr>\n",
       "      <th>4</th>\n",
       "      <td>9</td>\n",
       "      <td>9</td>\n",
       "      <td>LOS_8-13</td>\n",
       "      <td>0</td>\n",
       "      <td>0</td>\n",
       "      <td>0</td>\n",
       "      <td>0</td>\n",
       "      <td>1</td>\n",
       "      <td>1</td>\n",
       "      <td>1</td>\n",
       "      <td>...</td>\n",
       "      <td>0.0</td>\n",
       "      <td>0.000000</td>\n",
       "      <td>0.0</td>\n",
       "      <td>0.0</td>\n",
       "      <td>0.014902</td>\n",
       "      <td>0.858353</td>\n",
       "      <td>0.731984</td>\n",
       "      <td>0.922729</td>\n",
       "      <td>1.287529</td>\n",
       "      <td>1.287529</td>\n",
       "    </tr>\n",
       "  </tbody>\n",
       "</table>\n",
       "<p>5 rows × 70 columns</p>\n",
       "</div>"
      ],
      "text/plain": [
       "   ser_num  ICU_LOS LOS_Group  ICU_mortality  HOSP_mortality  28_mortality  \\\n",
       "0        2        9  LOS_8-13              0               0             0   \n",
       "1        3        5   LOS_5-7              0               0             0   \n",
       "2        5       13  LOS_8-13              0               0             0   \n",
       "3        7        6   LOS_5-7              0               0             0   \n",
       "4        9        9  LOS_8-13              0               0             0   \n",
       "\n",
       "   90 days mortality  trauma  metabolic  gastrointestinal  ...  EN_pro_day12  \\\n",
       "0                  0       0          1                 0  ...           0.0   \n",
       "1                  0       0          1                 0  ...           0.0   \n",
       "2                  0       0          0                 1  ...           0.0   \n",
       "3                  0       0          1                 1  ...           0.0   \n",
       "4                  0       1          1                 1  ...           0.0   \n",
       "\n",
       "  PN_pro_day12 EN_pro_day13  PN_pro_day13  EN_pro_day0/kg  EN_pro_day1/kg  \\\n",
       "0     0.000000          0.0           0.0        1.250297        1.221456   \n",
       "1     0.000000          0.0           0.0        0.758495        0.000000   \n",
       "2    53.273355          0.0           0.0        0.000000        0.000000   \n",
       "3     0.000000          0.0           0.0        1.145278        1.520000   \n",
       "4     0.000000          0.0           0.0        0.014902        0.858353   \n",
       "\n",
       "  EN_pro_day2/kg EN_pro_day3/kg EN_pro_day4/kg  EN_pro_day5/kg  \n",
       "0       1.578462       0.995015       1.394308        1.403077  \n",
       "1       0.670993       1.177788       0.403229        0.000000  \n",
       "2       0.023259       1.396370       0.256457        0.000000  \n",
       "3       1.520000       1.520000       1.520000        1.209667  \n",
       "4       0.731984       0.922729       1.287529        1.287529  \n",
       "\n",
       "[5 rows x 70 columns]"
      ]
     },
     "execution_count": 1,
     "metadata": {},
     "output_type": "execute_result"
    }
   ],
   "source": [
    "import pandas as pd  \n",
    "import numpy as np  \n",
    "import matplotlib.pyplot as plt \n",
    "import seaborn as sns\n",
    "import random\n",
    "  \n",
    "dataset=pd.read_excel(\"C:/Users/97254/Downloads/patient_level__ver 12_proj1_sn_5-13.xlsx\", engine='openpyxl')\n",
    "\n",
    "\n",
    "dataset.head()\n"
   ]
  },
  {
   "cell_type": "code",
   "execution_count": 2,
   "metadata": {},
   "outputs": [],
   "source": [
    "#remove NAN\n",
    "dataset = dataset[~dataset['age'].isin(['NAN'])]"
   ]
  },
  {
   "cell_type": "code",
   "execution_count": 3,
   "metadata": {},
   "outputs": [
    {
     "data": {
      "text/plain": [
       "(976, 64)"
      ]
     },
     "execution_count": 3,
     "metadata": {},
     "output_type": "execute_result"
    }
   ],
   "source": [
    "dataset = dataset[[\n",
    "    'ICU_mortality',\n",
    " 'LOS_Group',\n",
    "'trauma',\n",
    "'metabolic',\n",
    "'gastrointestinal',\n",
    "'Sepsis'\n",
    ",'age'\n",
    ",'gender'\n",
    ",'weight'\n",
    ",'BMI'\n",
    ",'active problems'\n",
    ",'background problems'\n",
    ",'feeding'\n",
    ",'Target_pro_day'\n",
    ",'pro_to_target_day0'\n",
    ",'pro_to_target_day1'\n",
    ",'pro_to_target_day2'\n",
    ",'pro_to_target_day3'\n",
    ",'pro_to_target_day4'\n",
    ",'pro_to_target_day5'\n",
    ",'pro_to_target_day6'\n",
    ",'pro_to_target_day7'\n",
    ",'pro_to_target_day8'\n",
    ",'pro_to_target_day9'\n",
    ",'pro_to_target_day10'\n",
    ",'pro_to_target_day11'\n",
    ",'pro_to_target_day12'\n",
    ",'pro_to_target_day13'\n",
    ",'Total_EN_pro'\n",
    ",'Total_PN_pro'\n",
    ",'EN_pro_day0'\n",
    ",'PN_pro_day0'\n",
    ",'EN_pro_day1'\n",
    ",'PN_pro_day1'\n",
    ",'EN_pro_day2'\n",
    ",'PN_pro_day2'\n",
    ",'EN_pro_day3'\n",
    ",'PN_pro_day3'\n",
    ",'EN_pro_day4'\n",
    ",'PN_pro_day4'\n",
    ",'EN_pro_day5'\n",
    ",'PN_pro_day5'\n",
    ",'EN_pro_day6'\n",
    ",'PN_pro_day6'\n",
    ",'EN_pro_day7'\n",
    ",'PN_pro_day7'\n",
    ",'EN_pro_day8'\n",
    ",'PN_pro_day8'\n",
    ",'EN_pro_day9'\n",
    ",'PN_pro_day9'\n",
    ",'EN_pro_day10'\n",
    ",'PN_pro_day10'\n",
    ",'EN_pro_day11'\n",
    ",'PN_pro_day11'\n",
    ",'EN_pro_day12'\n",
    ",'PN_pro_day12'\n",
    ",'EN_pro_day13'\n",
    ",'PN_pro_day13'  \n",
    ",'EN_pro_day0/kg'   \n",
    ",'EN_pro_day1/kg'    \n",
    ",'EN_pro_day2/kg'      \n",
    ",'EN_pro_day3/kg'    \n",
    ",'EN_pro_day4/kg'       \n",
    ",'EN_pro_day5/kg'        \n",
    "    \n",
    "]]\n",
    "dataset.shape"
   ]
  },
  {
   "cell_type": "code",
   "execution_count": 4,
   "metadata": {},
   "outputs": [],
   "source": [
    "from sklearn.preprocessing import LabelEncoder\n",
    "le = LabelEncoder()\n",
    "dataset['active problems'] = le.fit_transform(dataset['active problems'].astype(str))\n",
    "dataset['background problems'] = le.fit_transform(dataset['background problems'].astype(str))\n",
    "dataset['gender'] = le.fit_transform(dataset['gender'].astype(str))\n",
    "dataset['feeding'] = le.fit_transform(dataset['feeding'].astype(str))\n",
    "dataset['LOS_Group'] = le.fit_transform(dataset['feeding'].astype(str))"
   ]
  },
  {
   "cell_type": "code",
   "execution_count": 5,
   "metadata": {},
   "outputs": [],
   "source": [
    "x = dataset.iloc[:,1:]\n",
    "y = dataset.iloc[:,0]"
   ]
  },
  {
   "cell_type": "code",
   "execution_count": null,
   "metadata": {},
   "outputs": [],
   "source": []
  },
  {
   "cell_type": "markdown",
   "metadata": {
    "_uuid": "64356442a241f3b8bb7bb1486f4cfda0dcff0fd6"
   },
   "source": [
    "## 4. Feature Scaling:\n",
    "Feature scaling is a method used to standardize the range of independent variables or features of data. In data processing, it is also known as data normalization and is generally performed during the data preprocessing step.\n",
    "\n",
    "### Standardization\n",
    "In machine learning, we can handle various types of data, e.g. audio signals and pixel values for image data, and this data can include multiple dimensions. Feature standardization makes the values of each feature in the data have zero-mean (when subtracting the mean in the numerator) and unit-variance. This method is widely used for normalization in many machine learning algorithms (e.g., support vector machines, logistic regression, and neural networks. The general method of calculation is to determine the distribution mean and standard deviation for each feature. Next we subtract the mean from each feature. Then we divide the values (mean is already subtracted) of each feature by its standard deviation.\n",
    "\n",
    "## Standard Scaler\n",
    "\n",
    "##  $$x'= \\frac{x - mean(x)}{\\sigma}$$\n"
   ]
  },
  {
   "cell_type": "code",
   "execution_count": 6,
   "metadata": {},
   "outputs": [
    {
     "data": {
      "text/plain": [
       "StandardScaler()"
      ]
     },
     "execution_count": 6,
     "metadata": {},
     "output_type": "execute_result"
    }
   ],
   "source": [
    "from sklearn.preprocessing import StandardScaler\n",
    "scaler = StandardScaler()\n",
    "scaler.fit(x)\n"
   ]
  },
  {
   "cell_type": "code",
   "execution_count": 7,
   "metadata": {},
   "outputs": [],
   "source": [
    "x_train_scaler = scaler.transform(x)"
   ]
  },
  {
   "cell_type": "code",
   "execution_count": 13,
   "metadata": {},
   "outputs": [
    {
     "name": "stdout",
     "output_type": "stream",
     "text": [
      "Nearest Neighbors: 0.737745 (0.035282)\n",
      "Decision Tree: 0.645392 (0.031579)\n",
      "Random Forest: 0.759236 (0.020865)\n",
      "Logistic Regression: 0.753082 (0.022596)\n"
     ]
    }
   ],
   "source": [
    "from sklearn import model_selection\n",
    "seed = 1\n",
    "from sklearn.linear_model import LogisticRegression\n",
    "\n",
    "from sklearn.neighbors import KNeighborsClassifier\n",
    "from sklearn.tree import DecisionTreeClassifier\n",
    "from sklearn.ensemble import RandomForestClassifier, AdaBoostClassifier\n",
    "from sklearn.svm import SVC\n",
    "from sklearn.metrics import classification_report, accuracy_score\n",
    "\n",
    "# define scoring method\n",
    "scoring = 'accuracy'\n",
    "\n",
    "# Define models to train\n",
    "names = [\"Nearest Neighbors\",\n",
    "         \"Decision Tree\",\n",
    "         \"Random Forest\", \n",
    "         #\"AdaBoost\",\n",
    "         # \"SVM Linear\",\n",
    "        \"Logistic Regression\"]\n",
    "\n",
    "classifiers = [\n",
    "    KNeighborsClassifier(),\n",
    "    DecisionTreeClassifier(),\n",
    "    RandomForestClassifier(),\n",
    "   # AdaBoostClassifier(),\n",
    "   # SVC(kernel = 'linear'), \n",
    "    LogisticRegression(n_jobs = -1)\n",
    "\n",
    "]\n",
    "\n",
    "models = zip(names, classifiers)\n",
    "\n",
    "# evaluate each model in turn\n",
    "results = []\n",
    "names = []\n",
    "\n",
    "for name, model in models:\n",
    "    kfold = model_selection.KFold(n_splits=10)\n",
    "    cv_results = model_selection.cross_val_score(model, x_train_scaler[0:8000 ], y[0:8000 ], cv=kfold, scoring=scoring)\n",
    "    results.append(cv_results)\n",
    "    names.append(name)\n",
    "    msg = \"%s: %f (%f)\" % (name, cv_results.mean(), cv_results.std())\n",
    "    print(msg)"
   ]
  },
  {
   "cell_type": "markdown",
   "metadata": {
    "_uuid": "6a98d72ff1408e8196bba6d71110fd305b6b3d24"
   },
   "source": [
    "## 5. Dimentionality Reduction\n",
    "Having too many features in the training set can make the training process extremely slow and makes it unlikely to get a good solution.\n",
    "In statistics, machine learning, and information theory, dimensionality reduction or dimension reduction is the process of reducing the number of random variables under consideration by obtaining a set of principal variables. It can be divided into feature selection and feature extraction.\n",
    "\n",
    "## Principal component analysis (PCA)\n",
    "The main linear technique for dimensionality reduction, principal component analysis, performs a linear mapping of the data to a lower-dimensional space in such a way that the variance of the data in the low-dimensional representation is maximized."
   ]
  },
  {
   "cell_type": "markdown",
   "metadata": {
    "_uuid": "67125da826b5c868a345fa5caa7b149dd90aea35"
   },
   "source": [
    "### Ploting the relation between the Variance and the Dimensions"
   ]
  },
  {
   "cell_type": "code",
   "execution_count": 9,
   "metadata": {},
   "outputs": [
    {
     "data": {
      "text/plain": [
       "<matplotlib.legend.Legend at 0x2835716d790>"
      ]
     },
     "execution_count": 9,
     "metadata": {},
     "output_type": "execute_result"
    },
    {
     "data": {
      "image/png": "[encoded data removed]",
      "text/plain": [
       "<Figure size 720x720 with 1 Axes>"
      ]
     },
     "metadata": {
      "needs_background": "light"
     },
     "output_type": "display_data"
    }
   ],
   "source": [
    "#Using elbow-plot variance/dimensions\n",
    "from sklearn.decomposition import PCA\n",
    "pca = PCA()\n",
    "pca.fit(x_train_scaler)\n",
    "cumsum = np.cumsum(pca.explained_variance_ratio_)*100\n",
    "d = [n for n in range(len(cumsum))]\n",
    "plt.figure(figsize=(10, 10))\n",
    "plt.plot(d,cumsum, color = 'red',label='cumulative explained variance')\n",
    "plt.title('Cumulative Explained Variance as a Function of the Number of Components')\n",
    "plt.ylabel('Cumulative Explained variance')\n",
    "plt.xlabel('Principal components')\n",
    "plt.axhline(y = 100, color='k', linestyle='--', label = '95% Explained Variance')\n",
    "plt.legend(loc='best')"
   ]
  },
  {
   "cell_type": "markdown",
   "metadata": {},
   "source": [
    "This curve quantifies how much of the total, 785-dimensional variance is contained within the first N components. \n",
    "For example, we see that  the first 100 components contain approximately 90% of the variance, \n",
    "while you need around 600 components to describe close to 100% of the variance.\n",
    "\n",
    "Here we see that our two-dimensional projection loses a lot of information (as measured by the explained variance)\n",
    "and that we'd need about 100 components to retain 90% of the variance.\n",
    "Looking at this plot for a high-dimensional dataset can help you understand the level of redundancy present \n",
    "in multiple observations."
   ]
  },
  {
   "cell_type": "code",
   "execution_count": 10,
   "metadata": {},
   "outputs": [],
   "source": [
    "from sklearn.decomposition import PCA\n",
    "\n",
    "pca = PCA(0.999) \n",
    "pca.fit(x_train_scaler)\n",
    "\n",
    "x_train_pca = pca.transform(x_train_scaler)\n",
    "\n"
   ]
  },
  {
   "cell_type": "code",
   "execution_count": null,
   "metadata": {},
   "outputs": [],
   "source": []
  },
  {
   "cell_type": "code",
   "execution_count": 90,
   "metadata": {},
   "outputs": [],
   "source": [
    "train=pd.concat([pd.DataFrame(x_train_pca),y],axis=1)\n"
   ]
  },
  {
   "cell_type": "code",
   "execution_count": 91,
   "metadata": {},
   "outputs": [
    {
     "data": {
      "text/html": [
       "<div>\n",
       "<style scoped>\n",
       "    .dataframe tbody tr th:only-of-type {\n",
       "        vertical-align: middle;\n",
       "    }\n",
       "\n",
       "    .dataframe tbody tr th {\n",
       "        vertical-align: top;\n",
       "    }\n",
       "\n",
       "    .dataframe thead th {\n",
       "        text-align: right;\n",
       "    }\n",
       "</style>\n",
       "<table border=\"1\" class=\"dataframe\">\n",
       "  <thead>\n",
       "    <tr style=\"text-align: right;\">\n",
       "      <th></th>\n",
       "      <th>0</th>\n",
       "      <th>1</th>\n",
       "      <th>2</th>\n",
       "      <th>3</th>\n",
       "      <th>4</th>\n",
       "      <th>5</th>\n",
       "      <th>6</th>\n",
       "      <th>7</th>\n",
       "      <th>8</th>\n",
       "      <th>9</th>\n",
       "      <th>...</th>\n",
       "      <th>36</th>\n",
       "      <th>37</th>\n",
       "      <th>38</th>\n",
       "      <th>39</th>\n",
       "      <th>40</th>\n",
       "      <th>41</th>\n",
       "      <th>42</th>\n",
       "      <th>43</th>\n",
       "      <th>44</th>\n",
       "      <th>ICU_mortality</th>\n",
       "    </tr>\n",
       "  </thead>\n",
       "  <tbody>\n",
       "    <tr>\n",
       "      <th>0</th>\n",
       "      <td>6.507584</td>\n",
       "      <td>1.229608</td>\n",
       "      <td>3.190237</td>\n",
       "      <td>-0.553391</td>\n",
       "      <td>0.871079</td>\n",
       "      <td>0.377609</td>\n",
       "      <td>-1.049099</td>\n",
       "      <td>2.084738</td>\n",
       "      <td>1.899243</td>\n",
       "      <td>-0.574213</td>\n",
       "      <td>...</td>\n",
       "      <td>-0.402253</td>\n",
       "      <td>0.139637</td>\n",
       "      <td>-0.370247</td>\n",
       "      <td>-0.038923</td>\n",
       "      <td>-0.001697</td>\n",
       "      <td>0.018418</td>\n",
       "      <td>-0.015608</td>\n",
       "      <td>-0.113434</td>\n",
       "      <td>-0.013686</td>\n",
       "      <td>0.0</td>\n",
       "    </tr>\n",
       "    <tr>\n",
       "      <th>1</th>\n",
       "      <td>-0.347942</td>\n",
       "      <td>-2.695771</td>\n",
       "      <td>-0.129913</td>\n",
       "      <td>1.249309</td>\n",
       "      <td>1.788557</td>\n",
       "      <td>-0.862104</td>\n",
       "      <td>0.309911</td>\n",
       "      <td>0.121996</td>\n",
       "      <td>-1.586013</td>\n",
       "      <td>0.131058</td>\n",
       "      <td>...</td>\n",
       "      <td>-0.141196</td>\n",
       "      <td>-0.287450</td>\n",
       "      <td>-0.189287</td>\n",
       "      <td>0.162532</td>\n",
       "      <td>-0.007896</td>\n",
       "      <td>0.090990</td>\n",
       "      <td>0.082331</td>\n",
       "      <td>-0.226100</td>\n",
       "      <td>-0.107936</td>\n",
       "      <td>0.0</td>\n",
       "    </tr>\n",
       "    <tr>\n",
       "      <th>2</th>\n",
       "      <td>-2.907528</td>\n",
       "      <td>4.745350</td>\n",
       "      <td>1.166188</td>\n",
       "      <td>3.038184</td>\n",
       "      <td>-1.997738</td>\n",
       "      <td>-1.735980</td>\n",
       "      <td>6.372877</td>\n",
       "      <td>-2.608954</td>\n",
       "      <td>0.689010</td>\n",
       "      <td>-5.165118</td>\n",
       "      <td>...</td>\n",
       "      <td>-1.034072</td>\n",
       "      <td>0.004012</td>\n",
       "      <td>-0.120608</td>\n",
       "      <td>0.075416</td>\n",
       "      <td>-0.171892</td>\n",
       "      <td>0.097710</td>\n",
       "      <td>0.134345</td>\n",
       "      <td>-0.008937</td>\n",
       "      <td>0.024165</td>\n",
       "      <td>0.0</td>\n",
       "    </tr>\n",
       "    <tr>\n",
       "      <th>3</th>\n",
       "      <td>3.619596</td>\n",
       "      <td>-1.151234</td>\n",
       "      <td>5.326175</td>\n",
       "      <td>0.745470</td>\n",
       "      <td>-1.465736</td>\n",
       "      <td>-0.149709</td>\n",
       "      <td>0.744327</td>\n",
       "      <td>1.314350</td>\n",
       "      <td>-0.716199</td>\n",
       "      <td>0.039095</td>\n",
       "      <td>...</td>\n",
       "      <td>-0.073957</td>\n",
       "      <td>0.525994</td>\n",
       "      <td>-0.126212</td>\n",
       "      <td>-0.559477</td>\n",
       "      <td>0.117427</td>\n",
       "      <td>0.112826</td>\n",
       "      <td>-0.133924</td>\n",
       "      <td>0.084260</td>\n",
       "      <td>-0.117991</td>\n",
       "      <td>0.0</td>\n",
       "    </tr>\n",
       "    <tr>\n",
       "      <th>4</th>\n",
       "      <td>2.576689</td>\n",
       "      <td>-0.486206</td>\n",
       "      <td>0.684148</td>\n",
       "      <td>-2.055802</td>\n",
       "      <td>1.925728</td>\n",
       "      <td>1.631631</td>\n",
       "      <td>2.501827</td>\n",
       "      <td>-0.479897</td>\n",
       "      <td>-0.479069</td>\n",
       "      <td>0.879594</td>\n",
       "      <td>...</td>\n",
       "      <td>-0.384894</td>\n",
       "      <td>-0.030231</td>\n",
       "      <td>0.276641</td>\n",
       "      <td>0.048594</td>\n",
       "      <td>-0.156466</td>\n",
       "      <td>-0.178464</td>\n",
       "      <td>-0.198951</td>\n",
       "      <td>-0.095471</td>\n",
       "      <td>0.096221</td>\n",
       "      <td>0.0</td>\n",
       "    </tr>\n",
       "  </tbody>\n",
       "</table>\n",
       "<p>5 rows × 46 columns</p>\n",
       "</div>"
      ],
      "text/plain": [
       "          0         1         2         3         4         5         6  \\\n",
       "0  6.507584  1.229608  3.190237 -0.553391  0.871079  0.377609 -1.049099   \n",
       "1 -0.347942 -2.695771 -0.129913  1.249309  1.788557 -0.862104  0.309911   \n",
       "2 -2.907528  4.745350  1.166188  3.038184 -1.997738 -1.735980  6.372877   \n",
       "3  3.619596 -1.151234  5.326175  0.745470 -1.465736 -0.149709  0.744327   \n",
       "4  2.576689 -0.486206  0.684148 -2.055802  1.925728  1.631631  2.501827   \n",
       "\n",
       "          7         8         9  ...        36        37        38        39  \\\n",
       "0  2.084738  1.899243 -0.574213  ... -0.402253  0.139637 -0.370247 -0.038923   \n",
       "1  0.121996 -1.586013  0.131058  ... -0.141196 -0.287450 -0.189287  0.162532   \n",
       "2 -2.608954  0.689010 -5.165118  ... -1.034072  0.004012 -0.120608  0.075416   \n",
       "3  1.314350 -0.716199  0.039095  ... -0.073957  0.525994 -0.126212 -0.559477   \n",
       "4 -0.479897 -0.479069  0.879594  ... -0.384894 -0.030231  0.276641  0.048594   \n",
       "\n",
       "         40        41        42        43        44  ICU_mortality  \n",
       "0 -0.001697  0.018418 -0.015608 -0.113434 -0.013686            0.0  \n",
       "1 -0.007896  0.090990  0.082331 -0.226100 -0.107936            0.0  \n",
       "2 -0.171892  0.097710  0.134345 -0.008937  0.024165            0.0  \n",
       "3  0.117427  0.112826 -0.133924  0.084260 -0.117991            0.0  \n",
       "4 -0.156466 -0.178464 -0.198951 -0.095471  0.096221            0.0  \n",
       "\n",
       "[5 rows x 46 columns]"
      ]
     },
     "execution_count": 91,
     "metadata": {},
     "output_type": "execute_result"
    }
   ],
   "source": [
    "train=train.iloc[:975,]\n",
    "train.head()"
   ]
  },
  {
   "cell_type": "code",
   "execution_count": 79,
   "metadata": {},
   "outputs": [
    {
     "data": {
      "text/html": [
       "<style  type=\"text/css\" >\n",
       "#T_9db6a0fe_ef69_11eb_8323_08719011335drow57_col1{\n",
       "            background-color:  lightgreen;\n",
       "        }</style><table id=\"T_9db6a0fe_ef69_11eb_8323_08719011335d\" ><thead>    <tr>        <th class=\"blank level0\" ></th>        <th class=\"col_heading level0 col0\" >Description</th>        <th class=\"col_heading level0 col1\" >Value</th>    </tr></thead><tbody>\n",
       "                <tr>\n",
       "                        <th id=\"T_9db6a0fe_ef69_11eb_8323_08719011335dlevel0_row0\" class=\"row_heading level0 row0\" >0</th>\n",
       "                        <td id=\"T_9db6a0fe_ef69_11eb_8323_08719011335drow0_col0\" class=\"data row0 col0\" >session_id</td>\n",
       "                        <td id=\"T_9db6a0fe_ef69_11eb_8323_08719011335drow0_col1\" class=\"data row0 col1\" >4127</td>\n",
       "            </tr>\n",
       "            <tr>\n",
       "                        <th id=\"T_9db6a0fe_ef69_11eb_8323_08719011335dlevel0_row1\" class=\"row_heading level0 row1\" >1</th>\n",
       "                        <td id=\"T_9db6a0fe_ef69_11eb_8323_08719011335drow1_col0\" class=\"data row1 col0\" >Target</td>\n",
       "                        <td id=\"T_9db6a0fe_ef69_11eb_8323_08719011335drow1_col1\" class=\"data row1 col1\" >ICU_mortality</td>\n",
       "            </tr>\n",
       "            <tr>\n",
       "                        <th id=\"T_9db6a0fe_ef69_11eb_8323_08719011335dlevel0_row2\" class=\"row_heading level0 row2\" >2</th>\n",
       "                        <td id=\"T_9db6a0fe_ef69_11eb_8323_08719011335drow2_col0\" class=\"data row2 col0\" >Target Type</td>\n",
       "                        <td id=\"T_9db6a0fe_ef69_11eb_8323_08719011335drow2_col1\" class=\"data row2 col1\" >Binary</td>\n",
       "            </tr>\n",
       "            <tr>\n",
       "                        <th id=\"T_9db6a0fe_ef69_11eb_8323_08719011335dlevel0_row3\" class=\"row_heading level0 row3\" >3</th>\n",
       "                        <td id=\"T_9db6a0fe_ef69_11eb_8323_08719011335drow3_col0\" class=\"data row3 col0\" >Label Encoded</td>\n",
       "                        <td id=\"T_9db6a0fe_ef69_11eb_8323_08719011335drow3_col1\" class=\"data row3 col1\" >0: 0, 1: 1</td>\n",
       "            </tr>\n",
       "            <tr>\n",
       "                        <th id=\"T_9db6a0fe_ef69_11eb_8323_08719011335dlevel0_row4\" class=\"row_heading level0 row4\" >4</th>\n",
       "                        <td id=\"T_9db6a0fe_ef69_11eb_8323_08719011335drow4_col0\" class=\"data row4 col0\" >Original Data</td>\n",
       "                        <td id=\"T_9db6a0fe_ef69_11eb_8323_08719011335drow4_col1\" class=\"data row4 col1\" >(976, 64)</td>\n",
       "            </tr>\n",
       "            <tr>\n",
       "                        <th id=\"T_9db6a0fe_ef69_11eb_8323_08719011335dlevel0_row5\" class=\"row_heading level0 row5\" >5</th>\n",
       "                        <td id=\"T_9db6a0fe_ef69_11eb_8323_08719011335drow5_col0\" class=\"data row5 col0\" >Missing Values</td>\n",
       "                        <td id=\"T_9db6a0fe_ef69_11eb_8323_08719011335drow5_col1\" class=\"data row5 col1\" >False</td>\n",
       "            </tr>\n",
       "            <tr>\n",
       "                        <th id=\"T_9db6a0fe_ef69_11eb_8323_08719011335dlevel0_row6\" class=\"row_heading level0 row6\" >6</th>\n",
       "                        <td id=\"T_9db6a0fe_ef69_11eb_8323_08719011335drow6_col0\" class=\"data row6 col0\" >Numeric Features</td>\n",
       "                        <td id=\"T_9db6a0fe_ef69_11eb_8323_08719011335drow6_col1\" class=\"data row6 col1\" >58</td>\n",
       "            </tr>\n",
       "            <tr>\n",
       "                        <th id=\"T_9db6a0fe_ef69_11eb_8323_08719011335dlevel0_row7\" class=\"row_heading level0 row7\" >7</th>\n",
       "                        <td id=\"T_9db6a0fe_ef69_11eb_8323_08719011335drow7_col0\" class=\"data row7 col0\" >Categorical Features</td>\n",
       "                        <td id=\"T_9db6a0fe_ef69_11eb_8323_08719011335drow7_col1\" class=\"data row7 col1\" >5</td>\n",
       "            </tr>\n",
       "            <tr>\n",
       "                        <th id=\"T_9db6a0fe_ef69_11eb_8323_08719011335dlevel0_row8\" class=\"row_heading level0 row8\" >8</th>\n",
       "                        <td id=\"T_9db6a0fe_ef69_11eb_8323_08719011335drow8_col0\" class=\"data row8 col0\" >Ordinal Features</td>\n",
       "                        <td id=\"T_9db6a0fe_ef69_11eb_8323_08719011335drow8_col1\" class=\"data row8 col1\" >False</td>\n",
       "            </tr>\n",
       "            <tr>\n",
       "                        <th id=\"T_9db6a0fe_ef69_11eb_8323_08719011335dlevel0_row9\" class=\"row_heading level0 row9\" >9</th>\n",
       "                        <td id=\"T_9db6a0fe_ef69_11eb_8323_08719011335drow9_col0\" class=\"data row9 col0\" >High Cardinality Features</td>\n",
       "                        <td id=\"T_9db6a0fe_ef69_11eb_8323_08719011335drow9_col1\" class=\"data row9 col1\" >False</td>\n",
       "            </tr>\n",
       "            <tr>\n",
       "                        <th id=\"T_9db6a0fe_ef69_11eb_8323_08719011335dlevel0_row10\" class=\"row_heading level0 row10\" >10</th>\n",
       "                        <td id=\"T_9db6a0fe_ef69_11eb_8323_08719011335drow10_col0\" class=\"data row10 col0\" >High Cardinality Method</td>\n",
       "                        <td id=\"T_9db6a0fe_ef69_11eb_8323_08719011335drow10_col1\" class=\"data row10 col1\" >None</td>\n",
       "            </tr>\n",
       "            <tr>\n",
       "                        <th id=\"T_9db6a0fe_ef69_11eb_8323_08719011335dlevel0_row11\" class=\"row_heading level0 row11\" >11</th>\n",
       "                        <td id=\"T_9db6a0fe_ef69_11eb_8323_08719011335drow11_col0\" class=\"data row11 col0\" >Transformed Train Set</td>\n",
       "                        <td id=\"T_9db6a0fe_ef69_11eb_8323_08719011335drow11_col1\" class=\"data row11 col1\" >(683, 61)</td>\n",
       "            </tr>\n",
       "            <tr>\n",
       "                        <th id=\"T_9db6a0fe_ef69_11eb_8323_08719011335dlevel0_row12\" class=\"row_heading level0 row12\" >12</th>\n",
       "                        <td id=\"T_9db6a0fe_ef69_11eb_8323_08719011335drow12_col0\" class=\"data row12 col0\" >Transformed Test Set</td>\n",
       "                        <td id=\"T_9db6a0fe_ef69_11eb_8323_08719011335drow12_col1\" class=\"data row12 col1\" >(293, 61)</td>\n",
       "            </tr>\n",
       "            <tr>\n",
       "                        <th id=\"T_9db6a0fe_ef69_11eb_8323_08719011335dlevel0_row13\" class=\"row_heading level0 row13\" >13</th>\n",
       "                        <td id=\"T_9db6a0fe_ef69_11eb_8323_08719011335drow13_col0\" class=\"data row13 col0\" >Shuffle Train-Test</td>\n",
       "                        <td id=\"T_9db6a0fe_ef69_11eb_8323_08719011335drow13_col1\" class=\"data row13 col1\" >True</td>\n",
       "            </tr>\n",
       "            <tr>\n",
       "                        <th id=\"T_9db6a0fe_ef69_11eb_8323_08719011335dlevel0_row14\" class=\"row_heading level0 row14\" >14</th>\n",
       "                        <td id=\"T_9db6a0fe_ef69_11eb_8323_08719011335drow14_col0\" class=\"data row14 col0\" >Stratify Train-Test</td>\n",
       "                        <td id=\"T_9db6a0fe_ef69_11eb_8323_08719011335drow14_col1\" class=\"data row14 col1\" >True</td>\n",
       "            </tr>\n",
       "            <tr>\n",
       "                        <th id=\"T_9db6a0fe_ef69_11eb_8323_08719011335dlevel0_row15\" class=\"row_heading level0 row15\" >15</th>\n",
       "                        <td id=\"T_9db6a0fe_ef69_11eb_8323_08719011335drow15_col0\" class=\"data row15 col0\" >Fold Generator</td>\n",
       "                        <td id=\"T_9db6a0fe_ef69_11eb_8323_08719011335drow15_col1\" class=\"data row15 col1\" >StratifiedKFold</td>\n",
       "            </tr>\n",
       "            <tr>\n",
       "                        <th id=\"T_9db6a0fe_ef69_11eb_8323_08719011335dlevel0_row16\" class=\"row_heading level0 row16\" >16</th>\n",
       "                        <td id=\"T_9db6a0fe_ef69_11eb_8323_08719011335drow16_col0\" class=\"data row16 col0\" >Fold Number</td>\n",
       "                        <td id=\"T_9db6a0fe_ef69_11eb_8323_08719011335drow16_col1\" class=\"data row16 col1\" >10</td>\n",
       "            </tr>\n",
       "            <tr>\n",
       "                        <th id=\"T_9db6a0fe_ef69_11eb_8323_08719011335dlevel0_row17\" class=\"row_heading level0 row17\" >17</th>\n",
       "                        <td id=\"T_9db6a0fe_ef69_11eb_8323_08719011335drow17_col0\" class=\"data row17 col0\" >CPU Jobs</td>\n",
       "                        <td id=\"T_9db6a0fe_ef69_11eb_8323_08719011335drow17_col1\" class=\"data row17 col1\" >-1</td>\n",
       "            </tr>\n",
       "            <tr>\n",
       "                        <th id=\"T_9db6a0fe_ef69_11eb_8323_08719011335dlevel0_row18\" class=\"row_heading level0 row18\" >18</th>\n",
       "                        <td id=\"T_9db6a0fe_ef69_11eb_8323_08719011335drow18_col0\" class=\"data row18 col0\" >Use GPU</td>\n",
       "                        <td id=\"T_9db6a0fe_ef69_11eb_8323_08719011335drow18_col1\" class=\"data row18 col1\" >False</td>\n",
       "            </tr>\n",
       "            <tr>\n",
       "                        <th id=\"T_9db6a0fe_ef69_11eb_8323_08719011335dlevel0_row19\" class=\"row_heading level0 row19\" >19</th>\n",
       "                        <td id=\"T_9db6a0fe_ef69_11eb_8323_08719011335drow19_col0\" class=\"data row19 col0\" >Log Experiment</td>\n",
       "                        <td id=\"T_9db6a0fe_ef69_11eb_8323_08719011335drow19_col1\" class=\"data row19 col1\" >False</td>\n",
       "            </tr>\n",
       "            <tr>\n",
       "                        <th id=\"T_9db6a0fe_ef69_11eb_8323_08719011335dlevel0_row20\" class=\"row_heading level0 row20\" >20</th>\n",
       "                        <td id=\"T_9db6a0fe_ef69_11eb_8323_08719011335drow20_col0\" class=\"data row20 col0\" >Experiment Name</td>\n",
       "                        <td id=\"T_9db6a0fe_ef69_11eb_8323_08719011335drow20_col1\" class=\"data row20 col1\" >clf-default-name</td>\n",
       "            </tr>\n",
       "            <tr>\n",
       "                        <th id=\"T_9db6a0fe_ef69_11eb_8323_08719011335dlevel0_row21\" class=\"row_heading level0 row21\" >21</th>\n",
       "                        <td id=\"T_9db6a0fe_ef69_11eb_8323_08719011335drow21_col0\" class=\"data row21 col0\" >USI</td>\n",
       "                        <td id=\"T_9db6a0fe_ef69_11eb_8323_08719011335drow21_col1\" class=\"data row21 col1\" >4309</td>\n",
       "            </tr>\n",
       "            <tr>\n",
       "                        <th id=\"T_9db6a0fe_ef69_11eb_8323_08719011335dlevel0_row22\" class=\"row_heading level0 row22\" >22</th>\n",
       "                        <td id=\"T_9db6a0fe_ef69_11eb_8323_08719011335drow22_col0\" class=\"data row22 col0\" >Imputation Type</td>\n",
       "                        <td id=\"T_9db6a0fe_ef69_11eb_8323_08719011335drow22_col1\" class=\"data row22 col1\" >simple</td>\n",
       "            </tr>\n",
       "            <tr>\n",
       "                        <th id=\"T_9db6a0fe_ef69_11eb_8323_08719011335dlevel0_row23\" class=\"row_heading level0 row23\" >23</th>\n",
       "                        <td id=\"T_9db6a0fe_ef69_11eb_8323_08719011335drow23_col0\" class=\"data row23 col0\" >Iterative Imputation Iteration</td>\n",
       "                        <td id=\"T_9db6a0fe_ef69_11eb_8323_08719011335drow23_col1\" class=\"data row23 col1\" >None</td>\n",
       "            </tr>\n",
       "            <tr>\n",
       "                        <th id=\"T_9db6a0fe_ef69_11eb_8323_08719011335dlevel0_row24\" class=\"row_heading level0 row24\" >24</th>\n",
       "                        <td id=\"T_9db6a0fe_ef69_11eb_8323_08719011335drow24_col0\" class=\"data row24 col0\" >Numeric Imputer</td>\n",
       "                        <td id=\"T_9db6a0fe_ef69_11eb_8323_08719011335drow24_col1\" class=\"data row24 col1\" >mean</td>\n",
       "            </tr>\n",
       "            <tr>\n",
       "                        <th id=\"T_9db6a0fe_ef69_11eb_8323_08719011335dlevel0_row25\" class=\"row_heading level0 row25\" >25</th>\n",
       "                        <td id=\"T_9db6a0fe_ef69_11eb_8323_08719011335drow25_col0\" class=\"data row25 col0\" >Iterative Imputation Numeric Model</td>\n",
       "                        <td id=\"T_9db6a0fe_ef69_11eb_8323_08719011335drow25_col1\" class=\"data row25 col1\" >None</td>\n",
       "            </tr>\n",
       "            <tr>\n",
       "                        <th id=\"T_9db6a0fe_ef69_11eb_8323_08719011335dlevel0_row26\" class=\"row_heading level0 row26\" >26</th>\n",
       "                        <td id=\"T_9db6a0fe_ef69_11eb_8323_08719011335drow26_col0\" class=\"data row26 col0\" >Categorical Imputer</td>\n",
       "                        <td id=\"T_9db6a0fe_ef69_11eb_8323_08719011335drow26_col1\" class=\"data row26 col1\" >constant</td>\n",
       "            </tr>\n",
       "            <tr>\n",
       "                        <th id=\"T_9db6a0fe_ef69_11eb_8323_08719011335dlevel0_row27\" class=\"row_heading level0 row27\" >27</th>\n",
       "                        <td id=\"T_9db6a0fe_ef69_11eb_8323_08719011335drow27_col0\" class=\"data row27 col0\" >Iterative Imputation Categorical Model</td>\n",
       "                        <td id=\"T_9db6a0fe_ef69_11eb_8323_08719011335drow27_col1\" class=\"data row27 col1\" >None</td>\n",
       "            </tr>\n",
       "            <tr>\n",
       "                        <th id=\"T_9db6a0fe_ef69_11eb_8323_08719011335dlevel0_row28\" class=\"row_heading level0 row28\" >28</th>\n",
       "                        <td id=\"T_9db6a0fe_ef69_11eb_8323_08719011335drow28_col0\" class=\"data row28 col0\" >Unknown Categoricals Handling</td>\n",
       "                        <td id=\"T_9db6a0fe_ef69_11eb_8323_08719011335drow28_col1\" class=\"data row28 col1\" >least_frequent</td>\n",
       "            </tr>\n",
       "            <tr>\n",
       "                        <th id=\"T_9db6a0fe_ef69_11eb_8323_08719011335dlevel0_row29\" class=\"row_heading level0 row29\" >29</th>\n",
       "                        <td id=\"T_9db6a0fe_ef69_11eb_8323_08719011335drow29_col0\" class=\"data row29 col0\" >Normalize</td>\n",
       "                        <td id=\"T_9db6a0fe_ef69_11eb_8323_08719011335drow29_col1\" class=\"data row29 col1\" >False</td>\n",
       "            </tr>\n",
       "            <tr>\n",
       "                        <th id=\"T_9db6a0fe_ef69_11eb_8323_08719011335dlevel0_row30\" class=\"row_heading level0 row30\" >30</th>\n",
       "                        <td id=\"T_9db6a0fe_ef69_11eb_8323_08719011335drow30_col0\" class=\"data row30 col0\" >Normalize Method</td>\n",
       "                        <td id=\"T_9db6a0fe_ef69_11eb_8323_08719011335drow30_col1\" class=\"data row30 col1\" >None</td>\n",
       "            </tr>\n",
       "            <tr>\n",
       "                        <th id=\"T_9db6a0fe_ef69_11eb_8323_08719011335dlevel0_row31\" class=\"row_heading level0 row31\" >31</th>\n",
       "                        <td id=\"T_9db6a0fe_ef69_11eb_8323_08719011335drow31_col0\" class=\"data row31 col0\" >Transformation</td>\n",
       "                        <td id=\"T_9db6a0fe_ef69_11eb_8323_08719011335drow31_col1\" class=\"data row31 col1\" >False</td>\n",
       "            </tr>\n",
       "            <tr>\n",
       "                        <th id=\"T_9db6a0fe_ef69_11eb_8323_08719011335dlevel0_row32\" class=\"row_heading level0 row32\" >32</th>\n",
       "                        <td id=\"T_9db6a0fe_ef69_11eb_8323_08719011335drow32_col0\" class=\"data row32 col0\" >Transformation Method</td>\n",
       "                        <td id=\"T_9db6a0fe_ef69_11eb_8323_08719011335drow32_col1\" class=\"data row32 col1\" >None</td>\n",
       "            </tr>\n",
       "            <tr>\n",
       "                        <th id=\"T_9db6a0fe_ef69_11eb_8323_08719011335dlevel0_row33\" class=\"row_heading level0 row33\" >33</th>\n",
       "                        <td id=\"T_9db6a0fe_ef69_11eb_8323_08719011335drow33_col0\" class=\"data row33 col0\" >PCA</td>\n",
       "                        <td id=\"T_9db6a0fe_ef69_11eb_8323_08719011335drow33_col1\" class=\"data row33 col1\" >False</td>\n",
       "            </tr>\n",
       "            <tr>\n",
       "                        <th id=\"T_9db6a0fe_ef69_11eb_8323_08719011335dlevel0_row34\" class=\"row_heading level0 row34\" >34</th>\n",
       "                        <td id=\"T_9db6a0fe_ef69_11eb_8323_08719011335drow34_col0\" class=\"data row34 col0\" >PCA Method</td>\n",
       "                        <td id=\"T_9db6a0fe_ef69_11eb_8323_08719011335drow34_col1\" class=\"data row34 col1\" >None</td>\n",
       "            </tr>\n",
       "            <tr>\n",
       "                        <th id=\"T_9db6a0fe_ef69_11eb_8323_08719011335dlevel0_row35\" class=\"row_heading level0 row35\" >35</th>\n",
       "                        <td id=\"T_9db6a0fe_ef69_11eb_8323_08719011335drow35_col0\" class=\"data row35 col0\" >PCA Components</td>\n",
       "                        <td id=\"T_9db6a0fe_ef69_11eb_8323_08719011335drow35_col1\" class=\"data row35 col1\" >None</td>\n",
       "            </tr>\n",
       "            <tr>\n",
       "                        <th id=\"T_9db6a0fe_ef69_11eb_8323_08719011335dlevel0_row36\" class=\"row_heading level0 row36\" >36</th>\n",
       "                        <td id=\"T_9db6a0fe_ef69_11eb_8323_08719011335drow36_col0\" class=\"data row36 col0\" >Ignore Low Variance</td>\n",
       "                        <td id=\"T_9db6a0fe_ef69_11eb_8323_08719011335drow36_col1\" class=\"data row36 col1\" >False</td>\n",
       "            </tr>\n",
       "            <tr>\n",
       "                        <th id=\"T_9db6a0fe_ef69_11eb_8323_08719011335dlevel0_row37\" class=\"row_heading level0 row37\" >37</th>\n",
       "                        <td id=\"T_9db6a0fe_ef69_11eb_8323_08719011335drow37_col0\" class=\"data row37 col0\" >Combine Rare Levels</td>\n",
       "                        <td id=\"T_9db6a0fe_ef69_11eb_8323_08719011335drow37_col1\" class=\"data row37 col1\" >False</td>\n",
       "            </tr>\n",
       "            <tr>\n",
       "                        <th id=\"T_9db6a0fe_ef69_11eb_8323_08719011335dlevel0_row38\" class=\"row_heading level0 row38\" >38</th>\n",
       "                        <td id=\"T_9db6a0fe_ef69_11eb_8323_08719011335drow38_col0\" class=\"data row38 col0\" >Rare Level Threshold</td>\n",
       "                        <td id=\"T_9db6a0fe_ef69_11eb_8323_08719011335drow38_col1\" class=\"data row38 col1\" >None</td>\n",
       "            </tr>\n",
       "            <tr>\n",
       "                        <th id=\"T_9db6a0fe_ef69_11eb_8323_08719011335dlevel0_row39\" class=\"row_heading level0 row39\" >39</th>\n",
       "                        <td id=\"T_9db6a0fe_ef69_11eb_8323_08719011335drow39_col0\" class=\"data row39 col0\" >Numeric Binning</td>\n",
       "                        <td id=\"T_9db6a0fe_ef69_11eb_8323_08719011335drow39_col1\" class=\"data row39 col1\" >False</td>\n",
       "            </tr>\n",
       "            <tr>\n",
       "                        <th id=\"T_9db6a0fe_ef69_11eb_8323_08719011335dlevel0_row40\" class=\"row_heading level0 row40\" >40</th>\n",
       "                        <td id=\"T_9db6a0fe_ef69_11eb_8323_08719011335drow40_col0\" class=\"data row40 col0\" >Remove Outliers</td>\n",
       "                        <td id=\"T_9db6a0fe_ef69_11eb_8323_08719011335drow40_col1\" class=\"data row40 col1\" >False</td>\n",
       "            </tr>\n",
       "            <tr>\n",
       "                        <th id=\"T_9db6a0fe_ef69_11eb_8323_08719011335dlevel0_row41\" class=\"row_heading level0 row41\" >41</th>\n",
       "                        <td id=\"T_9db6a0fe_ef69_11eb_8323_08719011335drow41_col0\" class=\"data row41 col0\" >Outliers Threshold</td>\n",
       "                        <td id=\"T_9db6a0fe_ef69_11eb_8323_08719011335drow41_col1\" class=\"data row41 col1\" >None</td>\n",
       "            </tr>\n",
       "            <tr>\n",
       "                        <th id=\"T_9db6a0fe_ef69_11eb_8323_08719011335dlevel0_row42\" class=\"row_heading level0 row42\" >42</th>\n",
       "                        <td id=\"T_9db6a0fe_ef69_11eb_8323_08719011335drow42_col0\" class=\"data row42 col0\" >Remove Multicollinearity</td>\n",
       "                        <td id=\"T_9db6a0fe_ef69_11eb_8323_08719011335drow42_col1\" class=\"data row42 col1\" >False</td>\n",
       "            </tr>\n",
       "            <tr>\n",
       "                        <th id=\"T_9db6a0fe_ef69_11eb_8323_08719011335dlevel0_row43\" class=\"row_heading level0 row43\" >43</th>\n",
       "                        <td id=\"T_9db6a0fe_ef69_11eb_8323_08719011335drow43_col0\" class=\"data row43 col0\" >Multicollinearity Threshold</td>\n",
       "                        <td id=\"T_9db6a0fe_ef69_11eb_8323_08719011335drow43_col1\" class=\"data row43 col1\" >None</td>\n",
       "            </tr>\n",
       "            <tr>\n",
       "                        <th id=\"T_9db6a0fe_ef69_11eb_8323_08719011335dlevel0_row44\" class=\"row_heading level0 row44\" >44</th>\n",
       "                        <td id=\"T_9db6a0fe_ef69_11eb_8323_08719011335drow44_col0\" class=\"data row44 col0\" >Clustering</td>\n",
       "                        <td id=\"T_9db6a0fe_ef69_11eb_8323_08719011335drow44_col1\" class=\"data row44 col1\" >False</td>\n",
       "            </tr>\n",
       "            <tr>\n",
       "                        <th id=\"T_9db6a0fe_ef69_11eb_8323_08719011335dlevel0_row45\" class=\"row_heading level0 row45\" >45</th>\n",
       "                        <td id=\"T_9db6a0fe_ef69_11eb_8323_08719011335drow45_col0\" class=\"data row45 col0\" >Clustering Iteration</td>\n",
       "                        <td id=\"T_9db6a0fe_ef69_11eb_8323_08719011335drow45_col1\" class=\"data row45 col1\" >None</td>\n",
       "            </tr>\n",
       "            <tr>\n",
       "                        <th id=\"T_9db6a0fe_ef69_11eb_8323_08719011335dlevel0_row46\" class=\"row_heading level0 row46\" >46</th>\n",
       "                        <td id=\"T_9db6a0fe_ef69_11eb_8323_08719011335drow46_col0\" class=\"data row46 col0\" >Polynomial Features</td>\n",
       "                        <td id=\"T_9db6a0fe_ef69_11eb_8323_08719011335drow46_col1\" class=\"data row46 col1\" >False</td>\n",
       "            </tr>\n",
       "            <tr>\n",
       "                        <th id=\"T_9db6a0fe_ef69_11eb_8323_08719011335dlevel0_row47\" class=\"row_heading level0 row47\" >47</th>\n",
       "                        <td id=\"T_9db6a0fe_ef69_11eb_8323_08719011335drow47_col0\" class=\"data row47 col0\" >Polynomial Degree</td>\n",
       "                        <td id=\"T_9db6a0fe_ef69_11eb_8323_08719011335drow47_col1\" class=\"data row47 col1\" >None</td>\n",
       "            </tr>\n",
       "            <tr>\n",
       "                        <th id=\"T_9db6a0fe_ef69_11eb_8323_08719011335dlevel0_row48\" class=\"row_heading level0 row48\" >48</th>\n",
       "                        <td id=\"T_9db6a0fe_ef69_11eb_8323_08719011335drow48_col0\" class=\"data row48 col0\" >Trignometry Features</td>\n",
       "                        <td id=\"T_9db6a0fe_ef69_11eb_8323_08719011335drow48_col1\" class=\"data row48 col1\" >False</td>\n",
       "            </tr>\n",
       "            <tr>\n",
       "                        <th id=\"T_9db6a0fe_ef69_11eb_8323_08719011335dlevel0_row49\" class=\"row_heading level0 row49\" >49</th>\n",
       "                        <td id=\"T_9db6a0fe_ef69_11eb_8323_08719011335drow49_col0\" class=\"data row49 col0\" >Polynomial Threshold</td>\n",
       "                        <td id=\"T_9db6a0fe_ef69_11eb_8323_08719011335drow49_col1\" class=\"data row49 col1\" >None</td>\n",
       "            </tr>\n",
       "            <tr>\n",
       "                        <th id=\"T_9db6a0fe_ef69_11eb_8323_08719011335dlevel0_row50\" class=\"row_heading level0 row50\" >50</th>\n",
       "                        <td id=\"T_9db6a0fe_ef69_11eb_8323_08719011335drow50_col0\" class=\"data row50 col0\" >Group Features</td>\n",
       "                        <td id=\"T_9db6a0fe_ef69_11eb_8323_08719011335drow50_col1\" class=\"data row50 col1\" >False</td>\n",
       "            </tr>\n",
       "            <tr>\n",
       "                        <th id=\"T_9db6a0fe_ef69_11eb_8323_08719011335dlevel0_row51\" class=\"row_heading level0 row51\" >51</th>\n",
       "                        <td id=\"T_9db6a0fe_ef69_11eb_8323_08719011335drow51_col0\" class=\"data row51 col0\" >Feature Selection</td>\n",
       "                        <td id=\"T_9db6a0fe_ef69_11eb_8323_08719011335drow51_col1\" class=\"data row51 col1\" >False</td>\n",
       "            </tr>\n",
       "            <tr>\n",
       "                        <th id=\"T_9db6a0fe_ef69_11eb_8323_08719011335dlevel0_row52\" class=\"row_heading level0 row52\" >52</th>\n",
       "                        <td id=\"T_9db6a0fe_ef69_11eb_8323_08719011335drow52_col0\" class=\"data row52 col0\" >Feature Selection Method</td>\n",
       "                        <td id=\"T_9db6a0fe_ef69_11eb_8323_08719011335drow52_col1\" class=\"data row52 col1\" >classic</td>\n",
       "            </tr>\n",
       "            <tr>\n",
       "                        <th id=\"T_9db6a0fe_ef69_11eb_8323_08719011335dlevel0_row53\" class=\"row_heading level0 row53\" >53</th>\n",
       "                        <td id=\"T_9db6a0fe_ef69_11eb_8323_08719011335drow53_col0\" class=\"data row53 col0\" >Features Selection Threshold</td>\n",
       "                        <td id=\"T_9db6a0fe_ef69_11eb_8323_08719011335drow53_col1\" class=\"data row53 col1\" >None</td>\n",
       "            </tr>\n",
       "            <tr>\n",
       "                        <th id=\"T_9db6a0fe_ef69_11eb_8323_08719011335dlevel0_row54\" class=\"row_heading level0 row54\" >54</th>\n",
       "                        <td id=\"T_9db6a0fe_ef69_11eb_8323_08719011335drow54_col0\" class=\"data row54 col0\" >Feature Interaction</td>\n",
       "                        <td id=\"T_9db6a0fe_ef69_11eb_8323_08719011335drow54_col1\" class=\"data row54 col1\" >False</td>\n",
       "            </tr>\n",
       "            <tr>\n",
       "                        <th id=\"T_9db6a0fe_ef69_11eb_8323_08719011335dlevel0_row55\" class=\"row_heading level0 row55\" >55</th>\n",
       "                        <td id=\"T_9db6a0fe_ef69_11eb_8323_08719011335drow55_col0\" class=\"data row55 col0\" >Feature Ratio</td>\n",
       "                        <td id=\"T_9db6a0fe_ef69_11eb_8323_08719011335drow55_col1\" class=\"data row55 col1\" >False</td>\n",
       "            </tr>\n",
       "            <tr>\n",
       "                        <th id=\"T_9db6a0fe_ef69_11eb_8323_08719011335dlevel0_row56\" class=\"row_heading level0 row56\" >56</th>\n",
       "                        <td id=\"T_9db6a0fe_ef69_11eb_8323_08719011335drow56_col0\" class=\"data row56 col0\" >Interaction Threshold</td>\n",
       "                        <td id=\"T_9db6a0fe_ef69_11eb_8323_08719011335drow56_col1\" class=\"data row56 col1\" >None</td>\n",
       "            </tr>\n",
       "            <tr>\n",
       "                        <th id=\"T_9db6a0fe_ef69_11eb_8323_08719011335dlevel0_row57\" class=\"row_heading level0 row57\" >57</th>\n",
       "                        <td id=\"T_9db6a0fe_ef69_11eb_8323_08719011335drow57_col0\" class=\"data row57 col0\" >Fix Imbalance</td>\n",
       "                        <td id=\"T_9db6a0fe_ef69_11eb_8323_08719011335drow57_col1\" class=\"data row57 col1\" >True</td>\n",
       "            </tr>\n",
       "            <tr>\n",
       "                        <th id=\"T_9db6a0fe_ef69_11eb_8323_08719011335dlevel0_row58\" class=\"row_heading level0 row58\" >58</th>\n",
       "                        <td id=\"T_9db6a0fe_ef69_11eb_8323_08719011335drow58_col0\" class=\"data row58 col0\" >Fix Imbalance Method</td>\n",
       "                        <td id=\"T_9db6a0fe_ef69_11eb_8323_08719011335drow58_col1\" class=\"data row58 col1\" >SMOTE</td>\n",
       "            </tr>\n",
       "    </tbody></table>"
      ],
      "text/plain": [
       "<pandas.io.formats.style.Styler at 0x24532a8fe80>"
      ]
     },
     "metadata": {},
     "output_type": "display_data"
    }
   ],
   "source": [
    "from pycaret.classification import *\n",
    "model_setup = setup(data=dataset, target='ICU_mortality', data_split_stratify = True,fix_imbalance=True)"
   ]
  },
  {
   "cell_type": "code",
   "execution_count": 80,
   "metadata": {},
   "outputs": [
    {
     "data": {
      "text/html": [
       "<style  type=\"text/css\" >\n",
       "    #T_a63eddee_ef69_11eb_b78b_08719011335d th {\n",
       "          text-align: left;\n",
       "    }#T_a63eddee_ef69_11eb_b78b_08719011335drow0_col0,#T_a63eddee_ef69_11eb_b78b_08719011335drow0_col2,#T_a63eddee_ef69_11eb_b78b_08719011335drow0_col3,#T_a63eddee_ef69_11eb_b78b_08719011335drow0_col5,#T_a63eddee_ef69_11eb_b78b_08719011335drow1_col0,#T_a63eddee_ef69_11eb_b78b_08719011335drow1_col3,#T_a63eddee_ef69_11eb_b78b_08719011335drow1_col4,#T_a63eddee_ef69_11eb_b78b_08719011335drow1_col5,#T_a63eddee_ef69_11eb_b78b_08719011335drow1_col6,#T_a63eddee_ef69_11eb_b78b_08719011335drow1_col7,#T_a63eddee_ef69_11eb_b78b_08719011335drow2_col0,#T_a63eddee_ef69_11eb_b78b_08719011335drow2_col1,#T_a63eddee_ef69_11eb_b78b_08719011335drow2_col2,#T_a63eddee_ef69_11eb_b78b_08719011335drow2_col3,#T_a63eddee_ef69_11eb_b78b_08719011335drow2_col4,#T_a63eddee_ef69_11eb_b78b_08719011335drow2_col5,#T_a63eddee_ef69_11eb_b78b_08719011335drow2_col6,#T_a63eddee_ef69_11eb_b78b_08719011335drow2_col7,#T_a63eddee_ef69_11eb_b78b_08719011335drow3_col0,#T_a63eddee_ef69_11eb_b78b_08719011335drow3_col1,#T_a63eddee_ef69_11eb_b78b_08719011335drow3_col2,#T_a63eddee_ef69_11eb_b78b_08719011335drow3_col3,#T_a63eddee_ef69_11eb_b78b_08719011335drow3_col4,#T_a63eddee_ef69_11eb_b78b_08719011335drow3_col5,#T_a63eddee_ef69_11eb_b78b_08719011335drow3_col6,#T_a63eddee_ef69_11eb_b78b_08719011335drow3_col7,#T_a63eddee_ef69_11eb_b78b_08719011335drow4_col0,#T_a63eddee_ef69_11eb_b78b_08719011335drow4_col1,#T_a63eddee_ef69_11eb_b78b_08719011335drow4_col2,#T_a63eddee_ef69_11eb_b78b_08719011335drow4_col3,#T_a63eddee_ef69_11eb_b78b_08719011335drow4_col4,#T_a63eddee_ef69_11eb_b78b_08719011335drow4_col5,#T_a63eddee_ef69_11eb_b78b_08719011335drow4_col6,#T_a63eddee_ef69_11eb_b78b_08719011335drow4_col7,#T_a63eddee_ef69_11eb_b78b_08719011335drow5_col0,#T_a63eddee_ef69_11eb_b78b_08719011335drow5_col1,#T_a63eddee_ef69_11eb_b78b_08719011335drow5_col2,#T_a63eddee_ef69_11eb_b78b_08719011335drow5_col3,#T_a63eddee_ef69_11eb_b78b_08719011335drow5_col4,#T_a63eddee_ef69_11eb_b78b_08719011335drow5_col5,#T_a63eddee_ef69_11eb_b78b_08719011335drow5_col6,#T_a63eddee_ef69_11eb_b78b_08719011335drow5_col7,#T_a63eddee_ef69_11eb_b78b_08719011335drow6_col0,#T_a63eddee_ef69_11eb_b78b_08719011335drow6_col1,#T_a63eddee_ef69_11eb_b78b_08719011335drow6_col2,#T_a63eddee_ef69_11eb_b78b_08719011335drow6_col3,#T_a63eddee_ef69_11eb_b78b_08719011335drow6_col4,#T_a63eddee_ef69_11eb_b78b_08719011335drow6_col5,#T_a63eddee_ef69_11eb_b78b_08719011335drow6_col6,#T_a63eddee_ef69_11eb_b78b_08719011335drow6_col7,#T_a63eddee_ef69_11eb_b78b_08719011335drow7_col0,#T_a63eddee_ef69_11eb_b78b_08719011335drow7_col1,#T_a63eddee_ef69_11eb_b78b_08719011335drow7_col2,#T_a63eddee_ef69_11eb_b78b_08719011335drow7_col3,#T_a63eddee_ef69_11eb_b78b_08719011335drow7_col4,#T_a63eddee_ef69_11eb_b78b_08719011335drow7_col5,#T_a63eddee_ef69_11eb_b78b_08719011335drow7_col6,#T_a63eddee_ef69_11eb_b78b_08719011335drow7_col7,#T_a63eddee_ef69_11eb_b78b_08719011335drow8_col0,#T_a63eddee_ef69_11eb_b78b_08719011335drow8_col1,#T_a63eddee_ef69_11eb_b78b_08719011335drow8_col2,#T_a63eddee_ef69_11eb_b78b_08719011335drow8_col3,#T_a63eddee_ef69_11eb_b78b_08719011335drow8_col4,#T_a63eddee_ef69_11eb_b78b_08719011335drow8_col5,#T_a63eddee_ef69_11eb_b78b_08719011335drow8_col6,#T_a63eddee_ef69_11eb_b78b_08719011335drow8_col7,#T_a63eddee_ef69_11eb_b78b_08719011335drow9_col0,#T_a63eddee_ef69_11eb_b78b_08719011335drow9_col1,#T_a63eddee_ef69_11eb_b78b_08719011335drow9_col2,#T_a63eddee_ef69_11eb_b78b_08719011335drow9_col3,#T_a63eddee_ef69_11eb_b78b_08719011335drow9_col4,#T_a63eddee_ef69_11eb_b78b_08719011335drow9_col5,#T_a63eddee_ef69_11eb_b78b_08719011335drow9_col6,#T_a63eddee_ef69_11eb_b78b_08719011335drow9_col7,#T_a63eddee_ef69_11eb_b78b_08719011335drow10_col0,#T_a63eddee_ef69_11eb_b78b_08719011335drow10_col1,#T_a63eddee_ef69_11eb_b78b_08719011335drow10_col2,#T_a63eddee_ef69_11eb_b78b_08719011335drow10_col3,#T_a63eddee_ef69_11eb_b78b_08719011335drow10_col4,#T_a63eddee_ef69_11eb_b78b_08719011335drow10_col5,#T_a63eddee_ef69_11eb_b78b_08719011335drow10_col6,#T_a63eddee_ef69_11eb_b78b_08719011335drow10_col7,#T_a63eddee_ef69_11eb_b78b_08719011335drow11_col0,#T_a63eddee_ef69_11eb_b78b_08719011335drow11_col1,#T_a63eddee_ef69_11eb_b78b_08719011335drow11_col2,#T_a63eddee_ef69_11eb_b78b_08719011335drow11_col4,#T_a63eddee_ef69_11eb_b78b_08719011335drow11_col6,#T_a63eddee_ef69_11eb_b78b_08719011335drow11_col7,#T_a63eddee_ef69_11eb_b78b_08719011335drow12_col0,#T_a63eddee_ef69_11eb_b78b_08719011335drow12_col1,#T_a63eddee_ef69_11eb_b78b_08719011335drow12_col2,#T_a63eddee_ef69_11eb_b78b_08719011335drow12_col3,#T_a63eddee_ef69_11eb_b78b_08719011335drow12_col4,#T_a63eddee_ef69_11eb_b78b_08719011335drow12_col5,#T_a63eddee_ef69_11eb_b78b_08719011335drow12_col6,#T_a63eddee_ef69_11eb_b78b_08719011335drow12_col7{\n",
       "            text-align:  left;\n",
       "            text-align:  left;\n",
       "        }#T_a63eddee_ef69_11eb_b78b_08719011335drow0_col1,#T_a63eddee_ef69_11eb_b78b_08719011335drow0_col4,#T_a63eddee_ef69_11eb_b78b_08719011335drow0_col6,#T_a63eddee_ef69_11eb_b78b_08719011335drow0_col7,#T_a63eddee_ef69_11eb_b78b_08719011335drow1_col1,#T_a63eddee_ef69_11eb_b78b_08719011335drow1_col2,#T_a63eddee_ef69_11eb_b78b_08719011335drow11_col3,#T_a63eddee_ef69_11eb_b78b_08719011335drow11_col5{\n",
       "            text-align:  left;\n",
       "            text-align:  left;\n",
       "            background-color:  yellow;\n",
       "        }#T_a63eddee_ef69_11eb_b78b_08719011335drow0_col8,#T_a63eddee_ef69_11eb_b78b_08719011335drow1_col8,#T_a63eddee_ef69_11eb_b78b_08719011335drow2_col8,#T_a63eddee_ef69_11eb_b78b_08719011335drow3_col8,#T_a63eddee_ef69_11eb_b78b_08719011335drow4_col8,#T_a63eddee_ef69_11eb_b78b_08719011335drow5_col8,#T_a63eddee_ef69_11eb_b78b_08719011335drow6_col8,#T_a63eddee_ef69_11eb_b78b_08719011335drow8_col8,#T_a63eddee_ef69_11eb_b78b_08719011335drow9_col8,#T_a63eddee_ef69_11eb_b78b_08719011335drow10_col8,#T_a63eddee_ef69_11eb_b78b_08719011335drow11_col8,#T_a63eddee_ef69_11eb_b78b_08719011335drow12_col8{\n",
       "            text-align:  left;\n",
       "            text-align:  left;\n",
       "            background-color:  lightgrey;\n",
       "        }#T_a63eddee_ef69_11eb_b78b_08719011335drow7_col8{\n",
       "            text-align:  left;\n",
       "            text-align:  left;\n",
       "            background-color:  yellow;\n",
       "            background-color:  lightgrey;\n",
       "        }</style><table id=\"T_a63eddee_ef69_11eb_b78b_08719011335d\" ><thead>    <tr>        <th class=\"blank level0\" ></th>        <th class=\"col_heading level0 col0\" >Model</th>        <th class=\"col_heading level0 col1\" >Accuracy</th>        <th class=\"col_heading level0 col2\" >AUC</th>        <th class=\"col_heading level0 col3\" >Recall</th>        <th class=\"col_heading level0 col4\" >Prec.</th>        <th class=\"col_heading level0 col5\" >F1</th>        <th class=\"col_heading level0 col6\" >Kappa</th>        <th class=\"col_heading level0 col7\" >MCC</th>        <th class=\"col_heading level0 col8\" >TT (Sec)</th>    </tr></thead><tbody>\n",
       "                <tr>\n",
       "                        <th id=\"T_a63eddee_ef69_11eb_b78b_08719011335dlevel0_row0\" class=\"row_heading level0 row0\" >rf</th>\n",
       "                        <td id=\"T_a63eddee_ef69_11eb_b78b_08719011335drow0_col0\" class=\"data row0 col0\" >Random Forest Classifier</td>\n",
       "                        <td id=\"T_a63eddee_ef69_11eb_b78b_08719011335drow0_col1\" class=\"data row0 col1\" >0.7409</td>\n",
       "                        <td id=\"T_a63eddee_ef69_11eb_b78b_08719011335drow0_col2\" class=\"data row0 col2\" >0.6599</td>\n",
       "                        <td id=\"T_a63eddee_ef69_11eb_b78b_08719011335drow0_col3\" class=\"data row0 col3\" >0.2636</td>\n",
       "                        <td id=\"T_a63eddee_ef69_11eb_b78b_08719011335drow0_col4\" class=\"data row0 col4\" >0.4449</td>\n",
       "                        <td id=\"T_a63eddee_ef69_11eb_b78b_08719011335drow0_col5\" class=\"data row0 col5\" >0.3288</td>\n",
       "                        <td id=\"T_a63eddee_ef69_11eb_b78b_08719011335drow0_col6\" class=\"data row0 col6\" >0.1809</td>\n",
       "                        <td id=\"T_a63eddee_ef69_11eb_b78b_08719011335drow0_col7\" class=\"data row0 col7\" >0.1918</td>\n",
       "                        <td id=\"T_a63eddee_ef69_11eb_b78b_08719011335drow0_col8\" class=\"data row0 col8\" >0.1060</td>\n",
       "            </tr>\n",
       "            <tr>\n",
       "                        <th id=\"T_a63eddee_ef69_11eb_b78b_08719011335dlevel0_row1\" class=\"row_heading level0 row1\" >et</th>\n",
       "                        <td id=\"T_a63eddee_ef69_11eb_b78b_08719011335drow1_col0\" class=\"data row1 col0\" >Extra Trees Classifier</td>\n",
       "                        <td id=\"T_a63eddee_ef69_11eb_b78b_08719011335drow1_col1\" class=\"data row1 col1\" >0.7409</td>\n",
       "                        <td id=\"T_a63eddee_ef69_11eb_b78b_08719011335drow1_col2\" class=\"data row1 col2\" >0.6648</td>\n",
       "                        <td id=\"T_a63eddee_ef69_11eb_b78b_08719011335drow1_col3\" class=\"data row1 col3\" >0.2077</td>\n",
       "                        <td id=\"T_a63eddee_ef69_11eb_b78b_08719011335drow1_col4\" class=\"data row1 col4\" >0.4100</td>\n",
       "                        <td id=\"T_a63eddee_ef69_11eb_b78b_08719011335drow1_col5\" class=\"data row1 col5\" >0.2730</td>\n",
       "                        <td id=\"T_a63eddee_ef69_11eb_b78b_08719011335drow1_col6\" class=\"data row1 col6\" >0.1388</td>\n",
       "                        <td id=\"T_a63eddee_ef69_11eb_b78b_08719011335drow1_col7\" class=\"data row1 col7\" >0.1502</td>\n",
       "                        <td id=\"T_a63eddee_ef69_11eb_b78b_08719011335drow1_col8\" class=\"data row1 col8\" >0.0890</td>\n",
       "            </tr>\n",
       "            <tr>\n",
       "                        <th id=\"T_a63eddee_ef69_11eb_b78b_08719011335dlevel0_row2\" class=\"row_heading level0 row2\" >lightgbm</th>\n",
       "                        <td id=\"T_a63eddee_ef69_11eb_b78b_08719011335drow2_col0\" class=\"data row2 col0\" >Light Gradient Boosting Machine</td>\n",
       "                        <td id=\"T_a63eddee_ef69_11eb_b78b_08719011335drow2_col1\" class=\"data row2 col1\" >0.7307</td>\n",
       "                        <td id=\"T_a63eddee_ef69_11eb_b78b_08719011335drow2_col2\" class=\"data row2 col2\" >0.6231</td>\n",
       "                        <td id=\"T_a63eddee_ef69_11eb_b78b_08719011335drow2_col3\" class=\"data row2 col3\" >0.2324</td>\n",
       "                        <td id=\"T_a63eddee_ef69_11eb_b78b_08719011335drow2_col4\" class=\"data row2 col4\" >0.4097</td>\n",
       "                        <td id=\"T_a63eddee_ef69_11eb_b78b_08719011335drow2_col5\" class=\"data row2 col5\" >0.2951</td>\n",
       "                        <td id=\"T_a63eddee_ef69_11eb_b78b_08719011335drow2_col6\" class=\"data row2 col6\" >0.1426</td>\n",
       "                        <td id=\"T_a63eddee_ef69_11eb_b78b_08719011335drow2_col7\" class=\"data row2 col7\" >0.1530</td>\n",
       "                        <td id=\"T_a63eddee_ef69_11eb_b78b_08719011335drow2_col8\" class=\"data row2 col8\" >0.0640</td>\n",
       "            </tr>\n",
       "            <tr>\n",
       "                        <th id=\"T_a63eddee_ef69_11eb_b78b_08719011335dlevel0_row3\" class=\"row_heading level0 row3\" >gbc</th>\n",
       "                        <td id=\"T_a63eddee_ef69_11eb_b78b_08719011335drow3_col0\" class=\"data row3 col0\" >Gradient Boosting Classifier</td>\n",
       "                        <td id=\"T_a63eddee_ef69_11eb_b78b_08719011335drow3_col1\" class=\"data row3 col1\" >0.7117</td>\n",
       "                        <td id=\"T_a63eddee_ef69_11eb_b78b_08719011335drow3_col2\" class=\"data row3 col2\" >0.6509</td>\n",
       "                        <td id=\"T_a63eddee_ef69_11eb_b78b_08719011335drow3_col3\" class=\"data row3 col3\" >0.2562</td>\n",
       "                        <td id=\"T_a63eddee_ef69_11eb_b78b_08719011335drow3_col4\" class=\"data row3 col4\" >0.3670</td>\n",
       "                        <td id=\"T_a63eddee_ef69_11eb_b78b_08719011335drow3_col5\" class=\"data row3 col5\" >0.3000</td>\n",
       "                        <td id=\"T_a63eddee_ef69_11eb_b78b_08719011335drow3_col6\" class=\"data row3 col6\" >0.1253</td>\n",
       "                        <td id=\"T_a63eddee_ef69_11eb_b78b_08719011335drow3_col7\" class=\"data row3 col7\" >0.1297</td>\n",
       "                        <td id=\"T_a63eddee_ef69_11eb_b78b_08719011335drow3_col8\" class=\"data row3 col8\" >0.1790</td>\n",
       "            </tr>\n",
       "            <tr>\n",
       "                        <th id=\"T_a63eddee_ef69_11eb_b78b_08719011335dlevel0_row4\" class=\"row_heading level0 row4\" >qda</th>\n",
       "                        <td id=\"T_a63eddee_ef69_11eb_b78b_08719011335drow4_col0\" class=\"data row4 col0\" >Quadratic Discriminant Analysis</td>\n",
       "                        <td id=\"T_a63eddee_ef69_11eb_b78b_08719011335drow4_col1\" class=\"data row4 col1\" >0.6923</td>\n",
       "                        <td id=\"T_a63eddee_ef69_11eb_b78b_08719011335drow4_col2\" class=\"data row4 col2\" >0.5175</td>\n",
       "                        <td id=\"T_a63eddee_ef69_11eb_b78b_08719011335drow4_col3\" class=\"data row4 col3\" >0.1305</td>\n",
       "                        <td id=\"T_a63eddee_ef69_11eb_b78b_08719011335drow4_col4\" class=\"data row4 col4\" >0.2221</td>\n",
       "                        <td id=\"T_a63eddee_ef69_11eb_b78b_08719011335drow4_col5\" class=\"data row4 col5\" >0.1192</td>\n",
       "                        <td id=\"T_a63eddee_ef69_11eb_b78b_08719011335drow4_col6\" class=\"data row4 col6\" >0.0030</td>\n",
       "                        <td id=\"T_a63eddee_ef69_11eb_b78b_08719011335drow4_col7\" class=\"data row4 col7\" >-0.0022</td>\n",
       "                        <td id=\"T_a63eddee_ef69_11eb_b78b_08719011335drow4_col8\" class=\"data row4 col8\" >0.0120</td>\n",
       "            </tr>\n",
       "            <tr>\n",
       "                        <th id=\"T_a63eddee_ef69_11eb_b78b_08719011335dlevel0_row5\" class=\"row_heading level0 row5\" >ada</th>\n",
       "                        <td id=\"T_a63eddee_ef69_11eb_b78b_08719011335drow5_col0\" class=\"data row5 col0\" >Ada Boost Classifier</td>\n",
       "                        <td id=\"T_a63eddee_ef69_11eb_b78b_08719011335drow5_col1\" class=\"data row5 col1\" >0.6896</td>\n",
       "                        <td id=\"T_a63eddee_ef69_11eb_b78b_08719011335drow5_col2\" class=\"data row5 col2\" >0.6357</td>\n",
       "                        <td id=\"T_a63eddee_ef69_11eb_b78b_08719011335drow5_col3\" class=\"data row5 col3\" >0.3537</td>\n",
       "                        <td id=\"T_a63eddee_ef69_11eb_b78b_08719011335drow5_col4\" class=\"data row5 col4\" >0.3580</td>\n",
       "                        <td id=\"T_a63eddee_ef69_11eb_b78b_08719011335drow5_col5\" class=\"data row5 col5\" >0.3532</td>\n",
       "                        <td id=\"T_a63eddee_ef69_11eb_b78b_08719011335drow5_col6\" class=\"data row5 col6\" >0.1502</td>\n",
       "                        <td id=\"T_a63eddee_ef69_11eb_b78b_08719011335drow5_col7\" class=\"data row5 col7\" >0.1513</td>\n",
       "                        <td id=\"T_a63eddee_ef69_11eb_b78b_08719011335drow5_col8\" class=\"data row5 col8\" >0.0720</td>\n",
       "            </tr>\n",
       "            <tr>\n",
       "                        <th id=\"T_a63eddee_ef69_11eb_b78b_08719011335dlevel0_row6\" class=\"row_heading level0 row6\" >dt</th>\n",
       "                        <td id=\"T_a63eddee_ef69_11eb_b78b_08719011335drow6_col0\" class=\"data row6 col0\" >Decision Tree Classifier</td>\n",
       "                        <td id=\"T_a63eddee_ef69_11eb_b78b_08719011335drow6_col1\" class=\"data row6 col1\" >0.6458</td>\n",
       "                        <td id=\"T_a63eddee_ef69_11eb_b78b_08719011335drow6_col2\" class=\"data row6 col2\" >0.5399</td>\n",
       "                        <td id=\"T_a63eddee_ef69_11eb_b78b_08719011335drow6_col3\" class=\"data row6 col3\" >0.3360</td>\n",
       "                        <td id=\"T_a63eddee_ef69_11eb_b78b_08719011335drow6_col4\" class=\"data row6 col4\" >0.2946</td>\n",
       "                        <td id=\"T_a63eddee_ef69_11eb_b78b_08719011335drow6_col5\" class=\"data row6 col5\" >0.3123</td>\n",
       "                        <td id=\"T_a63eddee_ef69_11eb_b78b_08719011335drow6_col6\" class=\"data row6 col6\" >0.0766</td>\n",
       "                        <td id=\"T_a63eddee_ef69_11eb_b78b_08719011335drow6_col7\" class=\"data row6 col7\" >0.0769</td>\n",
       "                        <td id=\"T_a63eddee_ef69_11eb_b78b_08719011335drow6_col8\" class=\"data row6 col8\" >0.0230</td>\n",
       "            </tr>\n",
       "            <tr>\n",
       "                        <th id=\"T_a63eddee_ef69_11eb_b78b_08719011335dlevel0_row7\" class=\"row_heading level0 row7\" >nb</th>\n",
       "                        <td id=\"T_a63eddee_ef69_11eb_b78b_08719011335drow7_col0\" class=\"data row7 col0\" >Naive Bayes</td>\n",
       "                        <td id=\"T_a63eddee_ef69_11eb_b78b_08719011335drow7_col1\" class=\"data row7 col1\" >0.6308</td>\n",
       "                        <td id=\"T_a63eddee_ef69_11eb_b78b_08719011335drow7_col2\" class=\"data row7 col2\" >0.5987</td>\n",
       "                        <td id=\"T_a63eddee_ef69_11eb_b78b_08719011335drow7_col3\" class=\"data row7 col3\" >0.4397</td>\n",
       "                        <td id=\"T_a63eddee_ef69_11eb_b78b_08719011335drow7_col4\" class=\"data row7 col4\" >0.3331</td>\n",
       "                        <td id=\"T_a63eddee_ef69_11eb_b78b_08719011335drow7_col5\" class=\"data row7 col5\" >0.3590</td>\n",
       "                        <td id=\"T_a63eddee_ef69_11eb_b78b_08719011335drow7_col6\" class=\"data row7 col6\" >0.1255</td>\n",
       "                        <td id=\"T_a63eddee_ef69_11eb_b78b_08719011335drow7_col7\" class=\"data row7 col7\" >0.1287</td>\n",
       "                        <td id=\"T_a63eddee_ef69_11eb_b78b_08719011335drow7_col8\" class=\"data row7 col8\" >0.0090</td>\n",
       "            </tr>\n",
       "            <tr>\n",
       "                        <th id=\"T_a63eddee_ef69_11eb_b78b_08719011335dlevel0_row8\" class=\"row_heading level0 row8\" >lr</th>\n",
       "                        <td id=\"T_a63eddee_ef69_11eb_b78b_08719011335drow8_col0\" class=\"data row8 col0\" >Logistic Regression</td>\n",
       "                        <td id=\"T_a63eddee_ef69_11eb_b78b_08719011335drow8_col1\" class=\"data row8 col1\" >0.5871</td>\n",
       "                        <td id=\"T_a63eddee_ef69_11eb_b78b_08719011335drow8_col2\" class=\"data row8 col2\" >0.5941</td>\n",
       "                        <td id=\"T_a63eddee_ef69_11eb_b78b_08719011335drow8_col3\" class=\"data row8 col3\" >0.5184</td>\n",
       "                        <td id=\"T_a63eddee_ef69_11eb_b78b_08719011335drow8_col4\" class=\"data row8 col4\" >0.2940</td>\n",
       "                        <td id=\"T_a63eddee_ef69_11eb_b78b_08719011335drow8_col5\" class=\"data row8 col5\" >0.3739</td>\n",
       "                        <td id=\"T_a63eddee_ef69_11eb_b78b_08719011335drow8_col6\" class=\"data row8 col6\" >0.0998</td>\n",
       "                        <td id=\"T_a63eddee_ef69_11eb_b78b_08719011335drow8_col7\" class=\"data row8 col7\" >0.1102</td>\n",
       "                        <td id=\"T_a63eddee_ef69_11eb_b78b_08719011335drow8_col8\" class=\"data row8 col8\" >0.1060</td>\n",
       "            </tr>\n",
       "            <tr>\n",
       "                        <th id=\"T_a63eddee_ef69_11eb_b78b_08719011335dlevel0_row9\" class=\"row_heading level0 row9\" >lda</th>\n",
       "                        <td id=\"T_a63eddee_ef69_11eb_b78b_08719011335drow9_col0\" class=\"data row9 col0\" >Linear Discriminant Analysis</td>\n",
       "                        <td id=\"T_a63eddee_ef69_11eb_b78b_08719011335drow9_col1\" class=\"data row9 col1\" >0.5798</td>\n",
       "                        <td id=\"T_a63eddee_ef69_11eb_b78b_08719011335drow9_col2\" class=\"data row9 col2\" >0.5815</td>\n",
       "                        <td id=\"T_a63eddee_ef69_11eb_b78b_08719011335drow9_col3\" class=\"data row9 col3\" >0.5048</td>\n",
       "                        <td id=\"T_a63eddee_ef69_11eb_b78b_08719011335drow9_col4\" class=\"data row9 col4\" >0.2873</td>\n",
       "                        <td id=\"T_a63eddee_ef69_11eb_b78b_08719011335drow9_col5\" class=\"data row9 col5\" >0.3650</td>\n",
       "                        <td id=\"T_a63eddee_ef69_11eb_b78b_08719011335drow9_col6\" class=\"data row9 col6\" >0.0858</td>\n",
       "                        <td id=\"T_a63eddee_ef69_11eb_b78b_08719011335drow9_col7\" class=\"data row9 col7\" >0.0943</td>\n",
       "                        <td id=\"T_a63eddee_ef69_11eb_b78b_08719011335drow9_col8\" class=\"data row9 col8\" >0.0120</td>\n",
       "            </tr>\n",
       "            <tr>\n",
       "                        <th id=\"T_a63eddee_ef69_11eb_b78b_08719011335dlevel0_row10\" class=\"row_heading level0 row10\" >ridge</th>\n",
       "                        <td id=\"T_a63eddee_ef69_11eb_b78b_08719011335drow10_col0\" class=\"data row10 col0\" >Ridge Classifier</td>\n",
       "                        <td id=\"T_a63eddee_ef69_11eb_b78b_08719011335drow10_col1\" class=\"data row10 col1\" >0.5724</td>\n",
       "                        <td id=\"T_a63eddee_ef69_11eb_b78b_08719011335drow10_col2\" class=\"data row10 col2\" >0.0000</td>\n",
       "                        <td id=\"T_a63eddee_ef69_11eb_b78b_08719011335drow10_col3\" class=\"data row10 col3\" >0.5055</td>\n",
       "                        <td id=\"T_a63eddee_ef69_11eb_b78b_08719011335drow10_col4\" class=\"data row10 col4\" >0.2821</td>\n",
       "                        <td id=\"T_a63eddee_ef69_11eb_b78b_08719011335drow10_col5\" class=\"data row10 col5\" >0.3605</td>\n",
       "                        <td id=\"T_a63eddee_ef69_11eb_b78b_08719011335drow10_col6\" class=\"data row10 col6\" >0.0775</td>\n",
       "                        <td id=\"T_a63eddee_ef69_11eb_b78b_08719011335drow10_col7\" class=\"data row10 col7\" >0.0862</td>\n",
       "                        <td id=\"T_a63eddee_ef69_11eb_b78b_08719011335drow10_col8\" class=\"data row10 col8\" >0.0100</td>\n",
       "            </tr>\n",
       "            <tr>\n",
       "                        <th id=\"T_a63eddee_ef69_11eb_b78b_08719011335dlevel0_row11\" class=\"row_heading level0 row11\" >knn</th>\n",
       "                        <td id=\"T_a63eddee_ef69_11eb_b78b_08719011335drow11_col0\" class=\"data row11 col0\" >K Neighbors Classifier</td>\n",
       "                        <td id=\"T_a63eddee_ef69_11eb_b78b_08719011335drow11_col1\" class=\"data row11 col1\" >0.5608</td>\n",
       "                        <td id=\"T_a63eddee_ef69_11eb_b78b_08719011335drow11_col2\" class=\"data row11 col2\" >0.5991</td>\n",
       "                        <td id=\"T_a63eddee_ef69_11eb_b78b_08719011335drow11_col3\" class=\"data row11 col3\" >0.5798</td>\n",
       "                        <td id=\"T_a63eddee_ef69_11eb_b78b_08719011335drow11_col4\" class=\"data row11 col4\" >0.2907</td>\n",
       "                        <td id=\"T_a63eddee_ef69_11eb_b78b_08719011335drow11_col5\" class=\"data row11 col5\" >0.3863</td>\n",
       "                        <td id=\"T_a63eddee_ef69_11eb_b78b_08719011335drow11_col6\" class=\"data row11 col6\" >0.0992</td>\n",
       "                        <td id=\"T_a63eddee_ef69_11eb_b78b_08719011335drow11_col7\" class=\"data row11 col7\" >0.1158</td>\n",
       "                        <td id=\"T_a63eddee_ef69_11eb_b78b_08719011335drow11_col8\" class=\"data row11 col8\" >0.0170</td>\n",
       "            </tr>\n",
       "            <tr>\n",
       "                        <th id=\"T_a63eddee_ef69_11eb_b78b_08719011335dlevel0_row12\" class=\"row_heading level0 row12\" >svm</th>\n",
       "                        <td id=\"T_a63eddee_ef69_11eb_b78b_08719011335drow12_col0\" class=\"data row12 col0\" >SVM - Linear Kernel</td>\n",
       "                        <td id=\"T_a63eddee_ef69_11eb_b78b_08719011335drow12_col1\" class=\"data row12 col1\" >0.5576</td>\n",
       "                        <td id=\"T_a63eddee_ef69_11eb_b78b_08719011335drow12_col2\" class=\"data row12 col2\" >0.0000</td>\n",
       "                        <td id=\"T_a63eddee_ef69_11eb_b78b_08719011335drow12_col3\" class=\"data row12 col3\" >0.4971</td>\n",
       "                        <td id=\"T_a63eddee_ef69_11eb_b78b_08719011335drow12_col4\" class=\"data row12 col4\" >0.2722</td>\n",
       "                        <td id=\"T_a63eddee_ef69_11eb_b78b_08719011335drow12_col5\" class=\"data row12 col5\" >0.3300</td>\n",
       "                        <td id=\"T_a63eddee_ef69_11eb_b78b_08719011335drow12_col6\" class=\"data row12 col6\" >0.0544</td>\n",
       "                        <td id=\"T_a63eddee_ef69_11eb_b78b_08719011335drow12_col7\" class=\"data row12 col7\" >0.0686</td>\n",
       "                        <td id=\"T_a63eddee_ef69_11eb_b78b_08719011335drow12_col8\" class=\"data row12 col8\" >0.0140</td>\n",
       "            </tr>\n",
       "    </tbody></table>"
      ],
      "text/plain": [
       "<pandas.io.formats.style.Styler at 0x24532ad06a0>"
      ]
     },
     "metadata": {},
     "output_type": "display_data"
    },
    {
     "name": "stdout",
     "output_type": "stream",
     "text": [
      "RandomForestClassifier(bootstrap=True, ccp_alpha=0.0, class_weight=None,\n",
      "                       criterion='gini', max_depth=None, max_features='auto',\n",
      "                       max_leaf_nodes=None, max_samples=None,\n",
      "                       min_impurity_decrease=0.0, min_impurity_split=None,\n",
      "                       min_samples_leaf=1, min_samples_split=2,\n",
      "                       min_weight_fraction_leaf=0.0, n_estimators=100,\n",
      "                       n_jobs=-1, oob_score=False, random_state=4127, verbose=0,\n",
      "                       warm_start=False)\n"
     ]
    }
   ],
   "source": [
    "best = compare_models()\n",
    "print(best)"
   ]
  },
  {
   "cell_type": "code",
   "execution_count": 85,
   "metadata": {},
   "outputs": [
    {
     "data": {
      "text/html": [
       "<style  type=\"text/css\" >\n",
       "#T_95d9675b_ef6a_11eb_aaa1_08719011335drow10_col0,#T_95d9675b_ef6a_11eb_aaa1_08719011335drow10_col1,#T_95d9675b_ef6a_11eb_aaa1_08719011335drow10_col2,#T_95d9675b_ef6a_11eb_aaa1_08719011335drow10_col3,#T_95d9675b_ef6a_11eb_aaa1_08719011335drow10_col4,#T_95d9675b_ef6a_11eb_aaa1_08719011335drow10_col5,#T_95d9675b_ef6a_11eb_aaa1_08719011335drow10_col6{\n",
       "            background:  yellow;\n",
       "        }</style><table id=\"T_95d9675b_ef6a_11eb_aaa1_08719011335d\" ><thead>    <tr>        <th class=\"blank level0\" ></th>        <th class=\"col_heading level0 col0\" >Accuracy</th>        <th class=\"col_heading level0 col1\" >AUC</th>        <th class=\"col_heading level0 col2\" >Recall</th>        <th class=\"col_heading level0 col3\" >Prec.</th>        <th class=\"col_heading level0 col4\" >F1</th>        <th class=\"col_heading level0 col5\" >Kappa</th>        <th class=\"col_heading level0 col6\" >MCC</th>    </tr></thead><tbody>\n",
       "                <tr>\n",
       "                        <th id=\"T_95d9675b_ef6a_11eb_aaa1_08719011335dlevel0_row0\" class=\"row_heading level0 row0\" >0</th>\n",
       "                        <td id=\"T_95d9675b_ef6a_11eb_aaa1_08719011335drow0_col0\" class=\"data row0 col0\" >0.7536</td>\n",
       "                        <td id=\"T_95d9675b_ef6a_11eb_aaa1_08719011335drow0_col1\" class=\"data row0 col1\" >0.5000</td>\n",
       "                        <td id=\"T_95d9675b_ef6a_11eb_aaa1_08719011335drow0_col2\" class=\"data row0 col2\" >0.0000</td>\n",
       "                        <td id=\"T_95d9675b_ef6a_11eb_aaa1_08719011335drow0_col3\" class=\"data row0 col3\" >0.0000</td>\n",
       "                        <td id=\"T_95d9675b_ef6a_11eb_aaa1_08719011335drow0_col4\" class=\"data row0 col4\" >0.0000</td>\n",
       "                        <td id=\"T_95d9675b_ef6a_11eb_aaa1_08719011335drow0_col5\" class=\"data row0 col5\" >0.0000</td>\n",
       "                        <td id=\"T_95d9675b_ef6a_11eb_aaa1_08719011335drow0_col6\" class=\"data row0 col6\" >0.0000</td>\n",
       "            </tr>\n",
       "            <tr>\n",
       "                        <th id=\"T_95d9675b_ef6a_11eb_aaa1_08719011335dlevel0_row1\" class=\"row_heading level0 row1\" >1</th>\n",
       "                        <td id=\"T_95d9675b_ef6a_11eb_aaa1_08719011335drow1_col0\" class=\"data row1 col0\" >0.7536</td>\n",
       "                        <td id=\"T_95d9675b_ef6a_11eb_aaa1_08719011335drow1_col1\" class=\"data row1 col1\" >0.5000</td>\n",
       "                        <td id=\"T_95d9675b_ef6a_11eb_aaa1_08719011335drow1_col2\" class=\"data row1 col2\" >0.0000</td>\n",
       "                        <td id=\"T_95d9675b_ef6a_11eb_aaa1_08719011335drow1_col3\" class=\"data row1 col3\" >0.0000</td>\n",
       "                        <td id=\"T_95d9675b_ef6a_11eb_aaa1_08719011335drow1_col4\" class=\"data row1 col4\" >0.0000</td>\n",
       "                        <td id=\"T_95d9675b_ef6a_11eb_aaa1_08719011335drow1_col5\" class=\"data row1 col5\" >0.0000</td>\n",
       "                        <td id=\"T_95d9675b_ef6a_11eb_aaa1_08719011335drow1_col6\" class=\"data row1 col6\" >0.0000</td>\n",
       "            </tr>\n",
       "            <tr>\n",
       "                        <th id=\"T_95d9675b_ef6a_11eb_aaa1_08719011335dlevel0_row2\" class=\"row_heading level0 row2\" >2</th>\n",
       "                        <td id=\"T_95d9675b_ef6a_11eb_aaa1_08719011335drow2_col0\" class=\"data row2 col0\" >0.7536</td>\n",
       "                        <td id=\"T_95d9675b_ef6a_11eb_aaa1_08719011335drow2_col1\" class=\"data row2 col1\" >0.5000</td>\n",
       "                        <td id=\"T_95d9675b_ef6a_11eb_aaa1_08719011335drow2_col2\" class=\"data row2 col2\" >0.0000</td>\n",
       "                        <td id=\"T_95d9675b_ef6a_11eb_aaa1_08719011335drow2_col3\" class=\"data row2 col3\" >0.0000</td>\n",
       "                        <td id=\"T_95d9675b_ef6a_11eb_aaa1_08719011335drow2_col4\" class=\"data row2 col4\" >0.0000</td>\n",
       "                        <td id=\"T_95d9675b_ef6a_11eb_aaa1_08719011335drow2_col5\" class=\"data row2 col5\" >0.0000</td>\n",
       "                        <td id=\"T_95d9675b_ef6a_11eb_aaa1_08719011335drow2_col6\" class=\"data row2 col6\" >0.0000</td>\n",
       "            </tr>\n",
       "            <tr>\n",
       "                        <th id=\"T_95d9675b_ef6a_11eb_aaa1_08719011335dlevel0_row3\" class=\"row_heading level0 row3\" >3</th>\n",
       "                        <td id=\"T_95d9675b_ef6a_11eb_aaa1_08719011335drow3_col0\" class=\"data row3 col0\" >0.7647</td>\n",
       "                        <td id=\"T_95d9675b_ef6a_11eb_aaa1_08719011335drow3_col1\" class=\"data row3 col1\" >0.5000</td>\n",
       "                        <td id=\"T_95d9675b_ef6a_11eb_aaa1_08719011335drow3_col2\" class=\"data row3 col2\" >0.0000</td>\n",
       "                        <td id=\"T_95d9675b_ef6a_11eb_aaa1_08719011335drow3_col3\" class=\"data row3 col3\" >0.0000</td>\n",
       "                        <td id=\"T_95d9675b_ef6a_11eb_aaa1_08719011335drow3_col4\" class=\"data row3 col4\" >0.0000</td>\n",
       "                        <td id=\"T_95d9675b_ef6a_11eb_aaa1_08719011335drow3_col5\" class=\"data row3 col5\" >0.0000</td>\n",
       "                        <td id=\"T_95d9675b_ef6a_11eb_aaa1_08719011335drow3_col6\" class=\"data row3 col6\" >0.0000</td>\n",
       "            </tr>\n",
       "            <tr>\n",
       "                        <th id=\"T_95d9675b_ef6a_11eb_aaa1_08719011335dlevel0_row4\" class=\"row_heading level0 row4\" >4</th>\n",
       "                        <td id=\"T_95d9675b_ef6a_11eb_aaa1_08719011335drow4_col0\" class=\"data row4 col0\" >0.7647</td>\n",
       "                        <td id=\"T_95d9675b_ef6a_11eb_aaa1_08719011335drow4_col1\" class=\"data row4 col1\" >0.5000</td>\n",
       "                        <td id=\"T_95d9675b_ef6a_11eb_aaa1_08719011335drow4_col2\" class=\"data row4 col2\" >0.0000</td>\n",
       "                        <td id=\"T_95d9675b_ef6a_11eb_aaa1_08719011335drow4_col3\" class=\"data row4 col3\" >0.0000</td>\n",
       "                        <td id=\"T_95d9675b_ef6a_11eb_aaa1_08719011335drow4_col4\" class=\"data row4 col4\" >0.0000</td>\n",
       "                        <td id=\"T_95d9675b_ef6a_11eb_aaa1_08719011335drow4_col5\" class=\"data row4 col5\" >0.0000</td>\n",
       "                        <td id=\"T_95d9675b_ef6a_11eb_aaa1_08719011335drow4_col6\" class=\"data row4 col6\" >0.0000</td>\n",
       "            </tr>\n",
       "            <tr>\n",
       "                        <th id=\"T_95d9675b_ef6a_11eb_aaa1_08719011335dlevel0_row5\" class=\"row_heading level0 row5\" >5</th>\n",
       "                        <td id=\"T_95d9675b_ef6a_11eb_aaa1_08719011335drow5_col0\" class=\"data row5 col0\" >0.7647</td>\n",
       "                        <td id=\"T_95d9675b_ef6a_11eb_aaa1_08719011335drow5_col1\" class=\"data row5 col1\" >0.5000</td>\n",
       "                        <td id=\"T_95d9675b_ef6a_11eb_aaa1_08719011335drow5_col2\" class=\"data row5 col2\" >0.0000</td>\n",
       "                        <td id=\"T_95d9675b_ef6a_11eb_aaa1_08719011335drow5_col3\" class=\"data row5 col3\" >0.0000</td>\n",
       "                        <td id=\"T_95d9675b_ef6a_11eb_aaa1_08719011335drow5_col4\" class=\"data row5 col4\" >0.0000</td>\n",
       "                        <td id=\"T_95d9675b_ef6a_11eb_aaa1_08719011335drow5_col5\" class=\"data row5 col5\" >0.0000</td>\n",
       "                        <td id=\"T_95d9675b_ef6a_11eb_aaa1_08719011335drow5_col6\" class=\"data row5 col6\" >0.0000</td>\n",
       "            </tr>\n",
       "            <tr>\n",
       "                        <th id=\"T_95d9675b_ef6a_11eb_aaa1_08719011335dlevel0_row6\" class=\"row_heading level0 row6\" >6</th>\n",
       "                        <td id=\"T_95d9675b_ef6a_11eb_aaa1_08719011335drow6_col0\" class=\"data row6 col0\" >0.7647</td>\n",
       "                        <td id=\"T_95d9675b_ef6a_11eb_aaa1_08719011335drow6_col1\" class=\"data row6 col1\" >0.5000</td>\n",
       "                        <td id=\"T_95d9675b_ef6a_11eb_aaa1_08719011335drow6_col2\" class=\"data row6 col2\" >0.0000</td>\n",
       "                        <td id=\"T_95d9675b_ef6a_11eb_aaa1_08719011335drow6_col3\" class=\"data row6 col3\" >0.0000</td>\n",
       "                        <td id=\"T_95d9675b_ef6a_11eb_aaa1_08719011335drow6_col4\" class=\"data row6 col4\" >0.0000</td>\n",
       "                        <td id=\"T_95d9675b_ef6a_11eb_aaa1_08719011335drow6_col5\" class=\"data row6 col5\" >0.0000</td>\n",
       "                        <td id=\"T_95d9675b_ef6a_11eb_aaa1_08719011335drow6_col6\" class=\"data row6 col6\" >0.0000</td>\n",
       "            </tr>\n",
       "            <tr>\n",
       "                        <th id=\"T_95d9675b_ef6a_11eb_aaa1_08719011335dlevel0_row7\" class=\"row_heading level0 row7\" >7</th>\n",
       "                        <td id=\"T_95d9675b_ef6a_11eb_aaa1_08719011335drow7_col0\" class=\"data row7 col0\" >0.7647</td>\n",
       "                        <td id=\"T_95d9675b_ef6a_11eb_aaa1_08719011335drow7_col1\" class=\"data row7 col1\" >0.5000</td>\n",
       "                        <td id=\"T_95d9675b_ef6a_11eb_aaa1_08719011335drow7_col2\" class=\"data row7 col2\" >0.0000</td>\n",
       "                        <td id=\"T_95d9675b_ef6a_11eb_aaa1_08719011335drow7_col3\" class=\"data row7 col3\" >0.0000</td>\n",
       "                        <td id=\"T_95d9675b_ef6a_11eb_aaa1_08719011335drow7_col4\" class=\"data row7 col4\" >0.0000</td>\n",
       "                        <td id=\"T_95d9675b_ef6a_11eb_aaa1_08719011335drow7_col5\" class=\"data row7 col5\" >0.0000</td>\n",
       "                        <td id=\"T_95d9675b_ef6a_11eb_aaa1_08719011335drow7_col6\" class=\"data row7 col6\" >0.0000</td>\n",
       "            </tr>\n",
       "            <tr>\n",
       "                        <th id=\"T_95d9675b_ef6a_11eb_aaa1_08719011335dlevel0_row8\" class=\"row_heading level0 row8\" >8</th>\n",
       "                        <td id=\"T_95d9675b_ef6a_11eb_aaa1_08719011335drow8_col0\" class=\"data row8 col0\" >0.7647</td>\n",
       "                        <td id=\"T_95d9675b_ef6a_11eb_aaa1_08719011335drow8_col1\" class=\"data row8 col1\" >0.5000</td>\n",
       "                        <td id=\"T_95d9675b_ef6a_11eb_aaa1_08719011335drow8_col2\" class=\"data row8 col2\" >0.0000</td>\n",
       "                        <td id=\"T_95d9675b_ef6a_11eb_aaa1_08719011335drow8_col3\" class=\"data row8 col3\" >0.0000</td>\n",
       "                        <td id=\"T_95d9675b_ef6a_11eb_aaa1_08719011335drow8_col4\" class=\"data row8 col4\" >0.0000</td>\n",
       "                        <td id=\"T_95d9675b_ef6a_11eb_aaa1_08719011335drow8_col5\" class=\"data row8 col5\" >0.0000</td>\n",
       "                        <td id=\"T_95d9675b_ef6a_11eb_aaa1_08719011335drow8_col6\" class=\"data row8 col6\" >0.0000</td>\n",
       "            </tr>\n",
       "            <tr>\n",
       "                        <th id=\"T_95d9675b_ef6a_11eb_aaa1_08719011335dlevel0_row9\" class=\"row_heading level0 row9\" >9</th>\n",
       "                        <td id=\"T_95d9675b_ef6a_11eb_aaa1_08719011335drow9_col0\" class=\"data row9 col0\" >0.7500</td>\n",
       "                        <td id=\"T_95d9675b_ef6a_11eb_aaa1_08719011335drow9_col1\" class=\"data row9 col1\" >0.5000</td>\n",
       "                        <td id=\"T_95d9675b_ef6a_11eb_aaa1_08719011335drow9_col2\" class=\"data row9 col2\" >0.0000</td>\n",
       "                        <td id=\"T_95d9675b_ef6a_11eb_aaa1_08719011335drow9_col3\" class=\"data row9 col3\" >0.0000</td>\n",
       "                        <td id=\"T_95d9675b_ef6a_11eb_aaa1_08719011335drow9_col4\" class=\"data row9 col4\" >0.0000</td>\n",
       "                        <td id=\"T_95d9675b_ef6a_11eb_aaa1_08719011335drow9_col5\" class=\"data row9 col5\" >0.0000</td>\n",
       "                        <td id=\"T_95d9675b_ef6a_11eb_aaa1_08719011335drow9_col6\" class=\"data row9 col6\" >0.0000</td>\n",
       "            </tr>\n",
       "            <tr>\n",
       "                        <th id=\"T_95d9675b_ef6a_11eb_aaa1_08719011335dlevel0_row10\" class=\"row_heading level0 row10\" >Mean</th>\n",
       "                        <td id=\"T_95d9675b_ef6a_11eb_aaa1_08719011335drow10_col0\" class=\"data row10 col0\" >0.7599</td>\n",
       "                        <td id=\"T_95d9675b_ef6a_11eb_aaa1_08719011335drow10_col1\" class=\"data row10 col1\" >0.5000</td>\n",
       "                        <td id=\"T_95d9675b_ef6a_11eb_aaa1_08719011335drow10_col2\" class=\"data row10 col2\" >0.0000</td>\n",
       "                        <td id=\"T_95d9675b_ef6a_11eb_aaa1_08719011335drow10_col3\" class=\"data row10 col3\" >0.0000</td>\n",
       "                        <td id=\"T_95d9675b_ef6a_11eb_aaa1_08719011335drow10_col4\" class=\"data row10 col4\" >0.0000</td>\n",
       "                        <td id=\"T_95d9675b_ef6a_11eb_aaa1_08719011335drow10_col5\" class=\"data row10 col5\" >0.0000</td>\n",
       "                        <td id=\"T_95d9675b_ef6a_11eb_aaa1_08719011335drow10_col6\" class=\"data row10 col6\" >0.0000</td>\n",
       "            </tr>\n",
       "            <tr>\n",
       "                        <th id=\"T_95d9675b_ef6a_11eb_aaa1_08719011335dlevel0_row11\" class=\"row_heading level0 row11\" >SD</th>\n",
       "                        <td id=\"T_95d9675b_ef6a_11eb_aaa1_08719011335drow11_col0\" class=\"data row11 col0\" >0.0060</td>\n",
       "                        <td id=\"T_95d9675b_ef6a_11eb_aaa1_08719011335drow11_col1\" class=\"data row11 col1\" >0.0000</td>\n",
       "                        <td id=\"T_95d9675b_ef6a_11eb_aaa1_08719011335drow11_col2\" class=\"data row11 col2\" >0.0000</td>\n",
       "                        <td id=\"T_95d9675b_ef6a_11eb_aaa1_08719011335drow11_col3\" class=\"data row11 col3\" >0.0000</td>\n",
       "                        <td id=\"T_95d9675b_ef6a_11eb_aaa1_08719011335drow11_col4\" class=\"data row11 col4\" >0.0000</td>\n",
       "                        <td id=\"T_95d9675b_ef6a_11eb_aaa1_08719011335drow11_col5\" class=\"data row11 col5\" >0.0000</td>\n",
       "                        <td id=\"T_95d9675b_ef6a_11eb_aaa1_08719011335drow11_col6\" class=\"data row11 col6\" >0.0000</td>\n",
       "            </tr>\n",
       "    </tbody></table>"
      ],
      "text/plain": [
       "<pandas.io.formats.style.Styler at 0x245328d2d00>"
      ]
     },
     "metadata": {},
     "output_type": "display_data"
    }
   ],
   "source": [
    "model = create_model(\"knn\")\n",
    "tuned_rf = tune_model(model, optimize = 'Recall')"
   ]
  },
  {
   "cell_type": "code",
   "execution_count": 86,
   "metadata": {},
   "outputs": [
    {
     "data": {
      "image/png": "[encoded data removed]",
      "text/plain": [
       "<Figure size 576x396 with 1 Axes>"
      ]
     },
     "metadata": {},
     "output_type": "display_data"
    }
   ],
   "source": [
    "plot_model(tuned_rf, plot = 'confusion_matrix')"
   ]
  },
  {
   "cell_type": "markdown",
   "metadata": {},
   "source": [
    "# Logistic Regression tunning"
   ]
  },
  {
   "cell_type": "markdown",
   "metadata": {
    "_uuid": "152e7aa03b0a79e04e1678623dd46f578e0a189a"
   },
   "source": [
    "### GridSearch Cross Validation\n",
    "In machine learning, two tasks are commonly done at the same time in data pipelines: cross validation and (hyper)parameter tuning. Cross validation is the process of training learners using one set of data and testing it using a different set. Parameter tuning is the process to selecting the values for a model’s parameters that maximize the accuracy of the model."
   ]
  },
  {
   "cell_type": "code",
   "execution_count": 92,
   "metadata": {},
   "outputs": [
    {
     "data": {
      "text/plain": [
       "(976, 45)"
      ]
     },
     "execution_count": 92,
     "metadata": {},
     "output_type": "execute_result"
    }
   ],
   "source": [
    "x_train_pca.shape"
   ]
  },
  {
   "cell_type": "code",
   "execution_count": 93,
   "metadata": {},
   "outputs": [
    {
     "name": "stdout",
     "output_type": "stream",
     "text": [
      "Fitting 3 folds for each of 50 candidates, totalling 150 fits\n"
     ]
    },
    {
     "name": "stderr",
     "output_type": "stream",
     "text": [
      "[Parallel(n_jobs=-1)]: Using backend LokyBackend with 8 concurrent workers.\n",
      "[Parallel(n_jobs=-1)]: Done  34 tasks      | elapsed:    0.2s\n",
      "[Parallel(n_jobs=-1)]: Done 135 out of 150 | elapsed:    0.9s remaining:    0.0s\n",
      "[Parallel(n_jobs=-1)]: Done 150 out of 150 | elapsed:    1.0s finished\n"
     ]
    }
   ],
   "source": [
    "from sklearn.model_selection import GridSearchCV\n",
    "from sklearn.linear_model import LogisticRegression\n",
    "\n",
    "# making skeletal model\n",
    "logistic_regression = LogisticRegression(n_jobs = -1)\n",
    "\n",
    "# Set of parameters we want to try for our Model\n",
    "#Regularization normally tries to reduce or penalize the complexity of the model.\n",
    "#Regularization techniques applied with logistic regression mostly tend to penalize large coefficients\n",
    "parameters = { 'C' : [0.00001,0.01,0.1,0.5,1.1]\n",
    ",'penalty': ['l1', 'l2'],\n",
    "   # 'max_iter': list(range(100,800,100)),\n",
    "   'solver': ['newton-cg', 'lbfgs', 'liblinear', 'sag', 'saga']\n",
    "             }\n",
    "#Running the Model with above chosen parameter\n",
    "grid_search = GridSearchCV(estimator = logistic_regression, param_grid = parameters , scoring = 'accuracy', cv = 3, n_jobs = -1 , verbose = 2)\n",
    "grid_scores = grid_search.fit(x_train_pca , y)\n"
   ]
  },
  {
   "cell_type": "code",
   "execution_count": 94,
   "metadata": {},
   "outputs": [
    {
     "name": "stdout",
     "output_type": "stream",
     "text": [
      "0.7643479628755703\n",
      "{'C': 0.01, 'penalty': 'l2', 'solver': 'newton-cg'}\n"
     ]
    }
   ],
   "source": [
    "print( grid_search.best_score_)\n",
    "print(grid_search.best_params_)"
   ]
  },
  {
   "cell_type": "code",
   "execution_count": 87,
   "metadata": {},
   "outputs": [
    {
     "data": {
      "text/plain": [
       "(976, 45)"
      ]
     },
     "execution_count": 87,
     "metadata": {},
     "output_type": "execute_result"
    }
   ],
   "source": [
    "x_train_pca.shape"
   ]
  },
  {
   "cell_type": "code",
   "execution_count": 35,
   "metadata": {},
   "outputs": [],
   "source": [
    "from sklearn.model_selection import train_test_split\n",
    "#this function randomly split the data into train and test sets\n",
    "x_train, x_test, y_train, y_test = train_test_split(x_train_pca , y, test_size=.2)"
   ]
  },
  {
   "cell_type": "code",
   "execution_count": 97,
   "metadata": {},
   "outputs": [
    {
     "name": "stdout",
     "output_type": "stream",
     "text": [
      "Time taken for training a Logistic Regression model = 0:00:00.033794\n"
     ]
    }
   ],
   "source": [
    "# Making the Final Classification model.\n",
    "import datetime\n",
    "logistic_regression = LogisticRegression( C = 0.01, n_jobs = -1)\n",
    "tick =datetime.datetime.now()\n",
    "logistic_regression.fit(x_train, y_train)\n",
    "tock=datetime.datetime.now()\n",
    "lr_train_time = tock - tick\n",
    "print(\"Time taken for training a Logistic Regression model = \" + str(lr_train_time))\n"
   ]
  },
  {
   "cell_type": "markdown",
   "metadata": {
    "_uuid": "13e0259d0af556b7f3fb51ebea80eeea5f769834"
   },
   "source": [
    "## 8. Predicting values on training set"
   ]
  },
  {
   "cell_type": "code",
   "execution_count": 99,
   "metadata": {},
   "outputs": [
    {
     "name": "stdout",
     "output_type": "stream",
     "text": [
      "Time taken to predict the data points in the Test set is : 0:00:00.001005\n"
     ]
    }
   ],
   "source": [
    "tick=datetime.datetime.now()\n",
    "lr_train_predict=logistic_regression.predict(x_test)\n",
    "tock=datetime.datetime.now()\n",
    "lr_pred_train_time = tock - tick\n",
    "print('Time taken to predict the data points in the Test set is : ' + str(lr_pred_train_time))"
   ]
  },
  {
   "cell_type": "code",
   "execution_count": 100,
   "metadata": {},
   "outputs": [
    {
     "name": "stdout",
     "output_type": "stream",
     "text": [
      "              precision    recall  f1-score   support\n",
      "\n",
      "           0       0.76      0.99      0.86       146\n",
      "           1       0.83      0.10      0.18        50\n",
      "\n",
      "    accuracy                           0.77       196\n",
      "   macro avg       0.80      0.55      0.52       196\n",
      "weighted avg       0.78      0.77      0.69       196\n",
      "\n"
     ]
    }
   ],
   "source": [
    "import sklearn.metrics as skm\n",
    "print(skm.classification_report( y_test, lr_train_predict ))"
   ]
  },
  {
   "cell_type": "code",
   "execution_count": 102,
   "metadata": {},
   "outputs": [
    {
     "data": {
      "text/plain": [
       "array([[145,   1],\n",
       "       [ 45,   5]], dtype=int64)"
      ]
     },
     "execution_count": 102,
     "metadata": {},
     "output_type": "execute_result"
    }
   ],
   "source": [
    "\n",
    "from sklearn.metrics import confusion_matrix\n",
    "cf= confusion_matrix(y_test, lr_train_predict )\n",
    "\n",
    "# Visualizing the Confusion Matrix`\n",
    "cf"
   ]
  },
  {
   "cell_type": "markdown",
   "metadata": {},
   "source": [
    "# knn tunning"
   ]
  },
  {
   "cell_type": "code",
   "execution_count": 106,
   "metadata": {},
   "outputs": [
    {
     "name": "stdout",
     "output_type": "stream",
     "text": [
      "Best leaf_size: 30\n",
      "Best p: 2\n",
      "Best n_neighbors: 1\n"
     ]
    }
   ],
   "source": [
    "#List Hyperparameters that we want to tune.\n",
    "from sklearn.model_selection import GridSearchCV\n",
    "\n",
    "n_neighbors = [1,10,20]\n",
    "p=[1,2]\n",
    "#Convert to dictionary\n",
    "hyperparameters = dict( n_neighbors=n_neighbors, p=p)\n",
    "#Create new KNN object\n",
    "knn_2 = KNeighborsClassifier()\n",
    "#Use GridSearch\n",
    "clf = GridSearchCV(knn_2, hyperparameters, cv=10,scoring=\"recall\")\n",
    "#Fit the model\n",
    "best_model = clf.fit(x_train_pca, y)\n",
    "#Print The value of best Hyperparameters\n",
    "print('Best leaf_size:', best_model.best_estimator_.get_params()['leaf_size'])\n",
    "print('Best p:', best_model.best_estimator_.get_params()['p'])\n",
    "print('Best n_neighbors:', best_model.best_estimator_.get_params()['n_neighbors'])"
   ]
  },
  {
   "cell_type": "code",
   "execution_count": 107,
   "metadata": {},
   "outputs": [
    {
     "name": "stdout",
     "output_type": "stream",
     "text": [
      "0.3155797101449275\n"
     ]
    }
   ],
   "source": [
    "print( best_model.best_score_)\n"
   ]
  },
  {
   "cell_type": "code",
   "execution_count": null,
   "metadata": {},
   "outputs": [],
   "source": []
  },
  {
   "cell_type": "markdown",
   "metadata": {},
   "source": [
    "# dt"
   ]
  },
  {
   "cell_type": "code",
   "execution_count": null,
   "metadata": {},
   "outputs": [],
   "source": [
    "from sklearn.tree import DecisionTreeClassifier\n",
    "from sklearn.metrics import accuracy_score\n",
    "\n",
    "max_depth = []\n",
    "acc_gini = []\n",
    "acc_entropy = []\n",
    "for i in range(1,20):\n",
    " dtree = DecisionTreeClassifier(criterion='gini', max_depth=i)\n",
    " dtree.fit(x_train_pca, y)\n",
    " pred = dtree.predict(x_test_pca)\n",
    " acc_gini.append(accuracy_score(y[8000 :10000 ], pred))\n",
    " ####\n",
    " dtree = DecisionTreeClassifier(criterion='entropy', max_depth=i)\n",
    " dtree.fit(x_train_pca, y[0:8000 ])\n",
    " pred = dtree.predict(x_test_pca)\n",
    " acc_entropy.append(accuracy_score(y[8000 :10000], pred))\n",
    " ####\n",
    " max_depth.append(i)\n",
    "d = pd.DataFrame({'acc_gini':pd.Series(acc_gini), \n",
    " 'acc_entropy':pd.Series(acc_entropy),\n",
    " 'max_depth':pd.Series(max_depth)})"
   ]
  },
  {
   "cell_type": "code",
   "execution_count": 83,
   "metadata": {},
   "outputs": [
    {
     "data": {
      "text/plain": [
       "<tensorflow.python.keras.callbacks.History at 0x2835c690bb0>"
      ]
     },
     "execution_count": 83,
     "metadata": {},
     "output_type": "execute_result"
    }
   ],
   "source": [
    "from keras.models import Sequential\n",
    "from keras.layers import Dense\n",
    "# load the dataset\n",
    "# split into input (X) and output (y) variables\n",
    "# define the keras model\n",
    "model = Sequential()\n",
    "model.add(Dense(12, input_dim=45, activation='relu'))\n",
    "model.add(Dense(8, activation='relu'))\n",
    "model.add(Dense(1, activation='sigmoid'))\n",
    "# compile the keras model\n",
    "model.compile(loss='binary_crossentropy', optimizer='adam', metrics=['accuracy'])\n",
    "# fit the keras model on the dataset\n",
    "model.fit(x_train, y_train, epochs=150, batch_size=10, verbose=0)\n",
    "# make class predictions with the model"
   ]
  },
  {
   "cell_type": "code",
   "execution_count": 84,
   "metadata": {},
   "outputs": [],
   "source": [
    "predictions = model.predict_classes(x_test)\n",
    "# summarize the first 5 cases"
   ]
  },
  {
   "cell_type": "code",
   "execution_count": 85,
   "metadata": {},
   "outputs": [
    {
     "data": {
      "text/plain": [
       "array([[119,  28],\n",
       "       [ 29,  20]], dtype=int64)"
      ]
     },
     "execution_count": 85,
     "metadata": {},
     "output_type": "execute_result"
    }
   ],
   "source": [
    "\n",
    "from sklearn.metrics import confusion_matrix\n",
    "confusion_matrix(y_test, predictions)"
   ]
  },
  {
   "cell_type": "code",
   "execution_count": null,
   "metadata": {},
   "outputs": [],
   "source": []
  },
  {
   "cell_type": "code",
   "execution_count": null,
   "metadata": {},
   "outputs": [],
   "source": []
  },
  {
   "cell_type": "code",
   "execution_count": null,
   "metadata": {},
   "outputs": [],
   "source": []
  },
  {
   "cell_type": "code",
   "execution_count": null,
   "metadata": {},
   "outputs": [],
   "source": []
  }
 ],
 "metadata": {
  "kernelspec": {
   "display_name": "Python 3",
   "language": "python",
   "name": "python3"
  },
  "language_info": {
   "codemirror_mode": {
    "name": "ipython",
    "version": 3
   },
   "file_extension": ".py",
   "mimetype": "text/x-python",
   "name": "python",
   "nbconvert_exporter": "python",
   "pygments_lexer": "ipython3",
   "version": "3.8.6"
  }
 },
 "nbformat": 4,
 "nbformat_minor": 4
}
