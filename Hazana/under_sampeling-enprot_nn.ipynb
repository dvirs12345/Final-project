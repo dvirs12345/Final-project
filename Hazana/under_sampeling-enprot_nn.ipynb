{
 "cells": [
  {
   "cell_type": "code",
   "execution_count": 19,
   "metadata": {},
   "outputs": [],
   "source": [
    "from pycaret.classification import *\n",
    "#using knn undersampeling for neural net work"
   ]
  },
  {
   "cell_type": "code",
   "execution_count": 79,
   "metadata": {},
   "outputs": [
    {
     "name": "stdout",
     "output_type": "stream",
     "text": [
      "(1020, 70)\n"
     ]
    }
   ],
   "source": [
    "import pandas as pd\n",
    "import numpy as np\n",
    "dataset=pd.read_excel(\"C:/Users/97254/Downloads/patient_level__ver 12_proj1_sn_5-13.xlsx\", engine='openpyxl')\n",
    "print(dataset.shape)"
   ]
  },
  {
   "cell_type": "code",
   "execution_count": 80,
   "metadata": {},
   "outputs": [],
   "source": [
    "dataset = dataset[~dataset['age'].isin(['NAN'])]"
   ]
  },
  {
   "cell_type": "code",
   "execution_count": 81,
   "metadata": {},
   "outputs": [
    {
     "data": {
      "text/html": [
       "<div>\n",
       "<style scoped>\n",
       "    .dataframe tbody tr th:only-of-type {\n",
       "        vertical-align: middle;\n",
       "    }\n",
       "\n",
       "    .dataframe tbody tr th {\n",
       "        vertical-align: top;\n",
       "    }\n",
       "\n",
       "    .dataframe thead th {\n",
       "        text-align: right;\n",
       "    }\n",
       "</style>\n",
       "<table border=\"1\" class=\"dataframe\">\n",
       "  <thead>\n",
       "    <tr style=\"text-align: right;\">\n",
       "      <th></th>\n",
       "      <th>ICU_mortality</th>\n",
       "    </tr>\n",
       "  </thead>\n",
       "  <tbody>\n",
       "    <tr>\n",
       "      <th>0</th>\n",
       "      <td>0</td>\n",
       "    </tr>\n",
       "    <tr>\n",
       "      <th>1</th>\n",
       "      <td>0</td>\n",
       "    </tr>\n",
       "    <tr>\n",
       "      <th>2</th>\n",
       "      <td>0</td>\n",
       "    </tr>\n",
       "    <tr>\n",
       "      <th>3</th>\n",
       "      <td>0</td>\n",
       "    </tr>\n",
       "    <tr>\n",
       "      <th>4</th>\n",
       "      <td>0</td>\n",
       "    </tr>\n",
       "  </tbody>\n",
       "</table>\n",
       "</div>"
      ],
      "text/plain": [
       "   ICU_mortality\n",
       "0              0\n",
       "1              0\n",
       "2              0\n",
       "3              0\n",
       "4              0"
      ]
     },
     "execution_count": 81,
     "metadata": {},
     "output_type": "execute_result"
    }
   ],
   "source": [
    "target = dataset[['ICU_mortality']]\n",
    "\n",
    "target.head()"
   ]
  },
  {
   "cell_type": "code",
   "execution_count": 82,
   "metadata": {},
   "outputs": [
    {
     "name": "stdout",
     "output_type": "stream",
     "text": [
      "(976, 13)\n"
     ]
    }
   ],
   "source": [
    "\n",
    "dataset = dataset[['age','BMI','APACHEII','trauma','metabolic','gastrointestinal','Sepsis','EN_pro_day0/kg','EN_pro_day1/kg','EN_pro_day2/kg','EN_pro_day3/kg','EN_pro_day4/kg','EN_pro_day5/kg']]\n",
    "print(dataset.shape)"
   ]
  },
  {
   "cell_type": "code",
   "execution_count": 83,
   "metadata": {},
   "outputs": [
    {
     "data": {
      "text/html": [
       "<div>\n",
       "<style scoped>\n",
       "    .dataframe tbody tr th:only-of-type {\n",
       "        vertical-align: middle;\n",
       "    }\n",
       "\n",
       "    .dataframe tbody tr th {\n",
       "        vertical-align: top;\n",
       "    }\n",
       "\n",
       "    .dataframe thead th {\n",
       "        text-align: right;\n",
       "    }\n",
       "</style>\n",
       "<table border=\"1\" class=\"dataframe\">\n",
       "  <thead>\n",
       "    <tr style=\"text-align: right;\">\n",
       "      <th></th>\n",
       "      <th>age</th>\n",
       "      <th>BMI</th>\n",
       "      <th>APACHEII</th>\n",
       "      <th>trauma</th>\n",
       "      <th>metabolic</th>\n",
       "      <th>gastrointestinal</th>\n",
       "      <th>Sepsis</th>\n",
       "      <th>EN_pro_day0/kg</th>\n",
       "      <th>EN_pro_day1/kg</th>\n",
       "      <th>EN_pro_day2/kg</th>\n",
       "      <th>EN_pro_day3/kg</th>\n",
       "      <th>EN_pro_day4/kg</th>\n",
       "      <th>EN_pro_day5/kg</th>\n",
       "    </tr>\n",
       "  </thead>\n",
       "  <tbody>\n",
       "    <tr>\n",
       "      <th>0</th>\n",
       "      <td>72</td>\n",
       "      <td>23.875115</td>\n",
       "      <td>16</td>\n",
       "      <td>0</td>\n",
       "      <td>1</td>\n",
       "      <td>0</td>\n",
       "      <td>1</td>\n",
       "      <td>1.250297</td>\n",
       "      <td>1.221456</td>\n",
       "      <td>1.578462</td>\n",
       "      <td>0.995015</td>\n",
       "      <td>1.394308</td>\n",
       "      <td>1.403077</td>\n",
       "    </tr>\n",
       "    <tr>\n",
       "      <th>1</th>\n",
       "      <td>58</td>\n",
       "      <td>32.979592</td>\n",
       "      <td>23</td>\n",
       "      <td>0</td>\n",
       "      <td>1</td>\n",
       "      <td>0</td>\n",
       "      <td>1</td>\n",
       "      <td>0.758495</td>\n",
       "      <td>0.000000</td>\n",
       "      <td>0.670993</td>\n",
       "      <td>1.177788</td>\n",
       "      <td>0.403229</td>\n",
       "      <td>0.000000</td>\n",
       "    </tr>\n",
       "    <tr>\n",
       "      <th>2</th>\n",
       "      <td>44</td>\n",
       "      <td>22.857143</td>\n",
       "      <td>0</td>\n",
       "      <td>0</td>\n",
       "      <td>0</td>\n",
       "      <td>1</td>\n",
       "      <td>1</td>\n",
       "      <td>0.000000</td>\n",
       "      <td>0.000000</td>\n",
       "      <td>0.023259</td>\n",
       "      <td>1.396370</td>\n",
       "      <td>0.256457</td>\n",
       "      <td>0.000000</td>\n",
       "    </tr>\n",
       "    <tr>\n",
       "      <th>3</th>\n",
       "      <td>71</td>\n",
       "      <td>19.227688</td>\n",
       "      <td>0</td>\n",
       "      <td>0</td>\n",
       "      <td>1</td>\n",
       "      <td>1</td>\n",
       "      <td>0</td>\n",
       "      <td>1.145278</td>\n",
       "      <td>1.520000</td>\n",
       "      <td>1.520000</td>\n",
       "      <td>1.520000</td>\n",
       "      <td>1.520000</td>\n",
       "      <td>1.209667</td>\n",
       "    </tr>\n",
       "    <tr>\n",
       "      <th>4</th>\n",
       "      <td>60</td>\n",
       "      <td>32.791945</td>\n",
       "      <td>17</td>\n",
       "      <td>1</td>\n",
       "      <td>1</td>\n",
       "      <td>1</td>\n",
       "      <td>0</td>\n",
       "      <td>0.014902</td>\n",
       "      <td>0.858353</td>\n",
       "      <td>0.731984</td>\n",
       "      <td>0.922729</td>\n",
       "      <td>1.287529</td>\n",
       "      <td>1.287529</td>\n",
       "    </tr>\n",
       "  </tbody>\n",
       "</table>\n",
       "</div>"
      ],
      "text/plain": [
       "  age        BMI  APACHEII  trauma  metabolic  gastrointestinal  Sepsis  \\\n",
       "0  72  23.875115        16       0          1                 0       1   \n",
       "1  58  32.979592        23       0          1                 0       1   \n",
       "2  44  22.857143         0       0          0                 1       1   \n",
       "3  71  19.227688         0       0          1                 1       0   \n",
       "4  60  32.791945        17       1          1                 1       0   \n",
       "\n",
       "   EN_pro_day0/kg  EN_pro_day1/kg  EN_pro_day2/kg  EN_pro_day3/kg  \\\n",
       "0        1.250297        1.221456        1.578462        0.995015   \n",
       "1        0.758495        0.000000        0.670993        1.177788   \n",
       "2        0.000000        0.000000        0.023259        1.396370   \n",
       "3        1.145278        1.520000        1.520000        1.520000   \n",
       "4        0.014902        0.858353        0.731984        0.922729   \n",
       "\n",
       "   EN_pro_day4/kg  EN_pro_day5/kg  \n",
       "0        1.394308        1.403077  \n",
       "1        0.403229        0.000000  \n",
       "2        0.256457        0.000000  \n",
       "3        1.520000        1.209667  \n",
       "4        1.287529        1.287529  "
      ]
     },
     "execution_count": 83,
     "metadata": {},
     "output_type": "execute_result"
    }
   ],
   "source": [
    "dataset.head()"
   ]
  },
  {
   "cell_type": "markdown",
   "metadata": {},
   "source": [
    "# under_sampling"
   ]
  },
  {
   "cell_type": "code",
   "execution_count": 84,
   "metadata": {},
   "outputs": [],
   "source": [
    "from imblearn.under_sampling import EditedNearestNeighbours\n",
    "  \n",
    "#Edited Nearest Neighbours: This algorithm removes any sample which has labels different from those of its adjoining classes.\n",
    "#pramaters to use:(ratio='auto', return_indices=False, random_state=None, size_ngh=None, n_neighbors=3, kind_sel='all', n_jobs=1)\n",
    "en = EditedNearestNeighbours()\n",
    "dataset, target = en.fit_resample(dataset, target)"
   ]
  },
  {
   "cell_type": "code",
   "execution_count": 85,
   "metadata": {},
   "outputs": [
    {
     "data": {
      "text/plain": [
       "(589, 13)"
      ]
     },
     "execution_count": 85,
     "metadata": {},
     "output_type": "execute_result"
    }
   ],
   "source": [
    "dataset.shape"
   ]
  },
  {
   "cell_type": "code",
   "execution_count": 86,
   "metadata": {},
   "outputs": [
    {
     "data": {
      "text/plain": [
       "0    354\n",
       "1    235\n",
       "Name: ICU_mortality, dtype: int64"
      ]
     },
     "execution_count": 86,
     "metadata": {},
     "output_type": "execute_result"
    }
   ],
   "source": [
    "\n",
    "downsampled = pd.concat([dataset, target],axis=1)\n",
    "\n",
    "# checking counts\n",
    "downsampled.ICU_mortality.value_counts()"
   ]
  },
  {
   "cell_type": "code",
   "execution_count": 87,
   "metadata": {},
   "outputs": [
    {
     "data": {
      "text/html": [
       "<div>\n",
       "<style scoped>\n",
       "    .dataframe tbody tr th:only-of-type {\n",
       "        vertical-align: middle;\n",
       "    }\n",
       "\n",
       "    .dataframe tbody tr th {\n",
       "        vertical-align: top;\n",
       "    }\n",
       "\n",
       "    .dataframe thead th {\n",
       "        text-align: right;\n",
       "    }\n",
       "</style>\n",
       "<table border=\"1\" class=\"dataframe\">\n",
       "  <thead>\n",
       "    <tr style=\"text-align: right;\">\n",
       "      <th></th>\n",
       "      <th>age</th>\n",
       "      <th>BMI</th>\n",
       "      <th>APACHEII</th>\n",
       "      <th>trauma</th>\n",
       "      <th>metabolic</th>\n",
       "      <th>gastrointestinal</th>\n",
       "      <th>Sepsis</th>\n",
       "      <th>EN_pro_day0/kg</th>\n",
       "      <th>EN_pro_day1/kg</th>\n",
       "      <th>EN_pro_day2/kg</th>\n",
       "      <th>EN_pro_day3/kg</th>\n",
       "      <th>EN_pro_day4/kg</th>\n",
       "      <th>EN_pro_day5/kg</th>\n",
       "      <th>ICU_mortality</th>\n",
       "    </tr>\n",
       "  </thead>\n",
       "  <tbody>\n",
       "    <tr>\n",
       "      <th>0</th>\n",
       "      <td>58</td>\n",
       "      <td>32.979592</td>\n",
       "      <td>23</td>\n",
       "      <td>0</td>\n",
       "      <td>1</td>\n",
       "      <td>0</td>\n",
       "      <td>1</td>\n",
       "      <td>0.758495</td>\n",
       "      <td>0.000000</td>\n",
       "      <td>0.670993</td>\n",
       "      <td>1.177788</td>\n",
       "      <td>0.403229</td>\n",
       "      <td>0.000000</td>\n",
       "      <td>0</td>\n",
       "    </tr>\n",
       "    <tr>\n",
       "      <th>1</th>\n",
       "      <td>71</td>\n",
       "      <td>19.227688</td>\n",
       "      <td>0</td>\n",
       "      <td>0</td>\n",
       "      <td>1</td>\n",
       "      <td>1</td>\n",
       "      <td>0</td>\n",
       "      <td>1.145278</td>\n",
       "      <td>1.520000</td>\n",
       "      <td>1.520000</td>\n",
       "      <td>1.520000</td>\n",
       "      <td>1.520000</td>\n",
       "      <td>1.209667</td>\n",
       "      <td>0</td>\n",
       "    </tr>\n",
       "    <tr>\n",
       "      <th>2</th>\n",
       "      <td>57</td>\n",
       "      <td>34.717839</td>\n",
       "      <td>26</td>\n",
       "      <td>0</td>\n",
       "      <td>1</td>\n",
       "      <td>0</td>\n",
       "      <td>1</td>\n",
       "      <td>0.496533</td>\n",
       "      <td>0.275733</td>\n",
       "      <td>0.904000</td>\n",
       "      <td>0.811733</td>\n",
       "      <td>0.432533</td>\n",
       "      <td>0.000000</td>\n",
       "      <td>0</td>\n",
       "    </tr>\n",
       "    <tr>\n",
       "      <th>3</th>\n",
       "      <td>63</td>\n",
       "      <td>23.374726</td>\n",
       "      <td>16</td>\n",
       "      <td>0</td>\n",
       "      <td>0</td>\n",
       "      <td>0</td>\n",
       "      <td>1</td>\n",
       "      <td>0.785400</td>\n",
       "      <td>1.383591</td>\n",
       "      <td>1.582979</td>\n",
       "      <td>1.065138</td>\n",
       "      <td>1.327454</td>\n",
       "      <td>1.395000</td>\n",
       "      <td>0</td>\n",
       "    </tr>\n",
       "    <tr>\n",
       "      <th>4</th>\n",
       "      <td>39</td>\n",
       "      <td>18.730489</td>\n",
       "      <td>0</td>\n",
       "      <td>1</td>\n",
       "      <td>1</td>\n",
       "      <td>0</td>\n",
       "      <td>1</td>\n",
       "      <td>0.515885</td>\n",
       "      <td>0.922515</td>\n",
       "      <td>0.000000</td>\n",
       "      <td>0.000000</td>\n",
       "      <td>0.000000</td>\n",
       "      <td>0.000000</td>\n",
       "      <td>0</td>\n",
       "    </tr>\n",
       "  </tbody>\n",
       "</table>\n",
       "</div>"
      ],
      "text/plain": [
       "  age        BMI  APACHEII  trauma  metabolic  gastrointestinal  Sepsis  \\\n",
       "0  58  32.979592        23       0          1                 0       1   \n",
       "1  71  19.227688         0       0          1                 1       0   \n",
       "2  57  34.717839        26       0          1                 0       1   \n",
       "3  63  23.374726        16       0          0                 0       1   \n",
       "4  39  18.730489         0       1          1                 0       1   \n",
       "\n",
       "   EN_pro_day0/kg  EN_pro_day1/kg  EN_pro_day2/kg  EN_pro_day3/kg  \\\n",
       "0        0.758495        0.000000        0.670993        1.177788   \n",
       "1        1.145278        1.520000        1.520000        1.520000   \n",
       "2        0.496533        0.275733        0.904000        0.811733   \n",
       "3        0.785400        1.383591        1.582979        1.065138   \n",
       "4        0.515885        0.922515        0.000000        0.000000   \n",
       "\n",
       "   EN_pro_day4/kg  EN_pro_day5/kg  ICU_mortality  \n",
       "0        0.403229        0.000000              0  \n",
       "1        1.520000        1.209667              0  \n",
       "2        0.432533        0.000000              0  \n",
       "3        1.327454        1.395000              0  \n",
       "4        0.000000        0.000000              0  "
      ]
     },
     "execution_count": 87,
     "metadata": {},
     "output_type": "execute_result"
    }
   ],
   "source": [
    "downsampled.head()"
   ]
  },
  {
   "cell_type": "code",
   "execution_count": null,
   "metadata": {},
   "outputs": [],
   "source": []
  },
  {
   "cell_type": "code",
   "execution_count": 88,
   "metadata": {},
   "outputs": [],
   "source": [
    "from sklearn.model_selection import train_test_split\n",
    "#this function randomly split the data into train and test sets\n",
    "downsampled = downsampled.astype('float32')\n",
    "x_train, x_test, y_train, y_test = train_test_split(downsampled.iloc[:,:13] , downsampled.iloc[:,13], test_size=.2)"
   ]
  },
  {
   "cell_type": "code",
   "execution_count": 89,
   "metadata": {},
   "outputs": [
    {
     "data": {
      "text/plain": [
       "(471, 13)"
      ]
     },
     "execution_count": 89,
     "metadata": {},
     "output_type": "execute_result"
    }
   ],
   "source": [
    "x_train.shape"
   ]
  },
  {
   "cell_type": "code",
   "execution_count": 90,
   "metadata": {},
   "outputs": [
    {
     "data": {
      "text/plain": [
       "<tensorflow.python.keras.callbacks.History at 0x20293849e50>"
      ]
     },
     "execution_count": 90,
     "metadata": {},
     "output_type": "execute_result"
    }
   ],
   "source": [
    "from keras.models import Sequential\n",
    "from keras.layers import Dense\n",
    "# load the dataset\n",
    "# split into input (X) and output (y) variables\n",
    "# define the keras model\n",
    "model = Sequential()\n",
    "model.add(Dense(20, input_dim=13, activation='relu'))\n",
    "model.add(Dense(18, activation='relu'))\n",
    "model.add(Dense(1, activation='sigmoid'))\n",
    "# compile the keras model\n",
    "model.compile(loss='binary_crossentropy', optimizer='adam', metrics=['accuracy'])\n",
    "# fit the keras model on the dataset\n",
    "model.fit(x_train, y_train, epochs=100, batch_size=20, verbose=0)\n",
    "# make class predictions with the model"
   ]
  },
  {
   "cell_type": "code",
   "execution_count": 91,
   "metadata": {},
   "outputs": [
    {
     "data": {
      "text/plain": [
       "array([[34, 27],\n",
       "       [10, 47]], dtype=int64)"
      ]
     },
     "execution_count": 91,
     "metadata": {},
     "output_type": "execute_result"
    }
   ],
   "source": [
    "predictions = model.predict_classes(x_test)\n",
    "from sklearn.metrics import confusion_matrix\n",
    "confusion_matrix(y_test, predictions)"
   ]
  },
  {
   "cell_type": "code",
   "execution_count": 95,
   "metadata": {},
   "outputs": [
    {
     "data": {
      "text/plain": [
       "<tensorflow.python.keras.callbacks.History at 0x202938670d0>"
      ]
     },
     "execution_count": 95,
     "metadata": {},
     "output_type": "execute_result"
    }
   ],
   "source": [
    "from keras.models import Sequential\n",
    "from keras.layers import Dense\n",
    "# load the dataset\n",
    "# split into input (X) and output (y) variables\n",
    "# define the keras model\n",
    "model = Sequential()\n",
    "model.add(Dense(20, input_dim=13, activation='relu'))\n",
    "model.add(Dense(5, activation='sigmoid'))\n",
    "model.add(Dense(10, activation='sigmoid'))\n",
    "\n",
    "model.add(Dense(18, activation='relu'))\n",
    "model.add(Dense(1, activation='sigmoid'))\n",
    "\n",
    "# compile the keras model\n",
    "model.compile(loss='binary_crossentropy', optimizer='adam', metrics=['accuracy'])\n",
    "# fit the keras model on the dataset\n",
    "model.fit(x_train, y_train, epochs=100, batch_size=20, verbose=0)\n",
    "# make class predictions with the model"
   ]
  },
  {
   "cell_type": "code",
   "execution_count": 96,
   "metadata": {},
   "outputs": [
    {
     "data": {
      "text/plain": [
       "array([[44, 17],\n",
       "       [19, 38]], dtype=int64)"
      ]
     },
     "execution_count": 96,
     "metadata": {},
     "output_type": "execute_result"
    }
   ],
   "source": [
    "predictions = model.predict_classes(x_test)\n",
    "from sklearn.metrics import confusion_matrix\n",
    "confusion_matrix(y_test, predictions)"
   ]
  },
  {
   "cell_type": "code",
   "execution_count": null,
   "metadata": {},
   "outputs": [],
   "source": []
  }
 ],
 "metadata": {
  "kernelspec": {
   "display_name": "Python 3",
   "language": "python",
   "name": "python3"
  },
  "language_info": {
   "codemirror_mode": {
    "name": "ipython",
    "version": 3
   },
   "file_extension": ".py",
   "mimetype": "text/x-python",
   "name": "python",
   "nbconvert_exporter": "python",
   "pygments_lexer": "ipython3",
   "version": "3.8.6"
  }
 },
 "nbformat": 4,
 "nbformat_minor": 4
}
