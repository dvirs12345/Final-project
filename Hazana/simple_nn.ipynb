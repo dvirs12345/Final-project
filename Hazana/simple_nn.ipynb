{
 "cells": [
  {
   "cell_type": "markdown",
   "metadata": {
    "_uuid": "855d1bd2aad044e8623f1067f1bf07fd90360221"
   },
   "source": [
    "# Objective:\n",
    "neural network explore"
   ]
  },
  {
   "cell_type": "code",
   "execution_count": 64,
   "metadata": {
    "scrolled": true
   },
   "outputs": [
    {
     "data": {
      "text/html": [
       "<div>\n",
       "<style scoped>\n",
       "    .dataframe tbody tr th:only-of-type {\n",
       "        vertical-align: middle;\n",
       "    }\n",
       "\n",
       "    .dataframe tbody tr th {\n",
       "        vertical-align: top;\n",
       "    }\n",
       "\n",
       "    .dataframe thead th {\n",
       "        text-align: right;\n",
       "    }\n",
       "</style>\n",
       "<table border=\"1\" class=\"dataframe\">\n",
       "  <thead>\n",
       "    <tr style=\"text-align: right;\">\n",
       "      <th></th>\n",
       "      <th>ser_num</th>\n",
       "      <th>ICU_LOS</th>\n",
       "      <th>LOS_Group</th>\n",
       "      <th>ICU_mortality</th>\n",
       "      <th>HOSP_mortality</th>\n",
       "      <th>28_mortality</th>\n",
       "      <th>90 days mortality</th>\n",
       "      <th>trauma</th>\n",
       "      <th>metabolic</th>\n",
       "      <th>gastrointestinal</th>\n",
       "      <th>...</th>\n",
       "      <th>EN_pro_day12</th>\n",
       "      <th>PN_pro_day12</th>\n",
       "      <th>EN_pro_day13</th>\n",
       "      <th>PN_pro_day13</th>\n",
       "      <th>EN_pro_day0/kg</th>\n",
       "      <th>EN_pro_day1/kg</th>\n",
       "      <th>EN_pro_day2/kg</th>\n",
       "      <th>EN_pro_day3/kg</th>\n",
       "      <th>EN_pro_day4/kg</th>\n",
       "      <th>EN_pro_day5/kg</th>\n",
       "    </tr>\n",
       "  </thead>\n",
       "  <tbody>\n",
       "    <tr>\n",
       "      <th>0</th>\n",
       "      <td>2</td>\n",
       "      <td>9</td>\n",
       "      <td>LOS_8-13</td>\n",
       "      <td>0</td>\n",
       "      <td>0</td>\n",
       "      <td>0</td>\n",
       "      <td>0</td>\n",
       "      <td>0</td>\n",
       "      <td>1</td>\n",
       "      <td>0</td>\n",
       "      <td>...</td>\n",
       "      <td>0.0</td>\n",
       "      <td>0.000000</td>\n",
       "      <td>0.0</td>\n",
       "      <td>0.0</td>\n",
       "      <td>1.250297</td>\n",
       "      <td>1.221456</td>\n",
       "      <td>1.578462</td>\n",
       "      <td>0.995015</td>\n",
       "      <td>1.394308</td>\n",
       "      <td>1.403077</td>\n",
       "    </tr>\n",
       "    <tr>\n",
       "      <th>1</th>\n",
       "      <td>3</td>\n",
       "      <td>5</td>\n",
       "      <td>LOS_5-7</td>\n",
       "      <td>0</td>\n",
       "      <td>0</td>\n",
       "      <td>0</td>\n",
       "      <td>0</td>\n",
       "      <td>0</td>\n",
       "      <td>1</td>\n",
       "      <td>0</td>\n",
       "      <td>...</td>\n",
       "      <td>0.0</td>\n",
       "      <td>0.000000</td>\n",
       "      <td>0.0</td>\n",
       "      <td>0.0</td>\n",
       "      <td>0.758495</td>\n",
       "      <td>0.000000</td>\n",
       "      <td>0.670993</td>\n",
       "      <td>1.177788</td>\n",
       "      <td>0.403229</td>\n",
       "      <td>0.000000</td>\n",
       "    </tr>\n",
       "    <tr>\n",
       "      <th>2</th>\n",
       "      <td>5</td>\n",
       "      <td>13</td>\n",
       "      <td>LOS_8-13</td>\n",
       "      <td>0</td>\n",
       "      <td>0</td>\n",
       "      <td>0</td>\n",
       "      <td>0</td>\n",
       "      <td>0</td>\n",
       "      <td>0</td>\n",
       "      <td>1</td>\n",
       "      <td>...</td>\n",
       "      <td>0.0</td>\n",
       "      <td>53.273355</td>\n",
       "      <td>0.0</td>\n",
       "      <td>0.0</td>\n",
       "      <td>0.000000</td>\n",
       "      <td>0.000000</td>\n",
       "      <td>0.023259</td>\n",
       "      <td>1.396370</td>\n",
       "      <td>0.256457</td>\n",
       "      <td>0.000000</td>\n",
       "    </tr>\n",
       "    <tr>\n",
       "      <th>3</th>\n",
       "      <td>7</td>\n",
       "      <td>6</td>\n",
       "      <td>LOS_5-7</td>\n",
       "      <td>0</td>\n",
       "      <td>0</td>\n",
       "      <td>0</td>\n",
       "      <td>0</td>\n",
       "      <td>0</td>\n",
       "      <td>1</td>\n",
       "      <td>1</td>\n",
       "      <td>...</td>\n",
       "      <td>0.0</td>\n",
       "      <td>0.000000</td>\n",
       "      <td>0.0</td>\n",
       "      <td>0.0</td>\n",
       "      <td>1.145278</td>\n",
       "      <td>1.520000</td>\n",
       "      <td>1.520000</td>\n",
       "      <td>1.520000</td>\n",
       "      <td>1.520000</td>\n",
       "      <td>1.209667</td>\n",
       "    </tr>\n",
       "    <tr>\n",
       "      <th>4</th>\n",
       "      <td>9</td>\n",
       "      <td>9</td>\n",
       "      <td>LOS_8-13</td>\n",
       "      <td>0</td>\n",
       "      <td>0</td>\n",
       "      <td>0</td>\n",
       "      <td>0</td>\n",
       "      <td>1</td>\n",
       "      <td>1</td>\n",
       "      <td>1</td>\n",
       "      <td>...</td>\n",
       "      <td>0.0</td>\n",
       "      <td>0.000000</td>\n",
       "      <td>0.0</td>\n",
       "      <td>0.0</td>\n",
       "      <td>0.014902</td>\n",
       "      <td>0.858353</td>\n",
       "      <td>0.731984</td>\n",
       "      <td>0.922729</td>\n",
       "      <td>1.287529</td>\n",
       "      <td>1.287529</td>\n",
       "    </tr>\n",
       "  </tbody>\n",
       "</table>\n",
       "<p>5 rows × 70 columns</p>\n",
       "</div>"
      ],
      "text/plain": [
       "   ser_num  ICU_LOS LOS_Group  ICU_mortality  HOSP_mortality  28_mortality  \\\n",
       "0        2        9  LOS_8-13              0               0             0   \n",
       "1        3        5   LOS_5-7              0               0             0   \n",
       "2        5       13  LOS_8-13              0               0             0   \n",
       "3        7        6   LOS_5-7              0               0             0   \n",
       "4        9        9  LOS_8-13              0               0             0   \n",
       "\n",
       "   90 days mortality  trauma  metabolic  gastrointestinal  ...  EN_pro_day12  \\\n",
       "0                  0       0          1                 0  ...           0.0   \n",
       "1                  0       0          1                 0  ...           0.0   \n",
       "2                  0       0          0                 1  ...           0.0   \n",
       "3                  0       0          1                 1  ...           0.0   \n",
       "4                  0       1          1                 1  ...           0.0   \n",
       "\n",
       "  PN_pro_day12 EN_pro_day13  PN_pro_day13  EN_pro_day0/kg  EN_pro_day1/kg  \\\n",
       "0     0.000000          0.0           0.0        1.250297        1.221456   \n",
       "1     0.000000          0.0           0.0        0.758495        0.000000   \n",
       "2    53.273355          0.0           0.0        0.000000        0.000000   \n",
       "3     0.000000          0.0           0.0        1.145278        1.520000   \n",
       "4     0.000000          0.0           0.0        0.014902        0.858353   \n",
       "\n",
       "  EN_pro_day2/kg EN_pro_day3/kg EN_pro_day4/kg  EN_pro_day5/kg  \n",
       "0       1.578462       0.995015       1.394308        1.403077  \n",
       "1       0.670993       1.177788       0.403229        0.000000  \n",
       "2       0.023259       1.396370       0.256457        0.000000  \n",
       "3       1.520000       1.520000       1.520000        1.209667  \n",
       "4       0.731984       0.922729       1.287529        1.287529  \n",
       "\n",
       "[5 rows x 70 columns]"
      ]
     },
     "execution_count": 64,
     "metadata": {},
     "output_type": "execute_result"
    }
   ],
   "source": [
    "import pandas as pd  \n",
    "import numpy as np  \n",
    "import matplotlib.pyplot as plt \n",
    "import seaborn as sns\n",
    "import random\n",
    "  \n",
    "dataset=pd.read_excel(\"C:/Users/97254/Downloads/patient_level__ver 12_proj1_sn_5-13.xlsx\", engine='openpyxl')\n",
    "\n",
    "\n",
    "dataset.head()\n"
   ]
  },
  {
   "cell_type": "code",
   "execution_count": 65,
   "metadata": {},
   "outputs": [],
   "source": [
    "#remove NAN\n",
    "dataset = dataset[~dataset['age'].isin(['NAN'])]"
   ]
  },
  {
   "cell_type": "code",
   "execution_count": 66,
   "metadata": {},
   "outputs": [
    {
     "data": {
      "text/plain": [
       "(834, 64)"
      ]
     },
     "execution_count": 66,
     "metadata": {},
     "output_type": "execute_result"
    }
   ],
   "source": [
    "dataset = dataset[[\n",
    "    'ICU_mortality',\n",
    " 'LOS_Group',\n",
    "'trauma',\n",
    "'metabolic',\n",
    "'gastrointestinal',\n",
    "'Sepsis'\n",
    ",'age'\n",
    ",'gender'\n",
    ",'weight'\n",
    ",'BMI'\n",
    ",'active problems'\n",
    ",'background problems'\n",
    ",'feeding'\n",
    ",'Target_pro_day'\n",
    ",'pro_to_target_day0'\n",
    ",'pro_to_target_day1'\n",
    ",'pro_to_target_day2'\n",
    ",'pro_to_target_day3'\n",
    ",'pro_to_target_day4'\n",
    ",'pro_to_target_day5'\n",
    ",'pro_to_target_day6'\n",
    ",'pro_to_target_day7'\n",
    ",'pro_to_target_day8'\n",
    ",'pro_to_target_day9'\n",
    ",'pro_to_target_day10'\n",
    ",'pro_to_target_day11'\n",
    ",'pro_to_target_day12'\n",
    ",'pro_to_target_day13'\n",
    ",'Total_EN_pro'\n",
    ",'Total_PN_pro'\n",
    ",'EN_pro_day0'\n",
    ",'PN_pro_day0'\n",
    ",'EN_pro_day1'\n",
    ",'PN_pro_day1'\n",
    ",'EN_pro_day2'\n",
    ",'PN_pro_day2'\n",
    ",'EN_pro_day3'\n",
    ",'PN_pro_day3'\n",
    ",'EN_pro_day4'\n",
    ",'PN_pro_day4'\n",
    ",'EN_pro_day5'\n",
    ",'PN_pro_day5'\n",
    ",'EN_pro_day6'\n",
    ",'PN_pro_day6'\n",
    ",'EN_pro_day7'\n",
    ",'PN_pro_day7'\n",
    ",'EN_pro_day8'\n",
    ",'PN_pro_day8'\n",
    ",'EN_pro_day9'\n",
    ",'PN_pro_day9'\n",
    ",'EN_pro_day10'\n",
    ",'PN_pro_day10'\n",
    ",'EN_pro_day11'\n",
    ",'PN_pro_day11'\n",
    ",'EN_pro_day12'\n",
    ",'PN_pro_day12'\n",
    ",'EN_pro_day13'\n",
    ",'PN_pro_day13'  \n",
    ",'EN_pro_day0/kg'   \n",
    ",'EN_pro_day1/kg'    \n",
    ",'EN_pro_day2/kg'      \n",
    ",'EN_pro_day3/kg'    \n",
    ",'EN_pro_day4/kg'       \n",
    ",'EN_pro_day5/kg'        \n",
    "    \n",
    "]]\n",
    "dataset.shape"
   ]
  },
  {
   "cell_type": "code",
   "execution_count": 67,
   "metadata": {},
   "outputs": [],
   "source": [
    "from sklearn.preprocessing import LabelEncoder\n",
    "le = LabelEncoder()\n",
    "dataset['active problems'] = le.fit_transform(dataset['active problems'].astype(str))\n",
    "dataset['background problems'] = le.fit_transform(dataset['background problems'].astype(str))\n",
    "dataset['gender'] = le.fit_transform(dataset['gender'].astype(str))\n",
    "dataset['feeding'] = le.fit_transform(dataset['feeding'].astype(str))\n",
    "dataset['LOS_Group'] = le.fit_transform(dataset['feeding'].astype(str))"
   ]
  },
  {
   "cell_type": "code",
   "execution_count": 68,
   "metadata": {},
   "outputs": [],
   "source": [
    "x = dataset.iloc[:,1:]\n",
    "y = dataset.iloc[:,0]"
   ]
  },
  {
   "cell_type": "code",
   "execution_count": null,
   "metadata": {},
   "outputs": [],
   "source": []
  },
  {
   "cell_type": "code",
   "execution_count": 69,
   "metadata": {},
   "outputs": [],
   "source": [
    "from sklearn.model_selection import train_test_split\n",
    "#this function randomly split the data into train and test sets\n",
    "x = x.astype('float32')\n",
    "x_train, x_test, y_train, y_test = train_test_split(x , y, test_size=.2)"
   ]
  },
  {
   "cell_type": "code",
   "execution_count": 70,
   "metadata": {},
   "outputs": [
    {
     "data": {
      "text/plain": [
       "<tensorflow.python.keras.callbacks.History at 0x1ed86fed190>"
      ]
     },
     "execution_count": 70,
     "metadata": {},
     "output_type": "execute_result"
    }
   ],
   "source": [
    "from keras.models import Sequential\n",
    "from keras.layers import Dense\n",
    "# load the dataset\n",
    "# split into input (X) and output (y) variables\n",
    "# define the keras model\n",
    "model = Sequential()\n",
    "model.add(Dense(20, input_dim=63, activation='relu'))\n",
    "model.add(Dense(18, activation='relu'))\n",
    "model.add(Dense(1, activation='sigmoid'))\n",
    "# compile the keras model\n",
    "model.compile(loss='binary_crossentropy', optimizer='adam', metrics=['accuracy'])\n",
    "# fit the keras model on the dataset\n",
    "model.fit(x_train, y_train, epochs=100, batch_size=20, verbose=0)\n",
    "# make class predictions with the model"
   ]
  },
  {
   "cell_type": "code",
   "execution_count": 71,
   "metadata": {},
   "outputs": [
    {
     "name": "stdout",
     "output_type": "stream",
     "text": [
      "WARNING:tensorflow:5 out of the last 14 calls to <function Model.make_predict_function.<locals>.predict_function at 0x000001ED858EB790> triggered tf.function retracing. Tracing is expensive and the excessive number of tracings could be due to (1) creating @tf.function repeatedly in a loop, (2) passing tensors with different shapes, (3) passing Python objects instead of tensors. For (1), please define your @tf.function outside of the loop. For (2), @tf.function has experimental_relax_shapes=True option that relaxes argument shapes that can avoid unnecessary retracing. For (3), please refer to https://www.tensorflow.org/tutorials/customization/performance#python_or_tensor_args and https://www.tensorflow.org/api_docs/python/tf/function for  more details.\n"
     ]
    },
    {
     "data": {
      "text/plain": [
       "array([[116,   5],\n",
       "       [ 42,   4]], dtype=int64)"
      ]
     },
     "execution_count": 71,
     "metadata": {},
     "output_type": "execute_result"
    }
   ],
   "source": [
    "predictions = model.predict_classes(x_test)\n",
    "from sklearn.metrics import confusion_matrix\n",
    "confusion_matrix(y_test, predictions)"
   ]
  },
  {
   "cell_type": "code",
   "execution_count": null,
   "metadata": {},
   "outputs": [],
   "source": []
  },
  {
   "cell_type": "markdown",
   "metadata": {
    "_uuid": "64356442a241f3b8bb7bb1486f4cfda0dcff0fd6"
   },
   "source": [
    "## 4. Feature Scaling:\n",
    "Feature scaling is a method used to standardize the range of independent variables or features of data. In data processing, it is also known as data normalization and is generally performed during the data preprocessing step.\n",
    "\n",
    "### Standardization\n",
    "In machine learning, we can handle various types of data, e.g. audio signals and pixel values for image data, and this data can include multiple dimensions. Feature standardization makes the values of each feature in the data have zero-mean (when subtracting the mean in the numerator) and unit-variance. This method is widely used for normalization in many machine learning algorithms (e.g., support vector machines, logistic regression, and neural networks. The general method of calculation is to determine the distribution mean and standard deviation for each feature. Next we subtract the mean from each feature. Then we divide the values (mean is already subtracted) of each feature by its standard deviation.\n",
    "\n",
    "## Standard Scaler\n",
    "\n",
    "##  $$x'= \\frac{x - mean(x)}{\\sigma}$$\n"
   ]
  },
  {
   "cell_type": "code",
   "execution_count": 6,
   "metadata": {},
   "outputs": [
    {
     "data": {
      "text/plain": [
       "StandardScaler()"
      ]
     },
     "execution_count": 6,
     "metadata": {},
     "output_type": "execute_result"
    }
   ],
   "source": [
    "from sklearn.preprocessing import StandardScaler\n",
    "scaler = StandardScaler()\n",
    "scaler.fit(x)\n"
   ]
  },
  {
   "cell_type": "code",
   "execution_count": 7,
   "metadata": {},
   "outputs": [],
   "source": [
    "x_train_scaler = scaler.transform(x)"
   ]
  },
  {
   "cell_type": "code",
   "execution_count": 8,
   "metadata": {},
   "outputs": [
    {
     "name": "stdout",
     "output_type": "stream",
     "text": [
      "Nearest Neighbors: 0.754332 (0.041540)\n",
      "Decision Tree: 0.679819 (0.059092)\n",
      "Random Forest: 0.783061 (0.031716)\n",
      "Logistic Regression: 0.766251 (0.033560)\n"
     ]
    }
   ],
   "source": [
    "from sklearn import model_selection\n",
    "seed = 1\n",
    "from sklearn.linear_model import LogisticRegression\n",
    "\n",
    "from sklearn.neighbors import KNeighborsClassifier\n",
    "from sklearn.tree import DecisionTreeClassifier\n",
    "from sklearn.ensemble import RandomForestClassifier, AdaBoostClassifier\n",
    "from sklearn.svm import SVC\n",
    "from sklearn.metrics import classification_report, accuracy_score\n",
    "\n",
    "# define scoring method\n",
    "scoring = 'accuracy'\n",
    "\n",
    "# Define models to train\n",
    "names = [\"Nearest Neighbors\",\n",
    "         \"Decision Tree\",\n",
    "         \"Random Forest\", \n",
    "         #\"AdaBoost\",\n",
    "         # \"SVM Linear\",\n",
    "        \"Logistic Regression\"]\n",
    "\n",
    "classifiers = [\n",
    "    KNeighborsClassifier(),\n",
    "    DecisionTreeClassifier(),\n",
    "    RandomForestClassifier(),\n",
    "   # AdaBoostClassifier(),\n",
    "   # SVC(kernel = 'linear'), \n",
    "    LogisticRegression(n_jobs = -1)\n",
    "\n",
    "]\n",
    "\n",
    "models = zip(names, classifiers)\n",
    "\n",
    "# evaluate each model in turn\n",
    "results = []\n",
    "names = []\n",
    "\n",
    "for name, model in models:\n",
    "    kfold = model_selection.KFold(n_splits=10)\n",
    "    cv_results = model_selection.cross_val_score(model, x_train_scaler[0:8000 ], y[0:8000 ], cv=kfold, scoring=scoring)\n",
    "    results.append(cv_results)\n",
    "    names.append(name)\n",
    "    msg = \"%s: %f (%f)\" % (name, cv_results.mean(), cv_results.std())\n",
    "    print(msg)"
   ]
  },
  {
   "cell_type": "markdown",
   "metadata": {
    "_uuid": "6a98d72ff1408e8196bba6d71110fd305b6b3d24"
   },
   "source": [
    "## 5. Dimentionality Reduction\n",
    "Having too many features in the training set can make the training process extremely slow and makes it unlikely to get a good solution.\n",
    "In statistics, machine learning, and information theory, dimensionality reduction or dimension reduction is the process of reducing the number of random variables under consideration by obtaining a set of principal variables. It can be divided into feature selection and feature extraction.\n",
    "\n",
    "## Principal component analysis (PCA)\n",
    "The main linear technique for dimensionality reduction, principal component analysis, performs a linear mapping of the data to a lower-dimensional space in such a way that the variance of the data in the low-dimensional representation is maximized."
   ]
  },
  {
   "cell_type": "markdown",
   "metadata": {
    "_uuid": "67125da826b5c868a345fa5caa7b149dd90aea35"
   },
   "source": [
    "### Ploting the relation between the Variance and the Dimensions"
   ]
  },
  {
   "cell_type": "code",
   "execution_count": 9,
   "metadata": {},
   "outputs": [
    {
     "data": {
      "text/plain": [
       "<matplotlib.legend.Legend at 0x1edf9845af0>"
      ]
     },
     "execution_count": 9,
     "metadata": {},
     "output_type": "execute_result"
    },
    {
     "data": {
      "image/png": "[encoded data removed]",
      "text/plain": [
       "<Figure size 720x720 with 1 Axes>"
      ]
     },
     "metadata": {
      "needs_background": "light"
     },
     "output_type": "display_data"
    }
   ],
   "source": [
    "#Using elbow-plot variance/dimensions\n",
    "from sklearn.decomposition import PCA\n",
    "pca = PCA()\n",
    "pca.fit(x_train_scaler)\n",
    "cumsum = np.cumsum(pca.explained_variance_ratio_)*100\n",
    "d = [n for n in range(len(cumsum))]\n",
    "plt.figure(figsize=(10, 10))\n",
    "plt.plot(d,cumsum, color = 'red',label='cumulative explained variance')\n",
    "plt.title('Cumulative Explained Variance as a Function of the Number of Components')\n",
    "plt.ylabel('Cumulative Explained variance')\n",
    "plt.xlabel('Principal components')\n",
    "plt.axhline(y = 100, color='k', linestyle='--', label = '95% Explained Variance')\n",
    "plt.legend(loc='best')"
   ]
  },
  {
   "cell_type": "markdown",
   "metadata": {},
   "source": [
    "This curve quantifies how much of the total, 785-dimensional variance is contained within the first N components. \n",
    "For example, we see that  the first 100 components contain approximately 90% of the variance, \n",
    "while you need around 600 components to describe close to 100% of the variance.\n",
    "\n",
    "Here we see that our two-dimensional projection loses a lot of information (as measured by the explained variance)\n",
    "and that we'd need about 100 components to retain 90% of the variance.\n",
    "Looking at this plot for a high-dimensional dataset can help you understand the level of redundancy present \n",
    "in multiple observations."
   ]
  },
  {
   "cell_type": "code",
   "execution_count": 10,
   "metadata": {},
   "outputs": [],
   "source": [
    "from sklearn.decomposition import PCA\n",
    "\n",
    "pca = PCA(0.99) \n",
    "pca.fit(x_train_scaler)\n",
    "\n",
    "x_train_pca = pca.transform(x_train_scaler)\n",
    "\n"
   ]
  },
  {
   "cell_type": "code",
   "execution_count": null,
   "metadata": {},
   "outputs": [],
   "source": []
  },
  {
   "cell_type": "code",
   "execution_count": 11,
   "metadata": {},
   "outputs": [],
   "source": [
    "train=pd.concat([pd.DataFrame(x_train_pca),y],axis=1)\n"
   ]
  },
  {
   "cell_type": "code",
   "execution_count": null,
   "metadata": {},
   "outputs": [],
   "source": []
  },
  {
   "cell_type": "code",
   "execution_count": 12,
   "metadata": {},
   "outputs": [
    {
     "data": {
      "text/html": [
       "<div>\n",
       "<style scoped>\n",
       "    .dataframe tbody tr th:only-of-type {\n",
       "        vertical-align: middle;\n",
       "    }\n",
       "\n",
       "    .dataframe tbody tr th {\n",
       "        vertical-align: top;\n",
       "    }\n",
       "\n",
       "    .dataframe thead th {\n",
       "        text-align: right;\n",
       "    }\n",
       "</style>\n",
       "<table border=\"1\" class=\"dataframe\">\n",
       "  <thead>\n",
       "    <tr style=\"text-align: right;\">\n",
       "      <th></th>\n",
       "      <th>0</th>\n",
       "      <th>1</th>\n",
       "      <th>2</th>\n",
       "      <th>3</th>\n",
       "      <th>4</th>\n",
       "      <th>5</th>\n",
       "      <th>6</th>\n",
       "      <th>7</th>\n",
       "      <th>8</th>\n",
       "      <th>9</th>\n",
       "      <th>...</th>\n",
       "      <th>27</th>\n",
       "      <th>28</th>\n",
       "      <th>29</th>\n",
       "      <th>30</th>\n",
       "      <th>31</th>\n",
       "      <th>32</th>\n",
       "      <th>33</th>\n",
       "      <th>34</th>\n",
       "      <th>35</th>\n",
       "      <th>ICU_mortality</th>\n",
       "    </tr>\n",
       "  </thead>\n",
       "  <tbody>\n",
       "    <tr>\n",
       "      <th>0</th>\n",
       "      <td>6.055169</td>\n",
       "      <td>-1.274130</td>\n",
       "      <td>3.168754</td>\n",
       "      <td>-0.046272</td>\n",
       "      <td>0.718134</td>\n",
       "      <td>1.225522</td>\n",
       "      <td>-1.666020</td>\n",
       "      <td>1.454236</td>\n",
       "      <td>-0.548653</td>\n",
       "      <td>1.642453</td>\n",
       "      <td>...</td>\n",
       "      <td>-0.261459</td>\n",
       "      <td>0.491921</td>\n",
       "      <td>1.143539</td>\n",
       "      <td>0.092714</td>\n",
       "      <td>-0.040759</td>\n",
       "      <td>0.033738</td>\n",
       "      <td>0.331977</td>\n",
       "      <td>0.631954</td>\n",
       "      <td>-0.044790</td>\n",
       "      <td>0.0</td>\n",
       "    </tr>\n",
       "    <tr>\n",
       "      <th>1</th>\n",
       "      <td>-2.112854</td>\n",
       "      <td>-1.639030</td>\n",
       "      <td>0.032937</td>\n",
       "      <td>0.809403</td>\n",
       "      <td>1.833657</td>\n",
       "      <td>-1.006204</td>\n",
       "      <td>0.841475</td>\n",
       "      <td>0.075318</td>\n",
       "      <td>-0.576615</td>\n",
       "      <td>-1.357582</td>\n",
       "      <td>...</td>\n",
       "      <td>0.148650</td>\n",
       "      <td>-0.476198</td>\n",
       "      <td>0.187302</td>\n",
       "      <td>-0.017413</td>\n",
       "      <td>0.033665</td>\n",
       "      <td>0.137113</td>\n",
       "      <td>-0.030876</td>\n",
       "      <td>0.120765</td>\n",
       "      <td>-0.000007</td>\n",
       "      <td>0.0</td>\n",
       "    </tr>\n",
       "    <tr>\n",
       "      <th>2</th>\n",
       "      <td>-1.060894</td>\n",
       "      <td>8.159728</td>\n",
       "      <td>1.225265</td>\n",
       "      <td>-0.612782</td>\n",
       "      <td>-2.436610</td>\n",
       "      <td>-7.018769</td>\n",
       "      <td>6.765344</td>\n",
       "      <td>-4.460890</td>\n",
       "      <td>-3.419818</td>\n",
       "      <td>7.815782</td>\n",
       "      <td>...</td>\n",
       "      <td>3.253295</td>\n",
       "      <td>2.786459</td>\n",
       "      <td>-3.557152</td>\n",
       "      <td>0.609149</td>\n",
       "      <td>-0.347901</td>\n",
       "      <td>-0.002528</td>\n",
       "      <td>0.791495</td>\n",
       "      <td>-0.375078</td>\n",
       "      <td>-0.354445</td>\n",
       "      <td>0.0</td>\n",
       "    </tr>\n",
       "    <tr>\n",
       "      <th>3</th>\n",
       "      <td>2.452673</td>\n",
       "      <td>-1.851460</td>\n",
       "      <td>5.519865</td>\n",
       "      <td>0.248455</td>\n",
       "      <td>-1.701604</td>\n",
       "      <td>-0.443519</td>\n",
       "      <td>0.272944</td>\n",
       "      <td>1.086184</td>\n",
       "      <td>-0.991028</td>\n",
       "      <td>-0.326866</td>\n",
       "      <td>...</td>\n",
       "      <td>0.918552</td>\n",
       "      <td>-0.034889</td>\n",
       "      <td>0.515783</td>\n",
       "      <td>-0.386768</td>\n",
       "      <td>-0.632004</td>\n",
       "      <td>0.222795</td>\n",
       "      <td>-0.082063</td>\n",
       "      <td>-0.124037</td>\n",
       "      <td>0.326118</td>\n",
       "      <td>0.0</td>\n",
       "    </tr>\n",
       "    <tr>\n",
       "      <th>4</th>\n",
       "      <td>1.711444</td>\n",
       "      <td>-1.113385</td>\n",
       "      <td>0.441417</td>\n",
       "      <td>-3.307627</td>\n",
       "      <td>1.673859</td>\n",
       "      <td>-0.287073</td>\n",
       "      <td>1.590796</td>\n",
       "      <td>0.715008</td>\n",
       "      <td>0.649307</td>\n",
       "      <td>-0.132171</td>\n",
       "      <td>...</td>\n",
       "      <td>0.084763</td>\n",
       "      <td>0.106895</td>\n",
       "      <td>-0.942553</td>\n",
       "      <td>0.413247</td>\n",
       "      <td>0.760993</td>\n",
       "      <td>0.125090</td>\n",
       "      <td>0.076856</td>\n",
       "      <td>0.592853</td>\n",
       "      <td>-0.293020</td>\n",
       "      <td>0.0</td>\n",
       "    </tr>\n",
       "  </tbody>\n",
       "</table>\n",
       "<p>5 rows × 37 columns</p>\n",
       "</div>"
      ],
      "text/plain": [
       "          0         1         2         3         4         5         6  \\\n",
       "0  6.055169 -1.274130  3.168754 -0.046272  0.718134  1.225522 -1.666020   \n",
       "1 -2.112854 -1.639030  0.032937  0.809403  1.833657 -1.006204  0.841475   \n",
       "2 -1.060894  8.159728  1.225265 -0.612782 -2.436610 -7.018769  6.765344   \n",
       "3  2.452673 -1.851460  5.519865  0.248455 -1.701604 -0.443519  0.272944   \n",
       "4  1.711444 -1.113385  0.441417 -3.307627  1.673859 -0.287073  1.590796   \n",
       "\n",
       "          7         8         9  ...        27        28        29        30  \\\n",
       "0  1.454236 -0.548653  1.642453  ... -0.261459  0.491921  1.143539  0.092714   \n",
       "1  0.075318 -0.576615 -1.357582  ...  0.148650 -0.476198  0.187302 -0.017413   \n",
       "2 -4.460890 -3.419818  7.815782  ...  3.253295  2.786459 -3.557152  0.609149   \n",
       "3  1.086184 -0.991028 -0.326866  ...  0.918552 -0.034889  0.515783 -0.386768   \n",
       "4  0.715008  0.649307 -0.132171  ...  0.084763  0.106895 -0.942553  0.413247   \n",
       "\n",
       "         31        32        33        34        35  ICU_mortality  \n",
       "0 -0.040759  0.033738  0.331977  0.631954 -0.044790            0.0  \n",
       "1  0.033665  0.137113 -0.030876  0.120765 -0.000007            0.0  \n",
       "2 -0.347901 -0.002528  0.791495 -0.375078 -0.354445            0.0  \n",
       "3 -0.632004  0.222795 -0.082063 -0.124037  0.326118            0.0  \n",
       "4  0.760993  0.125090  0.076856  0.592853 -0.293020            0.0  \n",
       "\n",
       "[5 rows x 37 columns]"
      ]
     },
     "execution_count": 12,
     "metadata": {},
     "output_type": "execute_result"
    }
   ],
   "source": [
    "train.head()"
   ]
  },
  {
   "cell_type": "code",
   "execution_count": 13,
   "metadata": {},
   "outputs": [],
   "source": [
    "def clean_dataset(df):\n",
    "    assert isinstance(df, pd.DataFrame), \"df needs to be a pd.DataFrame\"\n",
    "    df.dropna(inplace=True)\n",
    "    indices_to_keep = ~df.isin([np.nan, np.inf, -np.inf]).any(1)\n",
    "    return df[indices_to_keep].astype(np.float64)\n",
    "train=clean_dataset(train)"
   ]
  },
  {
   "cell_type": "code",
   "execution_count": 14,
   "metadata": {},
   "outputs": [
    {
     "data": {
      "text/plain": [
       "(801, 37)"
      ]
     },
     "execution_count": 14,
     "metadata": {},
     "output_type": "execute_result"
    }
   ],
   "source": [
    "train.shape"
   ]
  },
  {
   "cell_type": "code",
   "execution_count": 77,
   "metadata": {},
   "outputs": [],
   "source": [
    "from sklearn.model_selection import train_test_split\n",
    "#this function randomly split the data into train and test sets\n",
    "train = train.astype('float32')\n",
    "x_train, x_test, y_train, y_test = train_test_split(train.iloc[:,:36] , train.iloc[:,36], test_size=.2)"
   ]
  },
  {
   "cell_type": "code",
   "execution_count": 18,
   "metadata": {},
   "outputs": [
    {
     "data": {
      "text/plain": [
       "383    0.0\n",
       "760    1.0\n",
       "781    0.0\n",
       "586    1.0\n",
       "184    0.0\n",
       "      ... \n",
       "128    0.0\n",
       "677    0.0\n",
       "74     1.0\n",
       "681    0.0\n",
       "458    1.0\n",
       "Name: ICU_mortality, Length: 640, dtype: float32"
      ]
     },
     "execution_count": 18,
     "metadata": {},
     "output_type": "execute_result"
    }
   ],
   "source": [
    "y_train"
   ]
  },
  {
   "cell_type": "code",
   "execution_count": 20,
   "metadata": {},
   "outputs": [
    {
     "data": {
      "text/plain": [
       "<tensorflow.python.keras.callbacks.History at 0x1ed82a4d100>"
      ]
     },
     "execution_count": 20,
     "metadata": {},
     "output_type": "execute_result"
    }
   ],
   "source": [
    "from keras.models import Sequential\n",
    "from keras.layers import Dense\n",
    "# load the dataset\n",
    "# split into input (X) and output (y) variables\n",
    "# define the keras model\n",
    "model = Sequential()\n",
    "model.add(Dense(20, input_dim=36, activation='relu'))\n",
    "model.add(Dense(18, activation='relu'))\n",
    "model.add(Dense(1, activation='sigmoid'))\n",
    "# compile the keras model\n",
    "model.compile(loss='binary_crossentropy', optimizer='adam', metrics=['accuracy'])\n",
    "# fit the keras model on the dataset\n",
    "model.fit(x_train, y_train, epochs=100, batch_size=20, verbose=0)\n",
    "# make class predictions with the model"
   ]
  },
  {
   "cell_type": "code",
   "execution_count": 21,
   "metadata": {},
   "outputs": [
    {
     "name": "stdout",
     "output_type": "stream",
     "text": [
      "WARNING:tensorflow:From <ipython-input-21-dd795b3f6c27>:1: Sequential.predict_classes (from tensorflow.python.keras.engine.sequential) is deprecated and will be removed after 2021-01-01.\n",
      "Instructions for updating:\n",
      "Please use instead:* `np.argmax(model.predict(x), axis=-1)`,   if your model does multi-class classification   (e.g. if it uses a `softmax` last-layer activation).* `(model.predict(x) > 0.5).astype(\"int32\")`,   if your model does binary classification   (e.g. if it uses a `sigmoid` last-layer activation).\n"
     ]
    },
    {
     "data": {
      "text/plain": [
       "array([[102,  20],\n",
       "       [ 29,  10]], dtype=int64)"
      ]
     },
     "execution_count": 21,
     "metadata": {},
     "output_type": "execute_result"
    }
   ],
   "source": [
    "predictions = model.predict_classes(x_test)\n",
    "from sklearn.metrics import confusion_matrix\n",
    "confusion_matrix(y_test, predictions)"
   ]
  },
  {
   "cell_type": "code",
   "execution_count": 79,
   "metadata": {},
   "outputs": [
    {
     "data": {
      "text/plain": [
       "<tensorflow.python.keras.callbacks.History at 0x1ed8882dcd0>"
      ]
     },
     "execution_count": 79,
     "metadata": {},
     "output_type": "execute_result"
    }
   ],
   "source": [
    "from keras.models import Sequential\n",
    "from keras.layers import Dense\n",
    "# load the dataset\n",
    "# split into input (X) and output (y) variables\n",
    "# define the keras model\n",
    "model = Sequential()\n",
    "model.add(Dense(20, input_dim=36, activation='relu'))\n",
    "model.add(Dense(18, activation='relu'))\n",
    "model.add(Dense(16, activation='relu'))\n",
    "model.add(Dense(10, activation='relu'))\n",
    "model.add(Dense(1, activation='sigmoid'))\n",
    "# compile the keras model\n",
    "model.compile(loss='binary_crossentropy', optimizer='adam', metrics=['accuracy'])\n",
    "# fit the keras model on the dataset\n",
    "model.fit(x_train, y_train, epochs=100, batch_size=20, verbose=0)\n",
    "# make class predictions with the model"
   ]
  },
  {
   "cell_type": "code",
   "execution_count": 80,
   "metadata": {},
   "outputs": [
    {
     "data": {
      "text/plain": [
       "array([[98, 18],\n",
       "       [32, 13]], dtype=int64)"
      ]
     },
     "execution_count": 80,
     "metadata": {},
     "output_type": "execute_result"
    }
   ],
   "source": [
    "predictions = model.predict_classes(x_test)\n",
    "from sklearn.metrics import confusion_matrix\n",
    "confusion_matrix(y_test, predictions)"
   ]
  }
 ],
 "metadata": {
  "kernelspec": {
   "display_name": "Python 3",
   "language": "python",
   "name": "python3"
  },
  "language_info": {
   "codemirror_mode": {
    "name": "ipython",
    "version": 3
   },
   "file_extension": ".py",
   "mimetype": "text/x-python",
   "name": "python",
   "nbconvert_exporter": "python",
   "pygments_lexer": "ipython3",
   "version": "3.8.6"
  }
 },
 "nbformat": 4,
 "nbformat_minor": 4
}
