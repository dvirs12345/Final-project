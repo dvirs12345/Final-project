{
 "cells": [
    {
   "cell_type": "markdown",
   "metadata": {
    "_uuid": "855d1bd2aad044e8623f1067f1bf07fd90360221"
   },
   "source": [
    "# dt on the whole data:\n"

   ]
  },
  {
   "cell_type": "code",
   "execution_count": 24,
   "metadata": {},
   "outputs": [],
   "source": [
    "num_of_lines=2000"
   ]
  },
  {
   "cell_type": "code",
   "execution_count": 29,
   "metadata": {},
   "outputs": [
    {
     "name": "stdout",
     "output_type": "stream",
     "text": [
      "(1020, 70)\n"
     ]
    }
   ],
   "source": [
    "import pandas as pd\n",
    "import numpy as np\n",
    "dataset=pd.read_excel(\"patient_level__ver 12_proj1_sn_5-13.xlsx\", engine='openpyxl')\n",
    "print(dataset.shape)"
   ]
  },
  {
   "cell_type": "code",
   "execution_count": 30,
   "metadata": {},
   "outputs": [],
   "source": [
    "dataset = dataset[~dataset['age'].isin(['NAN'])]"
   ]
  },
  {
   "cell_type": "code",
   "execution_count": 31,
   "metadata": {},
   "outputs": [
    {
     "data": {
      "text/html": [
       "<div>\n",
       "<style scoped>\n",
       "    .dataframe tbody tr th:only-of-type {\n",
       "        vertical-align: middle;\n",
       "    }\n",
       "\n",
       "    .dataframe tbody tr th {\n",
       "        vertical-align: top;\n",
       "    }\n",
       "\n",
       "    .dataframe thead th {\n",
       "        text-align: right;\n",
       "    }\n",
       "</style>\n",
       "<table border=\"1\" class=\"dataframe\">\n",
       "  <thead>\n",
       "    <tr style=\"text-align: right;\">\n",
       "      <th></th>\n",
       "      <th>ser_num</th>\n",
       "      <th>ICU_LOS</th>\n",
       "      <th>LOS_Group</th>\n",
       "      <th>ICU_mortality</th>\n",
       "      <th>HOSP_mortality</th>\n",
       "      <th>28_mortality</th>\n",
       "      <th>90 days mortality</th>\n",
       "      <th>trauma</th>\n",
       "      <th>metabolic</th>\n",
       "      <th>gastrointestinal</th>\n",
       "      <th>...</th>\n",
       "      <th>EN_pro_day12</th>\n",
       "      <th>PN_pro_day12</th>\n",
       "      <th>EN_pro_day13</th>\n",
       "      <th>PN_pro_day13</th>\n",
       "      <th>EN_pro_day0/kg</th>\n",
       "      <th>EN_pro_day1/kg</th>\n",
       "      <th>EN_pro_day2/kg</th>\n",
       "      <th>EN_pro_day3/kg</th>\n",
       "      <th>EN_pro_day4/kg</th>\n",
       "      <th>EN_pro_day5/kg</th>\n",
       "    </tr>\n",
       "  </thead>\n",
       "  <tbody>\n",
       "    <tr>\n",
       "      <th>0</th>\n",
       "      <td>2</td>\n",
       "      <td>9</td>\n",
       "      <td>LOS_8-13</td>\n",
       "      <td>0</td>\n",
       "      <td>0</td>\n",
       "      <td>0</td>\n",
       "      <td>0</td>\n",
       "      <td>0</td>\n",
       "      <td>1</td>\n",
       "      <td>0</td>\n",
       "      <td>...</td>\n",
       "      <td>0.0</td>\n",
       "      <td>0.000000</td>\n",
       "      <td>0.0</td>\n",
       "      <td>0.0</td>\n",
       "      <td>1.250297</td>\n",
       "      <td>1.221456</td>\n",
       "      <td>1.578462</td>\n",
       "      <td>0.995015</td>\n",
       "      <td>1.394308</td>\n",
       "      <td>1.403077</td>\n",
       "    </tr>\n",
       "    <tr>\n",
       "      <th>1</th>\n",
       "      <td>3</td>\n",
       "      <td>5</td>\n",
       "      <td>LOS_5-7</td>\n",
       "      <td>0</td>\n",
       "      <td>0</td>\n",
       "      <td>0</td>\n",
       "      <td>0</td>\n",
       "      <td>0</td>\n",
       "      <td>1</td>\n",
       "      <td>0</td>\n",
       "      <td>...</td>\n",
       "      <td>0.0</td>\n",
       "      <td>0.000000</td>\n",
       "      <td>0.0</td>\n",
       "      <td>0.0</td>\n",
       "      <td>0.758495</td>\n",
       "      <td>0.000000</td>\n",
       "      <td>0.670993</td>\n",
       "      <td>1.177788</td>\n",
       "      <td>0.403229</td>\n",
       "      <td>0.000000</td>\n",
       "    </tr>\n",
       "    <tr>\n",
       "      <th>2</th>\n",
       "      <td>5</td>\n",
       "      <td>13</td>\n",
       "      <td>LOS_8-13</td>\n",
       "      <td>0</td>\n",
       "      <td>0</td>\n",
       "      <td>0</td>\n",
       "      <td>0</td>\n",
       "      <td>0</td>\n",
       "      <td>0</td>\n",
       "      <td>1</td>\n",
       "      <td>...</td>\n",
       "      <td>0.0</td>\n",
       "      <td>53.273355</td>\n",
       "      <td>0.0</td>\n",
       "      <td>0.0</td>\n",
       "      <td>0.000000</td>\n",
       "      <td>0.000000</td>\n",
       "      <td>0.023259</td>\n",
       "      <td>1.396370</td>\n",
       "      <td>0.256457</td>\n",
       "      <td>0.000000</td>\n",
       "    </tr>\n",
       "    <tr>\n",
       "      <th>3</th>\n",
       "      <td>7</td>\n",
       "      <td>6</td>\n",
       "      <td>LOS_5-7</td>\n",
       "      <td>0</td>\n",
       "      <td>0</td>\n",
       "      <td>0</td>\n",
       "      <td>0</td>\n",
       "      <td>0</td>\n",
       "      <td>1</td>\n",
       "      <td>1</td>\n",
       "      <td>...</td>\n",
       "      <td>0.0</td>\n",
       "      <td>0.000000</td>\n",
       "      <td>0.0</td>\n",
       "      <td>0.0</td>\n",
       "      <td>1.145278</td>\n",
       "      <td>1.520000</td>\n",
       "      <td>1.520000</td>\n",
       "      <td>1.520000</td>\n",
       "      <td>1.520000</td>\n",
       "      <td>1.209667</td>\n",
       "    </tr>\n",
       "    <tr>\n",
       "      <th>4</th>\n",
       "      <td>9</td>\n",
       "      <td>9</td>\n",
       "      <td>LOS_8-13</td>\n",
       "      <td>0</td>\n",
       "      <td>0</td>\n",
       "      <td>0</td>\n",
       "      <td>0</td>\n",
       "      <td>1</td>\n",
       "      <td>1</td>\n",
       "      <td>1</td>\n",
       "      <td>...</td>\n",
       "      <td>0.0</td>\n",
       "      <td>0.000000</td>\n",
       "      <td>0.0</td>\n",
       "      <td>0.0</td>\n",
       "      <td>0.014902</td>\n",
       "      <td>0.858353</td>\n",
       "      <td>0.731984</td>\n",
       "      <td>0.922729</td>\n",
       "      <td>1.287529</td>\n",
       "      <td>1.287529</td>\n",
       "    </tr>\n",
       "  </tbody>\n",
       "</table>\n",
       "<p>5 rows × 70 columns</p>\n",
       "</div>"
      ],
      "text/plain": [
       "   ser_num  ICU_LOS LOS_Group  ICU_mortality  HOSP_mortality  28_mortality  \\\n",
       "0        2        9  LOS_8-13              0               0             0   \n",
       "1        3        5   LOS_5-7              0               0             0   \n",
       "2        5       13  LOS_8-13              0               0             0   \n",
       "3        7        6   LOS_5-7              0               0             0   \n",
       "4        9        9  LOS_8-13              0               0             0   \n",
       "\n",
       "   90 days mortality  trauma  metabolic  gastrointestinal  ...  EN_pro_day12  \\\n",
       "0                  0       0          1                 0  ...           0.0   \n",
       "1                  0       0          1                 0  ...           0.0   \n",
       "2                  0       0          0                 1  ...           0.0   \n",
       "3                  0       0          1                 1  ...           0.0   \n",
       "4                  0       1          1                 1  ...           0.0   \n",
       "\n",
       "  PN_pro_day12 EN_pro_day13  PN_pro_day13  EN_pro_day0/kg  EN_pro_day1/kg  \\\n",
       "0     0.000000          0.0           0.0        1.250297        1.221456   \n",
       "1     0.000000          0.0           0.0        0.758495        0.000000   \n",
       "2    53.273355          0.0           0.0        0.000000        0.000000   \n",
       "3     0.000000          0.0           0.0        1.145278        1.520000   \n",
       "4     0.000000          0.0           0.0        0.014902        0.858353   \n",
       "\n",
       "  EN_pro_day2/kg EN_pro_day3/kg EN_pro_day4/kg  EN_pro_day5/kg  \n",
       "0       1.578462       0.995015       1.394308        1.403077  \n",
       "1       0.670993       1.177788       0.403229        0.000000  \n",
       "2       0.023259       1.396370       0.256457        0.000000  \n",
       "3       1.520000       1.520000       1.520000        1.209667  \n",
       "4       0.731984       0.922729       1.287529        1.287529  \n",
       "\n",
       "[5 rows x 70 columns]"
      ]
     },
     "execution_count": 31,
     "metadata": {},
     "output_type": "execute_result"
    }
   ],
   "source": [
    "dataset.head()"
   ]
  },
  {
   "cell_type": "code",
   "execution_count": 32,
   "metadata": {},
   "outputs": [
    {
     "data": {
      "text/plain": [
       "(976, 70)"
      ]
     },
     "execution_count": 32,
     "metadata": {},
     "output_type": "execute_result"
    }
   ],
   "source": [
    "dataset.shape"
   ]
  },
  {
   "cell_type": "code",
   "execution_count": 33,
   "metadata": {},
   "outputs": [
    {
     "data": {
      "text/html": [
       "<div>\n",
       "<style scoped>\n",
       "    .dataframe tbody tr th:only-of-type {\n",
       "        vertical-align: middle;\n",
       "    }\n",
       "\n",
       "    .dataframe tbody tr th {\n",
       "        vertical-align: top;\n",
       "    }\n",
       "\n",
       "    .dataframe thead th {\n",
       "        text-align: right;\n",
       "    }\n",
       "</style>\n",
       "<table border=\"1\" class=\"dataframe\">\n",
       "  <thead>\n",
       "    <tr style=\"text-align: right;\">\n",
       "      <th></th>\n",
       "      <th>ser_num</th>\n",
       "      <th>LOS_Group</th>\n",
       "      <th>trauma</th>\n",
       "      <th>metabolic</th>\n",
       "      <th>gastrointestinal</th>\n",
       "      <th>Sepsis</th>\n",
       "      <th>age</th>\n",
       "      <th>gender</th>\n",
       "      <th>weight</th>\n",
       "      <th>BMI</th>\n",
       "      <th>...</th>\n",
       "      <th>EN_pro_day12</th>\n",
       "      <th>PN_pro_day12</th>\n",
       "      <th>EN_pro_day13</th>\n",
       "      <th>PN_pro_day13</th>\n",
       "      <th>EN_pro_day0/kg</th>\n",
       "      <th>EN_pro_day1/kg</th>\n",
       "      <th>EN_pro_day2/kg</th>\n",
       "      <th>EN_pro_day3/kg</th>\n",
       "      <th>EN_pro_day4/kg</th>\n",
       "      <th>EN_pro_day5/kg</th>\n",
       "    </tr>\n",
       "  </thead>\n",
       "  <tbody>\n",
       "    <tr>\n",
       "      <th>0</th>\n",
       "      <td>2</td>\n",
       "      <td>LOS_8-13</td>\n",
       "      <td>0</td>\n",
       "      <td>1</td>\n",
       "      <td>0</td>\n",
       "      <td>1</td>\n",
       "      <td>72</td>\n",
       "      <td>F</td>\n",
       "      <td>65.0</td>\n",
       "      <td>23.875115</td>\n",
       "      <td>...</td>\n",
       "      <td>0.0</td>\n",
       "      <td>0.000000</td>\n",
       "      <td>0.0</td>\n",
       "      <td>0.0</td>\n",
       "      <td>1.250297</td>\n",
       "      <td>1.221456</td>\n",
       "      <td>1.578462</td>\n",
       "      <td>0.995015</td>\n",
       "      <td>1.394308</td>\n",
       "      <td>1.403077</td>\n",
       "    </tr>\n",
       "    <tr>\n",
       "      <th>1</th>\n",
       "      <td>3</td>\n",
       "      <td>LOS_5-7</td>\n",
       "      <td>0</td>\n",
       "      <td>1</td>\n",
       "      <td>0</td>\n",
       "      <td>1</td>\n",
       "      <td>58</td>\n",
       "      <td>M</td>\n",
       "      <td>101.0</td>\n",
       "      <td>32.979592</td>\n",
       "      <td>...</td>\n",
       "      <td>0.0</td>\n",
       "      <td>0.000000</td>\n",
       "      <td>0.0</td>\n",
       "      <td>0.0</td>\n",
       "      <td>0.758495</td>\n",
       "      <td>0.000000</td>\n",
       "      <td>0.670993</td>\n",
       "      <td>1.177788</td>\n",
       "      <td>0.403229</td>\n",
       "      <td>0.000000</td>\n",
       "    </tr>\n",
       "    <tr>\n",
       "      <th>2</th>\n",
       "      <td>5</td>\n",
       "      <td>LOS_8-13</td>\n",
       "      <td>0</td>\n",
       "      <td>0</td>\n",
       "      <td>1</td>\n",
       "      <td>1</td>\n",
       "      <td>44</td>\n",
       "      <td>M</td>\n",
       "      <td>70.0</td>\n",
       "      <td>22.857143</td>\n",
       "      <td>...</td>\n",
       "      <td>0.0</td>\n",
       "      <td>53.273355</td>\n",
       "      <td>0.0</td>\n",
       "      <td>0.0</td>\n",
       "      <td>0.000000</td>\n",
       "      <td>0.000000</td>\n",
       "      <td>0.023259</td>\n",
       "      <td>1.396370</td>\n",
       "      <td>0.256457</td>\n",
       "      <td>0.000000</td>\n",
       "    </tr>\n",
       "    <tr>\n",
       "      <th>3</th>\n",
       "      <td>7</td>\n",
       "      <td>LOS_5-7</td>\n",
       "      <td>0</td>\n",
       "      <td>1</td>\n",
       "      <td>1</td>\n",
       "      <td>0</td>\n",
       "      <td>71</td>\n",
       "      <td>F</td>\n",
       "      <td>48.0</td>\n",
       "      <td>19.227688</td>\n",
       "      <td>...</td>\n",
       "      <td>0.0</td>\n",
       "      <td>0.000000</td>\n",
       "      <td>0.0</td>\n",
       "      <td>0.0</td>\n",
       "      <td>1.145278</td>\n",
       "      <td>1.520000</td>\n",
       "      <td>1.520000</td>\n",
       "      <td>1.520000</td>\n",
       "      <td>1.520000</td>\n",
       "      <td>1.209667</td>\n",
       "    </tr>\n",
       "    <tr>\n",
       "      <th>4</th>\n",
       "      <td>9</td>\n",
       "      <td>LOS_8-13</td>\n",
       "      <td>1</td>\n",
       "      <td>1</td>\n",
       "      <td>1</td>\n",
       "      <td>0</td>\n",
       "      <td>60</td>\n",
       "      <td>F</td>\n",
       "      <td>85.0</td>\n",
       "      <td>32.791945</td>\n",
       "      <td>...</td>\n",
       "      <td>0.0</td>\n",
       "      <td>0.000000</td>\n",
       "      <td>0.0</td>\n",
       "      <td>0.0</td>\n",
       "      <td>0.014902</td>\n",
       "      <td>0.858353</td>\n",
       "      <td>0.731984</td>\n",
       "      <td>0.922729</td>\n",
       "      <td>1.287529</td>\n",
       "      <td>1.287529</td>\n",
       "    </tr>\n",
       "  </tbody>\n",
       "</table>\n",
       "<p>5 rows × 65 columns</p>\n",
       "</div>"
      ],
      "text/plain": [
       "   ser_num LOS_Group  trauma  metabolic  gastrointestinal  Sepsis age gender  \\\n",
       "0        2  LOS_8-13       0          1                 0       1  72      F   \n",
       "1        3   LOS_5-7       0          1                 0       1  58  M       \n",
       "2        5  LOS_8-13       0          0                 1       1  44  M       \n",
       "3        7   LOS_5-7       0          1                 1       0  71      F   \n",
       "4        9  LOS_8-13       1          1                 1       0  60      F   \n",
       "\n",
       "   weight        BMI  ...  EN_pro_day12 PN_pro_day12 EN_pro_day13  \\\n",
       "0    65.0  23.875115  ...           0.0     0.000000          0.0   \n",
       "1   101.0  32.979592  ...           0.0     0.000000          0.0   \n",
       "2    70.0  22.857143  ...           0.0    53.273355          0.0   \n",
       "3    48.0  19.227688  ...           0.0     0.000000          0.0   \n",
       "4    85.0  32.791945  ...           0.0     0.000000          0.0   \n",
       "\n",
       "  PN_pro_day13  EN_pro_day0/kg  EN_pro_day1/kg  EN_pro_day2/kg  \\\n",
       "0          0.0        1.250297        1.221456        1.578462   \n",
       "1          0.0        0.758495        0.000000        0.670993   \n",
       "2          0.0        0.000000        0.000000        0.023259   \n",
       "3          0.0        1.145278        1.520000        1.520000   \n",
       "4          0.0        0.014902        0.858353        0.731984   \n",
       "\n",
       "   EN_pro_day3/kg  EN_pro_day4/kg  EN_pro_day5/kg  \n",
       "0        0.995015        1.394308        1.403077  \n",
       "1        1.177788        0.403229        0.000000  \n",
       "2        1.396370        0.256457        0.000000  \n",
       "3        1.520000        1.520000        1.209667  \n",
       "4        0.922729        1.287529        1.287529  \n",
       "\n",
       "[5 rows x 65 columns]"
      ]
     },
     "execution_count": 33,
     "metadata": {},
     "output_type": "execute_result"
    }
   ],
   "source": [
    "target = dataset[['ICU_mortality']]\n",
    "dataset=dataset.drop(['28_mortality'], axis=1)\n",
    "dataset=dataset.drop(['HOSP_mortality'], axis=1)\n",
    "dataset=dataset.drop(['90 days mortality'], axis=1)\n",
    "dataset=dataset.drop(['ICU_mortality'], axis=1)\n",
    "dataset=dataset.drop(['ICU_LOS'], axis=1)\n",
    "dataset.head()"
   ]
  },
  {
   "cell_type": "code",
   "execution_count": 34,
   "metadata": {},
   "outputs": [
    {
     "data": {
      "text/html": [
       "<div>\n",
       "<style scoped>\n",
       "    .dataframe tbody tr th:only-of-type {\n",
       "        vertical-align: middle;\n",
       "    }\n",
       "\n",
       "    .dataframe tbody tr th {\n",
       "        vertical-align: top;\n",
       "    }\n",
       "\n",
       "    .dataframe thead th {\n",
       "        text-align: right;\n",
       "    }\n",
       "</style>\n",
       "<table border=\"1\" class=\"dataframe\">\n",
       "  <thead>\n",
       "    <tr style=\"text-align: right;\">\n",
       "      <th></th>\n",
       "      <th>ser_num</th>\n",
       "      <th>LOS_Group</th>\n",
       "      <th>trauma</th>\n",
       "      <th>metabolic</th>\n",
       "      <th>gastrointestinal</th>\n",
       "      <th>Sepsis</th>\n",
       "      <th>age</th>\n",
       "      <th>gender</th>\n",
       "      <th>weight</th>\n",
       "      <th>BMI</th>\n",
       "      <th>...</th>\n",
       "      <th>EN_pro_day12</th>\n",
       "      <th>PN_pro_day12</th>\n",
       "      <th>EN_pro_day13</th>\n",
       "      <th>PN_pro_day13</th>\n",
       "      <th>EN_pro_day0/kg</th>\n",
       "      <th>EN_pro_day1/kg</th>\n",
       "      <th>EN_pro_day2/kg</th>\n",
       "      <th>EN_pro_day3/kg</th>\n",
       "      <th>EN_pro_day4/kg</th>\n",
       "      <th>EN_pro_day5/kg</th>\n",
       "    </tr>\n",
       "  </thead>\n",
       "  <tbody>\n",
       "    <tr>\n",
       "      <th>0</th>\n",
       "      <td>2</td>\n",
       "      <td>0</td>\n",
       "      <td>0</td>\n",
       "      <td>1</td>\n",
       "      <td>0</td>\n",
       "      <td>1</td>\n",
       "      <td>72</td>\n",
       "      <td>0</td>\n",
       "      <td>65.0</td>\n",
       "      <td>23.875115</td>\n",
       "      <td>...</td>\n",
       "      <td>0.0</td>\n",
       "      <td>0.000000</td>\n",
       "      <td>0.0</td>\n",
       "      <td>0.0</td>\n",
       "      <td>1.250297</td>\n",
       "      <td>1.221456</td>\n",
       "      <td>1.578462</td>\n",
       "      <td>0.995015</td>\n",
       "      <td>1.394308</td>\n",
       "      <td>1.403077</td>\n",
       "    </tr>\n",
       "    <tr>\n",
       "      <th>1</th>\n",
       "      <td>3</td>\n",
       "      <td>0</td>\n",
       "      <td>0</td>\n",
       "      <td>1</td>\n",
       "      <td>0</td>\n",
       "      <td>1</td>\n",
       "      <td>58</td>\n",
       "      <td>1</td>\n",
       "      <td>101.0</td>\n",
       "      <td>32.979592</td>\n",
       "      <td>...</td>\n",
       "      <td>0.0</td>\n",
       "      <td>0.000000</td>\n",
       "      <td>0.0</td>\n",
       "      <td>0.0</td>\n",
       "      <td>0.758495</td>\n",
       "      <td>0.000000</td>\n",
       "      <td>0.670993</td>\n",
       "      <td>1.177788</td>\n",
       "      <td>0.403229</td>\n",
       "      <td>0.000000</td>\n",
       "    </tr>\n",
       "    <tr>\n",
       "      <th>2</th>\n",
       "      <td>5</td>\n",
       "      <td>1</td>\n",
       "      <td>0</td>\n",
       "      <td>0</td>\n",
       "      <td>1</td>\n",
       "      <td>1</td>\n",
       "      <td>44</td>\n",
       "      <td>1</td>\n",
       "      <td>70.0</td>\n",
       "      <td>22.857143</td>\n",
       "      <td>...</td>\n",
       "      <td>0.0</td>\n",
       "      <td>53.273355</td>\n",
       "      <td>0.0</td>\n",
       "      <td>0.0</td>\n",
       "      <td>0.000000</td>\n",
       "      <td>0.000000</td>\n",
       "      <td>0.023259</td>\n",
       "      <td>1.396370</td>\n",
       "      <td>0.256457</td>\n",
       "      <td>0.000000</td>\n",
       "    </tr>\n",
       "    <tr>\n",
       "      <th>3</th>\n",
       "      <td>7</td>\n",
       "      <td>0</td>\n",
       "      <td>0</td>\n",
       "      <td>1</td>\n",
       "      <td>1</td>\n",
       "      <td>0</td>\n",
       "      <td>71</td>\n",
       "      <td>0</td>\n",
       "      <td>48.0</td>\n",
       "      <td>19.227688</td>\n",
       "      <td>...</td>\n",
       "      <td>0.0</td>\n",
       "      <td>0.000000</td>\n",
       "      <td>0.0</td>\n",
       "      <td>0.0</td>\n",
       "      <td>1.145278</td>\n",
       "      <td>1.520000</td>\n",
       "      <td>1.520000</td>\n",
       "      <td>1.520000</td>\n",
       "      <td>1.520000</td>\n",
       "      <td>1.209667</td>\n",
       "    </tr>\n",
       "    <tr>\n",
       "      <th>4</th>\n",
       "      <td>9</td>\n",
       "      <td>0</td>\n",
       "      <td>1</td>\n",
       "      <td>1</td>\n",
       "      <td>1</td>\n",
       "      <td>0</td>\n",
       "      <td>60</td>\n",
       "      <td>0</td>\n",
       "      <td>85.0</td>\n",
       "      <td>32.791945</td>\n",
       "      <td>...</td>\n",
       "      <td>0.0</td>\n",
       "      <td>0.000000</td>\n",
       "      <td>0.0</td>\n",
       "      <td>0.0</td>\n",
       "      <td>0.014902</td>\n",
       "      <td>0.858353</td>\n",
       "      <td>0.731984</td>\n",
       "      <td>0.922729</td>\n",
       "      <td>1.287529</td>\n",
       "      <td>1.287529</td>\n",
       "    </tr>\n",
       "  </tbody>\n",
       "</table>\n",
       "<p>5 rows × 65 columns</p>\n",
       "</div>"
      ],
      "text/plain": [
       "   ser_num  LOS_Group  trauma  metabolic  gastrointestinal  Sepsis age  \\\n",
       "0        2          0       0          1                 0       1  72   \n",
       "1        3          0       0          1                 0       1  58   \n",
       "2        5          1       0          0                 1       1  44   \n",
       "3        7          0       0          1                 1       0  71   \n",
       "4        9          0       1          1                 1       0  60   \n",
       "\n",
       "   gender  weight        BMI  ...  EN_pro_day12  PN_pro_day12  EN_pro_day13  \\\n",
       "0       0    65.0  23.875115  ...           0.0      0.000000           0.0   \n",
       "1       1   101.0  32.979592  ...           0.0      0.000000           0.0   \n",
       "2       1    70.0  22.857143  ...           0.0     53.273355           0.0   \n",
       "3       0    48.0  19.227688  ...           0.0      0.000000           0.0   \n",
       "4       0    85.0  32.791945  ...           0.0      0.000000           0.0   \n",
       "\n",
       "   PN_pro_day13  EN_pro_day0/kg  EN_pro_day1/kg  EN_pro_day2/kg  \\\n",
       "0           0.0        1.250297        1.221456        1.578462   \n",
       "1           0.0        0.758495        0.000000        0.670993   \n",
       "2           0.0        0.000000        0.000000        0.023259   \n",
       "3           0.0        1.145278        1.520000        1.520000   \n",
       "4           0.0        0.014902        0.858353        0.731984   \n",
       "\n",
       "   EN_pro_day3/kg  EN_pro_day4/kg  EN_pro_day5/kg  \n",
       "0        0.995015        1.394308        1.403077  \n",
       "1        1.177788        0.403229        0.000000  \n",
       "2        1.396370        0.256457        0.000000  \n",
       "3        1.520000        1.520000        1.209667  \n",
       "4        0.922729        1.287529        1.287529  \n",
       "\n",
       "[5 rows x 65 columns]"
      ]
     },
     "execution_count": 34,
     "metadata": {},
     "output_type": "execute_result"
    }
   ],
   "source": [
    "from sklearn.preprocessing import LabelEncoder\n",
    "le = LabelEncoder()\n",
    "dataset['active problems'] = le.fit_transform(dataset['active problems'].astype(str))\n",
    "dataset['background problems'] = le.fit_transform(dataset['background problems'].astype(str))\n",
    "dataset['gender'] = le.fit_transform(dataset['gender'].astype(str))\n",
    "dataset['feeding'] = le.fit_transform(dataset['feeding'].astype(str))\n",
    "dataset['LOS_Group'] = le.fit_transform(dataset['feeding'].astype(str))\n",
    "\n",
    "dataset.head()"
   ]
  },
  {
   "cell_type": "code",
   "execution_count": 35,
   "metadata": {},
   "outputs": [
    {
     "data": {
      "text/plain": [
       "(976, 65)"
      ]
     },
     "execution_count": 35,
     "metadata": {},
     "output_type": "execute_result"
    }
   ],
   "source": [
    "dataset.shape"
   ]
  },
  {
   "cell_type": "code",
   "execution_count": 36,
   "metadata": {},
   "outputs": [
    {
     "data": {
      "text/html": [
       "<div>\n",
       "<style scoped>\n",
       "    .dataframe tbody tr th:only-of-type {\n",
       "        vertical-align: middle;\n",
       "    }\n",
       "\n",
       "    .dataframe tbody tr th {\n",
       "        vertical-align: top;\n",
       "    }\n",
       "\n",
       "    .dataframe thead th {\n",
       "        text-align: right;\n",
       "    }\n",
       "</style>\n",
       "<table border=\"1\" class=\"dataframe\">\n",
       "  <thead>\n",
       "    <tr style=\"text-align: right;\">\n",
       "      <th></th>\n",
       "      <th>ser_num</th>\n",
       "      <th>LOS_Group</th>\n",
       "      <th>trauma</th>\n",
       "      <th>metabolic</th>\n",
       "      <th>gastrointestinal</th>\n",
       "      <th>Sepsis</th>\n",
       "      <th>age</th>\n",
       "      <th>gender</th>\n",
       "      <th>weight</th>\n",
       "      <th>BMI</th>\n",
       "      <th>...</th>\n",
       "      <th>EN_pro_day12</th>\n",
       "      <th>PN_pro_day12</th>\n",
       "      <th>EN_pro_day13</th>\n",
       "      <th>PN_pro_day13</th>\n",
       "      <th>EN_pro_day0/kg</th>\n",
       "      <th>EN_pro_day1/kg</th>\n",
       "      <th>EN_pro_day2/kg</th>\n",
       "      <th>EN_pro_day3/kg</th>\n",
       "      <th>EN_pro_day4/kg</th>\n",
       "      <th>EN_pro_day5/kg</th>\n",
       "    </tr>\n",
       "  </thead>\n",
       "  <tbody>\n",
       "    <tr>\n",
       "      <th>614</th>\n",
       "      <td>1534</td>\n",
       "      <td>1</td>\n",
       "      <td>0</td>\n",
       "      <td>0</td>\n",
       "      <td>1</td>\n",
       "      <td>1</td>\n",
       "      <td>58</td>\n",
       "      <td>0</td>\n",
       "      <td>50.0</td>\n",
       "      <td>22.222222</td>\n",
       "      <td>...</td>\n",
       "      <td>0.0</td>\n",
       "      <td>0.0</td>\n",
       "      <td>0.0</td>\n",
       "      <td>0.0</td>\n",
       "      <td>0.783200</td>\n",
       "      <td>0.268400</td>\n",
       "      <td>1.228560</td>\n",
       "      <td>1.728000</td>\n",
       "      <td>1.273200</td>\n",
       "      <td>0.000000</td>\n",
       "    </tr>\n",
       "    <tr>\n",
       "      <th>760</th>\n",
       "      <td>1898</td>\n",
       "      <td>2</td>\n",
       "      <td>0</td>\n",
       "      <td>0</td>\n",
       "      <td>1</td>\n",
       "      <td>0</td>\n",
       "      <td>22</td>\n",
       "      <td>1</td>\n",
       "      <td>70.0</td>\n",
       "      <td>26.672763</td>\n",
       "      <td>...</td>\n",
       "      <td>0.0</td>\n",
       "      <td>0.0</td>\n",
       "      <td>0.0</td>\n",
       "      <td>0.0</td>\n",
       "      <td>0.000000</td>\n",
       "      <td>0.000000</td>\n",
       "      <td>0.000000</td>\n",
       "      <td>0.000000</td>\n",
       "      <td>0.000000</td>\n",
       "      <td>0.000000</td>\n",
       "    </tr>\n",
       "    <tr>\n",
       "      <th>68</th>\n",
       "      <td>183</td>\n",
       "      <td>0</td>\n",
       "      <td>0</td>\n",
       "      <td>0</td>\n",
       "      <td>1</td>\n",
       "      <td>0</td>\n",
       "      <td>60</td>\n",
       "      <td>1</td>\n",
       "      <td>88.0</td>\n",
       "      <td>28.734694</td>\n",
       "      <td>...</td>\n",
       "      <td>0.0</td>\n",
       "      <td>0.0</td>\n",
       "      <td>0.0</td>\n",
       "      <td>0.0</td>\n",
       "      <td>0.000000</td>\n",
       "      <td>0.407636</td>\n",
       "      <td>0.829091</td>\n",
       "      <td>0.829091</td>\n",
       "      <td>0.417136</td>\n",
       "      <td>0.000000</td>\n",
       "    </tr>\n",
       "    <tr>\n",
       "      <th>655</th>\n",
       "      <td>1636</td>\n",
       "      <td>0</td>\n",
       "      <td>1</td>\n",
       "      <td>1</td>\n",
       "      <td>1</td>\n",
       "      <td>1</td>\n",
       "      <td>78</td>\n",
       "      <td>0</td>\n",
       "      <td>90.0</td>\n",
       "      <td>31.141869</td>\n",
       "      <td>...</td>\n",
       "      <td>0.0</td>\n",
       "      <td>0.0</td>\n",
       "      <td>0.0</td>\n",
       "      <td>0.0</td>\n",
       "      <td>0.383615</td>\n",
       "      <td>0.469333</td>\n",
       "      <td>0.570207</td>\n",
       "      <td>0.704000</td>\n",
       "      <td>0.704000</td>\n",
       "      <td>0.704000</td>\n",
       "    </tr>\n",
       "    <tr>\n",
       "      <th>260</th>\n",
       "      <td>663</td>\n",
       "      <td>0</td>\n",
       "      <td>1</td>\n",
       "      <td>0</td>\n",
       "      <td>0</td>\n",
       "      <td>0</td>\n",
       "      <td>61</td>\n",
       "      <td>1</td>\n",
       "      <td>100.0</td>\n",
       "      <td>30.864198</td>\n",
       "      <td>...</td>\n",
       "      <td>0.0</td>\n",
       "      <td>0.0</td>\n",
       "      <td>0.0</td>\n",
       "      <td>0.0</td>\n",
       "      <td>1.121000</td>\n",
       "      <td>1.368000</td>\n",
       "      <td>1.368000</td>\n",
       "      <td>1.275993</td>\n",
       "      <td>0.726845</td>\n",
       "      <td>0.773813</td>\n",
       "    </tr>\n",
       "  </tbody>\n",
       "</table>\n",
       "<p>5 rows × 65 columns</p>\n",
       "</div>"
      ],
      "text/plain": [
       "     ser_num  LOS_Group  trauma  metabolic  gastrointestinal  Sepsis age  \\\n",
       "614     1534          1       0          0                 1       1  58   \n",
       "760     1898          2       0          0                 1       0  22   \n",
       "68       183          0       0          0                 1       0  60   \n",
       "655     1636          0       1          1                 1       1  78   \n",
       "260      663          0       1          0                 0       0  61   \n",
       "\n",
       "     gender  weight        BMI  ...  EN_pro_day12  PN_pro_day12  EN_pro_day13  \\\n",
       "614       0    50.0  22.222222  ...           0.0           0.0           0.0   \n",
       "760       1    70.0  26.672763  ...           0.0           0.0           0.0   \n",
       "68        1    88.0  28.734694  ...           0.0           0.0           0.0   \n",
       "655       0    90.0  31.141869  ...           0.0           0.0           0.0   \n",
       "260       1   100.0  30.864198  ...           0.0           0.0           0.0   \n",
       "\n",
       "     PN_pro_day13  EN_pro_day0/kg  EN_pro_day1/kg  EN_pro_day2/kg  \\\n",
       "614           0.0        0.783200        0.268400        1.228560   \n",
       "760           0.0        0.000000        0.000000        0.000000   \n",
       "68            0.0        0.000000        0.407636        0.829091   \n",
       "655           0.0        0.383615        0.469333        0.570207   \n",
       "260           0.0        1.121000        1.368000        1.368000   \n",
       "\n",
       "     EN_pro_day3/kg  EN_pro_day4/kg  EN_pro_day5/kg  \n",
       "614        1.728000        1.273200        0.000000  \n",
       "760        0.000000        0.000000        0.000000  \n",
       "68         0.829091        0.417136        0.000000  \n",
       "655        0.704000        0.704000        0.704000  \n",
       "260        1.275993        0.726845        0.773813  \n",
       "\n",
       "[5 rows x 65 columns]"
      ]
     },
     "execution_count": 36,
     "metadata": {},
     "output_type": "execute_result"
    }
   ],
   "source": [
    "from sklearn.model_selection import train_test_split\n",
    "#this function randomly split the data into train and test sets\n",
    "x_train, x_test, y_train, y_test = train_test_split(dataset, target, test_size=.2)\n",
    "#test_size=.3 means that our test set will be 30% of the train set.\n",
    "x_train.head()"
   ]
  },
  {
   "cell_type": "markdown",
   "metadata": {},
   "source": [
    "# DecisionTreeClassifier"
   ]
  },
  {
   "cell_type": "code",
   "execution_count": 41,
   "metadata": {},
   "outputs": [],
   "source": [
    "from sklearn.tree import DecisionTreeClassifier\n",
    "dtree = DecisionTreeClassifier()\n",
    "dtree.fit(x_train, y_train)  #train parameters: features and target\n",
    "pred = dtree.predict(x_test)  #parameter: new data to predict"
   ]
  },
  {
   "cell_type": "code",
   "execution_count": 42,
   "metadata": {},
   "outputs": [
    {
     "data": {
      "text/plain": [
       "0.4222222222222222"
      ]
     },
     "execution_count": 42,
     "metadata": {},
     "output_type": "execute_result"
    }
   ],
   "source": [
    "from sklearn.metrics import accuracy_score,recall_score\n",
    "recall_score(y_test, pred)\n",
    "#parameters: targets to be predicted and predictions from new data used before"
   ]
  },
  {
   "cell_type": "code",
   "execution_count": 36,
   "metadata": {},
   "outputs": [
    {
     "name": "stdout",
     "output_type": "stream",
     "text": [
      "Criterion=gini 0.275\n",
      "Criterion=entropy 0.375\n"
     ]
    }
   ],
   "source": [
    "dtree = DecisionTreeClassifier(criterion='gini')\n",
    "dtree.fit(x_train, y_train)\n",
    "pred = dtree.predict(x_test)\n",
    "print('Criterion=gini', recall_score(y_test, pred))\n",
    "dtree = DecisionTreeClassifier(criterion='entropy')\n",
    "dtree.fit(x_train, y_train)\n",
    "pred = dtree.predict(x_test)\n",
    "print('Criterion=entropy', recall_score(y_test, pred))"
   ]
  },
  {
   "cell_type": "code",
   "execution_count": 37,
   "metadata": {},
   "outputs": [
    {
     "data": {
      "image/png": "[encoded data removed]",
      "text/plain": [
       "<Figure size 432x288 with 1 Axes>"
      ]
     },
     "metadata": {
      "needs_background": "light"
     },
     "output_type": "display_data"
    }
   ],
   "source": [
    "from sklearn import tree\n",
    "tree.plot_tree(dtree);"
   ]
  },
  {
   "cell_type": "markdown",
   "metadata": {},
   "source": [
    "explore by depth"
   ]
  },
  {
   "cell_type": "code",
   "execution_count": 40,
   "metadata": {},
   "outputs": [],
   "source": [
    "max_depth = []\n",
    "acc_gini = []\n",
    "acc_entropy = []\n",
    "for i in range(1,20):\n",
    " dtree = DecisionTreeClassifier(criterion='gini', max_depth=i)\n",
    " dtree.fit(x_train, y_train)\n",
    " pred = dtree.predict(x_test)\n",
    " acc_gini.append(recall_score(y_test, pred))\n",
    " ####\n",
    " dtree = DecisionTreeClassifier(criterion='entropy', max_depth=i)\n",
    " dtree.fit(x_train, y_train)\n",
    " pred = dtree.predict(x_test)\n",
    " acc_entropy.append(recall_score(y_test, pred))\n",
    " ####\n",
    " max_depth.append(i)\n",
    "d = pd.DataFrame({'acc_gini':pd.Series(acc_gini), \n",
    " 'acc_entropy':pd.Series(acc_entropy),\n",
    " 'max_depth':pd.Series(max_depth)})\n",
    "# visualizing changes in parameters"
   ]
  },
  {
   "cell_type": "code",
   "execution_count": 41,
   "metadata": {},
   "outputs": [
    {
     "data": {
      "text/html": [
       "<div>\n",
       "<style scoped>\n",
       "    .dataframe tbody tr th:only-of-type {\n",
       "        vertical-align: middle;\n",
       "    }\n",
       "\n",
       "    .dataframe tbody tr th {\n",
       "        vertical-align: top;\n",
       "    }\n",
       "\n",
       "    .dataframe thead th {\n",
       "        text-align: right;\n",
       "    }\n",
       "</style>\n",
       "<table border=\"1\" class=\"dataframe\">\n",
       "  <thead>\n",
       "    <tr style=\"text-align: right;\">\n",
       "      <th></th>\n",
       "      <th>acc_gini</th>\n",
       "      <th>acc_entropy</th>\n",
       "      <th>max_depth</th>\n",
       "    </tr>\n",
       "  </thead>\n",
       "  <tbody>\n",
       "    <tr>\n",
       "      <th>0</th>\n",
       "      <td>0.125</td>\n",
       "      <td>0.125</td>\n",
       "      <td>1</td>\n",
       "    </tr>\n",
       "    <tr>\n",
       "      <th>1</th>\n",
       "      <td>0.075</td>\n",
       "      <td>0.050</td>\n",
       "      <td>2</td>\n",
       "    </tr>\n",
       "    <tr>\n",
       "      <th>2</th>\n",
       "      <td>0.150</td>\n",
       "      <td>0.125</td>\n",
       "      <td>3</td>\n",
       "    </tr>\n",
       "    <tr>\n",
       "      <th>3</th>\n",
       "      <td>0.175</td>\n",
       "      <td>0.100</td>\n",
       "      <td>4</td>\n",
       "    </tr>\n",
       "    <tr>\n",
       "      <th>4</th>\n",
       "      <td>0.125</td>\n",
       "      <td>0.100</td>\n",
       "      <td>5</td>\n",
       "    </tr>\n",
       "    <tr>\n",
       "      <th>5</th>\n",
       "      <td>0.125</td>\n",
       "      <td>0.075</td>\n",
       "      <td>6</td>\n",
       "    </tr>\n",
       "    <tr>\n",
       "      <th>6</th>\n",
       "      <td>0.100</td>\n",
       "      <td>0.075</td>\n",
       "      <td>7</td>\n",
       "    </tr>\n",
       "    <tr>\n",
       "      <th>7</th>\n",
       "      <td>0.150</td>\n",
       "      <td>0.075</td>\n",
       "      <td>8</td>\n",
       "    </tr>\n",
       "    <tr>\n",
       "      <th>8</th>\n",
       "      <td>0.125</td>\n",
       "      <td>0.100</td>\n",
       "      <td>9</td>\n",
       "    </tr>\n",
       "    <tr>\n",
       "      <th>9</th>\n",
       "      <td>0.275</td>\n",
       "      <td>0.150</td>\n",
       "      <td>10</td>\n",
       "    </tr>\n",
       "    <tr>\n",
       "      <th>10</th>\n",
       "      <td>0.175</td>\n",
       "      <td>0.175</td>\n",
       "      <td>11</td>\n",
       "    </tr>\n",
       "    <tr>\n",
       "      <th>11</th>\n",
       "      <td>0.225</td>\n",
       "      <td>0.300</td>\n",
       "      <td>12</td>\n",
       "    </tr>\n",
       "    <tr>\n",
       "      <th>12</th>\n",
       "      <td>0.250</td>\n",
       "      <td>0.200</td>\n",
       "      <td>13</td>\n",
       "    </tr>\n",
       "    <tr>\n",
       "      <th>13</th>\n",
       "      <td>0.200</td>\n",
       "      <td>0.225</td>\n",
       "      <td>14</td>\n",
       "    </tr>\n",
       "    <tr>\n",
       "      <th>14</th>\n",
       "      <td>0.225</td>\n",
       "      <td>0.275</td>\n",
       "      <td>15</td>\n",
       "    </tr>\n",
       "    <tr>\n",
       "      <th>15</th>\n",
       "      <td>0.250</td>\n",
       "      <td>0.350</td>\n",
       "      <td>16</td>\n",
       "    </tr>\n",
       "    <tr>\n",
       "      <th>16</th>\n",
       "      <td>0.225</td>\n",
       "      <td>0.350</td>\n",
       "      <td>17</td>\n",
       "    </tr>\n",
       "    <tr>\n",
       "      <th>17</th>\n",
       "      <td>0.175</td>\n",
       "      <td>0.450</td>\n",
       "      <td>18</td>\n",
       "    </tr>\n",
       "    <tr>\n",
       "      <th>18</th>\n",
       "      <td>0.225</td>\n",
       "      <td>0.300</td>\n",
       "      <td>19</td>\n",
       "    </tr>\n",
       "  </tbody>\n",
       "</table>\n",
       "</div>"
      ],
      "text/plain": [
       "    acc_gini  acc_entropy  max_depth\n",
       "0      0.125        0.125          1\n",
       "1      0.075        0.050          2\n",
       "2      0.150        0.125          3\n",
       "3      0.175        0.100          4\n",
       "4      0.125        0.100          5\n",
       "5      0.125        0.075          6\n",
       "6      0.100        0.075          7\n",
       "7      0.150        0.075          8\n",
       "8      0.125        0.100          9\n",
       "9      0.275        0.150         10\n",
       "10     0.175        0.175         11\n",
       "11     0.225        0.300         12\n",
       "12     0.250        0.200         13\n",
       "13     0.200        0.225         14\n",
       "14     0.225        0.275         15\n",
       "15     0.250        0.350         16\n",
       "16     0.225        0.350         17\n",
       "17     0.175        0.450         18\n",
       "18     0.225        0.300         19"
      ]
     },
     "execution_count": 41,
     "metadata": {},
     "output_type": "execute_result"
    }
   ],
   "source": [
    "d.head(20)"
   ]
  },
  {
   "cell_type": "code",
   "execution_count": 46,
   "metadata": {},
   "outputs": [
    {
     "data": {
      "text/plain": [
       "0.3"
      ]
     },
     "execution_count": 46,
     "metadata": {},
     "output_type": "execute_result"
    }
   ],
   "source": [
    "dtree = DecisionTreeClassifier(criterion='entropy', max_depth=18)\n",
    "dtree.fit(x_train, y_train)\n",
    "pred = dtree.predict(x_test)\n",
    "recall_score(y_test, pred)\n",
    "#Accuracy: 0.814"
   ]
  },
  {
   "cell_type": "markdown",
   "metadata": {},
   "source": [
    "# RandomForestClassifier"
   ]
  },
  {
   "cell_type": "code",
   "execution_count": 44,
   "metadata": {},
   "outputs": [],
   "source": [
    "\t\n",
    "from sklearn.ensemble import RandomForestClassifier"
   ]
  },
  {
   "cell_type": "code",
   "execution_count": 47,
   "metadata": {},
   "outputs": [
    {
     "name": "stderr",
     "output_type": "stream",
     "text": [
      "<ipython-input-47-372fa2ee73ca>:2: DataConversionWarning: A column-vector y was passed when a 1d array was expected. Please change the shape of y to (n_samples,), for example using ravel().\n",
      "  clf_4.fit(x_train, y_train)\n"
     ]
    },
    {
     "name": "stdout",
     "output_type": "stream",
     "text": [
      "[0 1]\n",
      "0.1\n"
     ]
    }
   ],
   "source": [
    "clf_4 = RandomForestClassifier(criterion='entropy', max_depth=18)\n",
    "clf_4.fit(x_train, y_train)\n",
    " #x_train, x_test, y_train, y_test\n",
    "# Predict on training set\n",
    "pred_y_4 = clf_4.predict(x_test)\n",
    " \n",
    "# Is our model still predicting just one class?\n",
    "print( np.unique( pred_y_4 ) )\n",
    "# [0 1]\n",
    " \n",
    "# How's our accuracy?\n",
    "print( recall_score(y_test, pred_y_4) )\n",
    "# 0.9744\n",
    " "
   ]
  },
  {
   "cell_type": "markdown",
   "metadata": {},
   "source": [
    "# imbalanced-learn"
   ]
  },
  {
   "cell_type": "code",
   "execution_count": 58,
   "metadata": {},
   "outputs": [
    {
     "name": "stdout",
     "output_type": "stream",
     "text": [
      "Requirement already satisfied: imbalanced-learn in c:\\users\\97254\\appdata\\local\\programs\\python\\python38\\lib\\site-packages (0.8.0)\n",
      "Requirement already satisfied: scipy>=0.19.1 in c:\\users\\97254\\appdata\\local\\programs\\python\\python38\\lib\\site-packages (from imbalanced-learn) (1.5.4)\n",
      "Requirement already satisfied: numpy>=1.13.3 in c:\\users\\97254\\appdata\\local\\programs\\python\\python38\\lib\\site-packages (from imbalanced-learn) (1.18.5)\n",
      "Requirement already satisfied: scikit-learn>=0.24 in c:\\users\\97254\\appdata\\local\\programs\\python\\python38\\lib\\site-packages (from imbalanced-learn) (0.24.1)\n",
      "Requirement already satisfied: joblib>=0.11 in c:\\users\\97254\\appdata\\local\\programs\\python\\python38\\lib\\site-packages (from imbalanced-learn) (0.17.0)\n",
      "Requirement already satisfied: threadpoolctl>=2.0.0 in c:\\users\\97254\\appdata\\local\\programs\\python\\python38\\lib\\site-packages (from scikit-learn>=0.24->imbalanced-learn) (2.1.0)\n",
      "Note: you may need to restart the kernel to use updated packages.\n"
     ]
    },
    {
     "name": "stderr",
     "output_type": "stream",
     "text": [
      "WARNING: You are using pip version 20.3.3; however, version 21.0.1 is available.\n",
      "You should consider upgrading via the 'c:\\users\\97254\\appdata\\local\\programs\\python\\python38\\python.exe -m pip install --upgrade pip' command.\n"
     ]
    }
   ],
   "source": [
    "pip install imbalanced-learn"
   ]
  },
  {
   "cell_type": "code",
   "execution_count": 59,
   "metadata": {},
   "outputs": [],
   "source": [
    "from imblearn.over_sampling import SMOTE"
   ]
  },
  {
   "cell_type": "code",
   "execution_count": 60,
   "metadata": {},
   "outputs": [
    {
     "name": "stdout",
     "output_type": "stream",
     "text": [
      "Shape of X before SMOTE: (169, 8)\n",
      "Shape of X after SMOTE: (266, 8)\n",
      "\n",
      "Balance of positive and negative classes (%):\n"
     ]
    },
    {
     "data": {
      "text/plain": [
       "1.0    50.0\n",
       "0.0    50.0\n",
       "Name: outcome1, dtype: float64"
      ]
     },
     "execution_count": 60,
     "metadata": {},
     "output_type": "execute_result"
    }
   ],
   "source": [
    "sm = SMOTE(random_state=42)\n",
    "\n",
    "X_sm, y_sm = sm.fit_resample(x, y)\n",
    "\n",
    "print(f'''Shape of X before SMOTE: {x.shape}\n",
    "Shape of X after SMOTE: {X_sm.shape}''')\n",
    "\n",
    "print('\\nBalance of positive and negative classes (%):')\n",
    "y_sm.value_counts(normalize=True) * 100"
   ]
  },
  {
   "cell_type": "code",
   "execution_count": 61,
   "metadata": {},
   "outputs": [
    {
     "data": {
      "text/plain": [
       "(266, 8)"
      ]
     },
     "execution_count": 61,
     "metadata": {},
     "output_type": "execute_result"
    }
   ],
   "source": [
    "X_sm.shape"
   ]
  },
  {
   "cell_type": "code",
   "execution_count": 72,
   "metadata": {},
   "outputs": [
    {
     "data": {
      "text/plain": [
       "(266,)"
      ]
     },
     "execution_count": 72,
     "metadata": {},
     "output_type": "execute_result"
    }
   ],
   "source": [
    "y_sm.shape"
   ]
  },
  {
   "cell_type": "code",
   "execution_count": 62,
   "metadata": {},
   "outputs": [],
   "source": [
    "x_train, x_test, y_train, y_test = train_test_split(X_sm, y_sm, test_size=.3)\n"
   ]
  },
  {
   "cell_type": "code",
   "execution_count": 63,
   "metadata": {},
   "outputs": [],
   "source": [
    "dtree.fit(x_train, y_train)  #train parameters: features and target\n",
    "pred = dtree.predict(x_test)  #parameter: new data to predict"
   ]
  },
  {
   "cell_type": "code",
   "execution_count": 64,
   "metadata": {},
   "outputs": [
    {
     "data": {
      "text/plain": [
       "0.55"
      ]
     },
     "execution_count": 64,
     "metadata": {},
     "output_type": "execute_result"
    }
   ],
   "source": [
    "from sklearn.metrics import accuracy_score\n",
    "accuracy_score(y_test, pred)"
   ]
  },
  {
   "cell_type": "code",
   "execution_count": 65,
   "metadata": {},
   "outputs": [
    {
     "name": "stdout",
     "output_type": "stream",
     "text": [
      "Criterion=gini 0.575\n",
      "Criterion=entropy 0.525\n"
     ]
    }
   ],
   "source": [
    "dtree = DecisionTreeClassifier(criterion='gini')\n",
    "dtree.fit(x_train, y_train)\n",
    "pred = dtree.predict(x_test)\n",
    "print('Criterion=gini', accuracy_score(y_test, pred))\n",
    "dtree = DecisionTreeClassifier(criterion='entropy')\n",
    "dtree.fit(x_train, y_train)\n",
    "pred = dtree.predict(x_test)\n",
    "print('Criterion=entropy', accuracy_score(y_test, pred))"
   ]
  },
  {
   "cell_type": "code",
   "execution_count": 66,
   "metadata": {},
   "outputs": [],
   "source": [
    "max_depth = []\n",
    "acc_gini = []\n",
    "acc_entropy = []\n",
    "for i in range(1,20):\n",
    " dtree = DecisionTreeClassifier(criterion='gini', max_depth=i)\n",
    " dtree.fit(x_train, y_train)\n",
    " pred = dtree.predict(x_test)\n",
    " acc_gini.append(accuracy_score(y_test, pred))\n",
    " ####\n",
    " dtree = DecisionTreeClassifier(criterion='entropy', max_depth=i)\n",
    " dtree.fit(x_train, y_train)\n",
    " pred = dtree.predict(x_test)\n",
    " acc_entropy.append(accuracy_score(y_test, pred))\n",
    " ####\n",
    " max_depth.append(i)\n",
    "d = pd.DataFrame({'acc_gini':pd.Series(acc_gini), \n",
    " 'acc_entropy':pd.Series(acc_entropy),\n",
    " 'max_depth':pd.Series(max_depth)})\n",
    "# visualizing changes in parameters"
   ]
  },
  {
   "cell_type": "code",
   "execution_count": 67,
   "metadata": {},
   "outputs": [
    {
     "data": {
      "text/html": [
       "<div>\n",
       "<style scoped>\n",
       "    .dataframe tbody tr th:only-of-type {\n",
       "        vertical-align: middle;\n",
       "    }\n",
       "\n",
       "    .dataframe tbody tr th {\n",
       "        vertical-align: top;\n",
       "    }\n",
       "\n",
       "    .dataframe thead th {\n",
       "        text-align: right;\n",
       "    }\n",
       "</style>\n",
       "<table border=\"1\" class=\"dataframe\">\n",
       "  <thead>\n",
       "    <tr style=\"text-align: right;\">\n",
       "      <th></th>\n",
       "      <th>acc_gini</th>\n",
       "      <th>acc_entropy</th>\n",
       "      <th>max_depth</th>\n",
       "    </tr>\n",
       "  </thead>\n",
       "  <tbody>\n",
       "    <tr>\n",
       "      <th>0</th>\n",
       "      <td>0.5500</td>\n",
       "      <td>0.4250</td>\n",
       "      <td>1</td>\n",
       "    </tr>\n",
       "    <tr>\n",
       "      <th>1</th>\n",
       "      <td>0.5500</td>\n",
       "      <td>0.4500</td>\n",
       "      <td>2</td>\n",
       "    </tr>\n",
       "    <tr>\n",
       "      <th>2</th>\n",
       "      <td>0.5750</td>\n",
       "      <td>0.5500</td>\n",
       "      <td>3</td>\n",
       "    </tr>\n",
       "    <tr>\n",
       "      <th>3</th>\n",
       "      <td>0.5875</td>\n",
       "      <td>0.4875</td>\n",
       "      <td>4</td>\n",
       "    </tr>\n",
       "    <tr>\n",
       "      <th>4</th>\n",
       "      <td>0.5875</td>\n",
       "      <td>0.5000</td>\n",
       "      <td>5</td>\n",
       "    </tr>\n",
       "    <tr>\n",
       "      <th>5</th>\n",
       "      <td>0.5625</td>\n",
       "      <td>0.4250</td>\n",
       "      <td>6</td>\n",
       "    </tr>\n",
       "    <tr>\n",
       "      <th>6</th>\n",
       "      <td>0.6000</td>\n",
       "      <td>0.6375</td>\n",
       "      <td>7</td>\n",
       "    </tr>\n",
       "    <tr>\n",
       "      <th>7</th>\n",
       "      <td>0.6125</td>\n",
       "      <td>0.6125</td>\n",
       "      <td>8</td>\n",
       "    </tr>\n",
       "    <tr>\n",
       "      <th>8</th>\n",
       "      <td>0.5375</td>\n",
       "      <td>0.6250</td>\n",
       "      <td>9</td>\n",
       "    </tr>\n",
       "    <tr>\n",
       "      <th>9</th>\n",
       "      <td>0.6000</td>\n",
       "      <td>0.5000</td>\n",
       "      <td>10</td>\n",
       "    </tr>\n",
       "    <tr>\n",
       "      <th>10</th>\n",
       "      <td>0.5500</td>\n",
       "      <td>0.5500</td>\n",
       "      <td>11</td>\n",
       "    </tr>\n",
       "    <tr>\n",
       "      <th>11</th>\n",
       "      <td>0.5375</td>\n",
       "      <td>0.5500</td>\n",
       "      <td>12</td>\n",
       "    </tr>\n",
       "    <tr>\n",
       "      <th>12</th>\n",
       "      <td>0.6125</td>\n",
       "      <td>0.5750</td>\n",
       "      <td>13</td>\n",
       "    </tr>\n",
       "    <tr>\n",
       "      <th>13</th>\n",
       "      <td>0.6500</td>\n",
       "      <td>0.5500</td>\n",
       "      <td>14</td>\n",
       "    </tr>\n",
       "    <tr>\n",
       "      <th>14</th>\n",
       "      <td>0.6000</td>\n",
       "      <td>0.5875</td>\n",
       "      <td>15</td>\n",
       "    </tr>\n",
       "    <tr>\n",
       "      <th>15</th>\n",
       "      <td>0.5750</td>\n",
       "      <td>0.5500</td>\n",
       "      <td>16</td>\n",
       "    </tr>\n",
       "    <tr>\n",
       "      <th>16</th>\n",
       "      <td>0.6125</td>\n",
       "      <td>0.5125</td>\n",
       "      <td>17</td>\n",
       "    </tr>\n",
       "    <tr>\n",
       "      <th>17</th>\n",
       "      <td>0.6000</td>\n",
       "      <td>0.5625</td>\n",
       "      <td>18</td>\n",
       "    </tr>\n",
       "    <tr>\n",
       "      <th>18</th>\n",
       "      <td>0.5750</td>\n",
       "      <td>0.5125</td>\n",
       "      <td>19</td>\n",
       "    </tr>\n",
       "  </tbody>\n",
       "</table>\n",
       "</div>"
      ],
      "text/plain": [
       "    acc_gini  acc_entropy  max_depth\n",
       "0     0.5500       0.4250          1\n",
       "1     0.5500       0.4500          2\n",
       "2     0.5750       0.5500          3\n",
       "3     0.5875       0.4875          4\n",
       "4     0.5875       0.5000          5\n",
       "5     0.5625       0.4250          6\n",
       "6     0.6000       0.6375          7\n",
       "7     0.6125       0.6125          8\n",
       "8     0.5375       0.6250          9\n",
       "9     0.6000       0.5000         10\n",
       "10    0.5500       0.5500         11\n",
       "11    0.5375       0.5500         12\n",
       "12    0.6125       0.5750         13\n",
       "13    0.6500       0.5500         14\n",
       "14    0.6000       0.5875         15\n",
       "15    0.5750       0.5500         16\n",
       "16    0.6125       0.5125         17\n",
       "17    0.6000       0.5625         18\n",
       "18    0.5750       0.5125         19"
      ]
     },
     "execution_count": 67,
     "metadata": {},
     "output_type": "execute_result"
    }
   ],
   "source": [
    "d.head(20)"
   ]
  },
  {
   "cell_type": "code",
   "execution_count": 68,
   "metadata": {},
   "outputs": [
    {
     "data": {
      "text/plain": [
       "<matplotlib.legend.Legend at 0x2e86d4e34c0>"
      ]
     },
     "execution_count": 68,
     "metadata": {},
     "output_type": "execute_result"
    },
    {
     "data": {
      "image/png": "[encoded data removed]",
      "text/plain": [
       "<Figure size 432x288 with 1 Axes>"
      ]
     },
     "metadata": {
      "needs_background": "light"
     },
     "output_type": "display_data"
    }
   ],
   "source": [
    "# visualizing changes in parameters\n",
    "plt.plot('max_depth','acc_gini', data=d, label='gini')\n",
    "plt.plot('max_depth','acc_entropy', data=d, label='entropy')\n",
    "plt.xlabel('max_depth')\n",
    "plt.ylabel('accuracy')\n",
    "plt.legend()"
   ]
  },
  {
   "cell_type": "code",
   "execution_count": 73,
   "metadata": {},
   "outputs": [
    {
     "data": {
      "text/plain": [
       "0.6625"
      ]
     },
     "execution_count": 73,
     "metadata": {},
     "output_type": "execute_result"
    }
   ],
   "source": [
    "dtree = DecisionTreeClassifier(criterion='entropy', max_depth=7)\n",
    "dtree.fit(x_train, y_train)\n",
    "pred = dtree.predict(x_test)\n",
    "accuracy_score(y_test, pred)\n"
   ]
  },
  {
   "cell_type": "code",
   "execution_count": 74,
   "metadata": {},
   "outputs": [
    {
     "data": {
      "image/png": "[encoded data removed]",
      "text/plain": [
       "<Figure size 432x288 with 1 Axes>"
      ]
     },
     "metadata": {
      "needs_background": "light"
     },
     "output_type": "display_data"
    }
   ],
   "source": [
    "from sklearn import tree\n",
    "tree.plot_tree(dtree);"
   ]
  },
  {
   "cell_type": "code",
   "execution_count": 25,
   "metadata": {},
   "outputs": [
    {
     "data": {
      "image/png": "[encoded data removed]",
      "text/plain": [
       "<Figure size 432x288 with 1 Axes>"
      ]
     },
     "metadata": {
      "needs_background": "light"
     },
     "output_type": "display_data"
    }
   ],
   "source": [
    "dtree = DecisionTreeClassifier(criterion='entropy', max_depth=2)\n",
    "dtree.fit(x_train, y_train)\n",
    "pred = dtree.predict(x_test)\n",
    "accuracy_score(y_test, pred)\n",
    "from sklearn import tree\n",
    "tree.plot_tree(dtree);"
   ]
  },
  {
   "cell_type": "code",
   "execution_count": 27,
   "metadata": {},
   "outputs": [
    {
     "data": {
      "text/plain": [
       "'age'"
      ]
     },
     "execution_count": 27,
     "metadata": {},
     "output_type": "execute_result"
    }
   ],
   "source": [
    "x_train.columns[6]"
   ]
  },
  {
   "cell_type": "markdown",
   "metadata": {},
   "source": [
    "RandomForestClassifier again:"
   ]
  },
  {
   "cell_type": "code",
   "execution_count": 76,
   "metadata": {},
   "outputs": [
    {
     "name": "stdout",
     "output_type": "stream",
     "text": [
      "[0. 1.]\n",
      "0.7\n"
     ]
    }
   ],
   "source": [
    "clf_4 = RandomForestClassifier()\n",
    "clf_4.fit(x_train, y_train)\n",
    " #x_train, x_test, y_train, y_test\n",
    "# Predict on training set\n",
    "pred_y_4 = clf_4.predict(x_test)\n",
    " \n",
    "# Is our model still predicting just one class?\n",
    "print( np.unique( pred_y_4 ) )\n",
    "# [0 1]\n",
    " \n",
    "# How's our accuracy?\n",
    "print( accuracy_score(y_test, pred_y_4) )\n",
    " "
   ]
  },
  {
   "cell_type": "code",
   "execution_count": null,
   "metadata": {},
   "outputs": [],
   "source": []
  }
 ],
 "metadata": {
  "kernelspec": {
   "display_name": "Python 3",
   "language": "python",
   "name": "python3"
  },
  "language_info": {
   "codemirror_mode": {
    "name": "ipython",
    "version": 3
   },
   "file_extension": ".py",
   "mimetype": "text/x-python",
   "name": "python",
   "nbconvert_exporter": "python",
   "pygments_lexer": "ipython3",
   "version": "3.7.6"
  }
 },
 "nbformat": 4,
 "nbformat_minor": 4
}
