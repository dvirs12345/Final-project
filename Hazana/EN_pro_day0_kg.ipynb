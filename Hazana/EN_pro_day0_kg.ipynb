{
 "cells": [
      {
   "cell_type": "markdown",
   "metadata": {
    "_uuid": "855d1bd2aad044e8623f1067f1bf07fd90360221"
   },
   "source": [
    "# find best model on EN feeding divide by kg (wight) featers:\n"

   ]
  },
  {
   "cell_type": "code",
   "execution_count": 1,
   "metadata": {},
   "outputs": [],
   "source": [
    "num_of_lines=800"
   ]
  },
  {
   "cell_type": "code",
   "execution_count": 2,
   "metadata": {},
   "outputs": [
    {
     "name": "stdout",
     "output_type": "stream",
     "text": [
      "(800, 70)\n"
     ]
    },
    {
     "data": {
      "text/html": [
       "<div>\n",
       "<style scoped>\n",
       "    .dataframe tbody tr th:only-of-type {\n",
       "        vertical-align: middle;\n",
       "    }\n",
       "\n",
       "    .dataframe tbody tr th {\n",
       "        vertical-align: top;\n",
       "    }\n",
       "\n",
       "    .dataframe thead th {\n",
       "        text-align: right;\n",
       "    }\n",
       "</style>\n",
       "<table border=\"1\" class=\"dataframe\">\n",
       "  <thead>\n",
       "    <tr style=\"text-align: right;\">\n",
       "      <th></th>\n",
       "      <th>ser_num</th>\n",
       "      <th>ICU_LOS</th>\n",
       "      <th>LOS_Group</th>\n",
       "      <th>ICU_mortality</th>\n",
       "      <th>HOSP_mortality</th>\n",
       "      <th>28_mortality</th>\n",
       "      <th>90 days mortality</th>\n",
       "      <th>trauma</th>\n",
       "      <th>metabolic</th>\n",
       "      <th>gastrointestinal</th>\n",
       "      <th>...</th>\n",
       "      <th>EN_pro_day12</th>\n",
       "      <th>PN_pro_day12</th>\n",
       "      <th>EN_pro_day13</th>\n",
       "      <th>PN_pro_day13</th>\n",
       "      <th>EN_pro_day0/kg</th>\n",
       "      <th>EN_pro_day1/kg</th>\n",
       "      <th>EN_pro_day2/kg</th>\n",
       "      <th>EN_pro_day3/kg</th>\n",
       "      <th>EN_pro_day4/kg</th>\n",
       "      <th>EN_pro_day5/kg</th>\n",
       "    </tr>\n",
       "  </thead>\n",
       "  <tbody>\n",
       "    <tr>\n",
       "      <th>0</th>\n",
       "      <td>2</td>\n",
       "      <td>9</td>\n",
       "      <td>LOS_8-13</td>\n",
       "      <td>0</td>\n",
       "      <td>0</td>\n",
       "      <td>0</td>\n",
       "      <td>0</td>\n",
       "      <td>0</td>\n",
       "      <td>1</td>\n",
       "      <td>0</td>\n",
       "      <td>...</td>\n",
       "      <td>0.0</td>\n",
       "      <td>0.000000</td>\n",
       "      <td>0.0</td>\n",
       "      <td>0.0</td>\n",
       "      <td>1.250297</td>\n",
       "      <td>1.221456</td>\n",
       "      <td>1.578462</td>\n",
       "      <td>0.995015</td>\n",
       "      <td>1.394308</td>\n",
       "      <td>1.403077</td>\n",
       "    </tr>\n",
       "    <tr>\n",
       "      <th>1</th>\n",
       "      <td>3</td>\n",
       "      <td>5</td>\n",
       "      <td>LOS_5-7</td>\n",
       "      <td>0</td>\n",
       "      <td>0</td>\n",
       "      <td>0</td>\n",
       "      <td>0</td>\n",
       "      <td>0</td>\n",
       "      <td>1</td>\n",
       "      <td>0</td>\n",
       "      <td>...</td>\n",
       "      <td>0.0</td>\n",
       "      <td>0.000000</td>\n",
       "      <td>0.0</td>\n",
       "      <td>0.0</td>\n",
       "      <td>0.758495</td>\n",
       "      <td>0.000000</td>\n",
       "      <td>0.670993</td>\n",
       "      <td>1.177788</td>\n",
       "      <td>0.403229</td>\n",
       "      <td>0.000000</td>\n",
       "    </tr>\n",
       "    <tr>\n",
       "      <th>2</th>\n",
       "      <td>5</td>\n",
       "      <td>13</td>\n",
       "      <td>LOS_8-13</td>\n",
       "      <td>0</td>\n",
       "      <td>0</td>\n",
       "      <td>0</td>\n",
       "      <td>0</td>\n",
       "      <td>0</td>\n",
       "      <td>0</td>\n",
       "      <td>1</td>\n",
       "      <td>...</td>\n",
       "      <td>0.0</td>\n",
       "      <td>53.273355</td>\n",
       "      <td>0.0</td>\n",
       "      <td>0.0</td>\n",
       "      <td>0.000000</td>\n",
       "      <td>0.000000</td>\n",
       "      <td>0.023259</td>\n",
       "      <td>1.396370</td>\n",
       "      <td>0.256457</td>\n",
       "      <td>0.000000</td>\n",
       "    </tr>\n",
       "    <tr>\n",
       "      <th>3</th>\n",
       "      <td>7</td>\n",
       "      <td>6</td>\n",
       "      <td>LOS_5-7</td>\n",
       "      <td>0</td>\n",
       "      <td>0</td>\n",
       "      <td>0</td>\n",
       "      <td>0</td>\n",
       "      <td>0</td>\n",
       "      <td>1</td>\n",
       "      <td>1</td>\n",
       "      <td>...</td>\n",
       "      <td>0.0</td>\n",
       "      <td>0.000000</td>\n",
       "      <td>0.0</td>\n",
       "      <td>0.0</td>\n",
       "      <td>1.145278</td>\n",
       "      <td>1.520000</td>\n",
       "      <td>1.520000</td>\n",
       "      <td>1.520000</td>\n",
       "      <td>1.520000</td>\n",
       "      <td>1.209667</td>\n",
       "    </tr>\n",
       "    <tr>\n",
       "      <th>4</th>\n",
       "      <td>9</td>\n",
       "      <td>9</td>\n",
       "      <td>LOS_8-13</td>\n",
       "      <td>0</td>\n",
       "      <td>0</td>\n",
       "      <td>0</td>\n",
       "      <td>0</td>\n",
       "      <td>1</td>\n",
       "      <td>1</td>\n",
       "      <td>1</td>\n",
       "      <td>...</td>\n",
       "      <td>0.0</td>\n",
       "      <td>0.000000</td>\n",
       "      <td>0.0</td>\n",
       "      <td>0.0</td>\n",
       "      <td>0.014902</td>\n",
       "      <td>0.858353</td>\n",
       "      <td>0.731984</td>\n",
       "      <td>0.922729</td>\n",
       "      <td>1.287529</td>\n",
       "      <td>1.287529</td>\n",
       "    </tr>\n",
       "  </tbody>\n",
       "</table>\n",
       "<p>5 rows × 70 columns</p>\n",
       "</div>"
      ],
      "text/plain": [
       "   ser_num  ICU_LOS LOS_Group  ICU_mortality  HOSP_mortality  28_mortality  \\\n",
       "0        2        9  LOS_8-13              0               0             0   \n",
       "1        3        5   LOS_5-7              0               0             0   \n",
       "2        5       13  LOS_8-13              0               0             0   \n",
       "3        7        6   LOS_5-7              0               0             0   \n",
       "4        9        9  LOS_8-13              0               0             0   \n",
       "\n",
       "   90 days mortality  trauma  metabolic  gastrointestinal  ...  EN_pro_day12  \\\n",
       "0                  0       0          1                 0  ...           0.0   \n",
       "1                  0       0          1                 0  ...           0.0   \n",
       "2                  0       0          0                 1  ...           0.0   \n",
       "3                  0       0          1                 1  ...           0.0   \n",
       "4                  0       1          1                 1  ...           0.0   \n",
       "\n",
       "  PN_pro_day12 EN_pro_day13  PN_pro_day13  EN_pro_day0/kg  EN_pro_day1/kg  \\\n",
       "0     0.000000          0.0           0.0        1.250297        1.221456   \n",
       "1     0.000000          0.0           0.0        0.758495        0.000000   \n",
       "2    53.273355          0.0           0.0        0.000000        0.000000   \n",
       "3     0.000000          0.0           0.0        1.145278        1.520000   \n",
       "4     0.000000          0.0           0.0        0.014902        0.858353   \n",
       "\n",
       "  EN_pro_day2/kg EN_pro_day3/kg EN_pro_day4/kg  EN_pro_day5/kg  \n",
       "0       1.578462       0.995015       1.394308        1.403077  \n",
       "1       0.670993       1.177788       0.403229        0.000000  \n",
       "2       0.023259       1.396370       0.256457        0.000000  \n",
       "3       1.520000       1.520000       1.520000        1.209667  \n",
       "4       0.731984       0.922729       1.287529        1.287529  \n",
       "\n",
       "[5 rows x 70 columns]"
      ]
     },
     "execution_count": 2,
     "metadata": {},
     "output_type": "execute_result"
    }
   ],
   "source": [
    "import pandas as pd\n",
    "import numpy as np\n",
    "import matplotlib.pyplot as plt\n",
    "from sklearn.cluster import KMeans\n",
    "\n",
    "patient_level__ver_12_proj1_sn_5_13=pd.read_excel(\"C:/Users/97254/Downloads/patient_level__ver 12_proj1_sn_5-13.xlsx\", engine='openpyxl')\n",
    "\n",
    "patient_level__ver_12_proj1_sn_5_13=pd.DataFrame(patient_level__ver_12_proj1_sn_5_13.iloc[:num_of_lines, :])\n",
    "\n",
    "\n",
    "print(patient_level__ver_12_proj1_sn_5_13.shape)\n",
    "patient_level__ver_12_proj1_sn_5_13.head()\n"
   ]
  },
  {
   "cell_type": "code",
   "execution_count": 3,
   "metadata": {},
   "outputs": [
    {
     "data": {
      "text/plain": [
       "(760, 70)"
      ]
     },
     "execution_count": 3,
     "metadata": {},
     "output_type": "execute_result"
    }
   ],
   "source": [
    "no_age=patient_level__ver_12_proj1_sn_5_13[patient_level__ver_12_proj1_sn_5_13['age']!='NAN']\n",
    "no_age.shape"
   ]
  },
  {
   "cell_type": "code",
   "execution_count": 4,
   "metadata": {},
   "outputs": [],
   "source": []
  },
  {
   "cell_type": "code",
   "execution_count": 6,
   "metadata": {},
   "outputs": [
    {
     "data": {
      "text/plain": [
       "(760, 70)"
      ]
     },
     "execution_count": 6,
     "metadata": {},
     "output_type": "execute_result"
    }
   ],
   "source": [
    "no_age.shape"
   ]
  },
  {
   "cell_type": "code",
   "execution_count": 7,
   "metadata": {},
   "outputs": [
    {
     "data": {
      "text/plain": [
       "ser_num           0\n",
       "ICU_LOS           0\n",
       "LOS_Group         0\n",
       "ICU_mortality     0\n",
       "HOSP_mortality    0\n",
       "                 ..\n",
       "EN_pro_day1/kg    0\n",
       "EN_pro_day2/kg    0\n",
       "EN_pro_day3/kg    0\n",
       "EN_pro_day4/kg    0\n",
       "EN_pro_day5/kg    0\n",
       "Length: 70, dtype: int64"
      ]
     },
     "execution_count": 7,
     "metadata": {},
     "output_type": "execute_result"
    }
   ],
   "source": [
    "patient_level__ver_12_proj1_sn_5_13.isnull().sum(axis = 0)"
   ]
  },
  {
   "cell_type": "markdown",
   "metadata": {},
   "source": [
    "# select vars:"
   ]
  },
  {
   "cell_type": "code",
   "execution_count": 4,
   "metadata": {},
   "outputs": [
    {
     "name": "stdout",
     "output_type": "stream",
     "text": [
      "(760, 13)\n"
     ]
    }
   ],
   "source": [
    "x1 = no_age[['age','BMI','APACHEII','trauma','metabolic','gastrointestinal','Sepsis','EN_pro_day0/kg','EN_pro_day1/kg','EN_pro_day2/kg','EN_pro_day3/kg','EN_pro_day4/kg','EN_pro_day5/kg']]\n",
    "print(x1.shape)"
   ]
  },
  {
   "cell_type": "code",
   "execution_count": null,
   "metadata": {},
   "outputs": [],
   "source": []
  },
  {
   "cell_type": "code",
   "execution_count": null,
   "metadata": {},
   "outputs": [],
   "source": []
  },
  {
   "cell_type": "code",
   "execution_count": 5,
   "metadata": {},
   "outputs": [
    {
     "data": {
      "text/html": [
       "<div>\n",
       "<style scoped>\n",
       "    .dataframe tbody tr th:only-of-type {\n",
       "        vertical-align: middle;\n",
       "    }\n",
       "\n",
       "    .dataframe tbody tr th {\n",
       "        vertical-align: top;\n",
       "    }\n",
       "\n",
       "    .dataframe thead th {\n",
       "        text-align: right;\n",
       "    }\n",
       "</style>\n",
       "<table border=\"1\" class=\"dataframe\">\n",
       "  <thead>\n",
       "    <tr style=\"text-align: right;\">\n",
       "      <th></th>\n",
       "      <th>ICU_mortality</th>\n",
       "    </tr>\n",
       "  </thead>\n",
       "  <tbody>\n",
       "    <tr>\n",
       "      <th>0</th>\n",
       "      <td>0</td>\n",
       "    </tr>\n",
       "    <tr>\n",
       "      <th>1</th>\n",
       "      <td>0</td>\n",
       "    </tr>\n",
       "    <tr>\n",
       "      <th>2</th>\n",
       "      <td>0</td>\n",
       "    </tr>\n",
       "    <tr>\n",
       "      <th>3</th>\n",
       "      <td>0</td>\n",
       "    </tr>\n",
       "    <tr>\n",
       "      <th>4</th>\n",
       "      <td>0</td>\n",
       "    </tr>\n",
       "  </tbody>\n",
       "</table>\n",
       "</div>"
      ],
      "text/plain": [
       "   ICU_mortality\n",
       "0              0\n",
       "1              0\n",
       "2              0\n",
       "3              0\n",
       "4              0"
      ]
     },
     "execution_count": 5,
     "metadata": {},
     "output_type": "execute_result"
    }
   ],
   "source": [
    "target = no_age[['ICU_mortality']]\n",
    "\n",
    "target.head()"
   ]
  },
  {
   "cell_type": "code",
   "execution_count": 10,
   "metadata": {},
   "outputs": [
    {
     "data": {
      "text/plain": [
       "ICU_mortality\n",
       "0                75.789474\n",
       "1                24.210526\n",
       "dtype: float64"
      ]
     },
     "execution_count": 10,
     "metadata": {},
     "output_type": "execute_result"
    }
   ],
   "source": [
    "target.value_counts(normalize=True) * 100"
   ]
  },
  {
   "cell_type": "code",
   "execution_count": null,
   "metadata": {},
   "outputs": [],
   "source": []
  },
  {
   "cell_type": "code",
   "execution_count": null,
   "metadata": {},
   "outputs": [],
   "source": []
  },
  {
   "cell_type": "code",
   "execution_count": null,
   "metadata": {},
   "outputs": [],
   "source": []
  },
  {
   "cell_type": "code",
   "execution_count": 39,
   "metadata": {},
   "outputs": [],
   "source": []
  },
  {
   "cell_type": "code",
   "execution_count": 40,
   "metadata": {},
   "outputs": [],
   "source": []
  },
  {
   "cell_type": "code",
   "execution_count": null,
   "metadata": {},
   "outputs": [],
   "source": []
  },
  {
   "cell_type": "code",
   "execution_count": null,
   "metadata": {},
   "outputs": [],
   "source": []
  },
  {
   "cell_type": "markdown",
   "metadata": {},
   "source": [
    "LabelEncoder:"
   ]
  },
  {
   "cell_type": "code",
   "execution_count": null,
   "metadata": {},
   "outputs": [],
   "source": []
  },
  {
   "cell_type": "code",
   "execution_count": null,
   "metadata": {},
   "outputs": [],
   "source": []
  },
  {
   "cell_type": "markdown",
   "metadata": {},
   "source": [
    "# train_test_split"
   ]
  },
  {
   "cell_type": "code",
   "execution_count": 6,
   "metadata": {},
   "outputs": [
    {
     "data": {
      "text/html": [
       "<div>\n",
       "<style scoped>\n",
       "    .dataframe tbody tr th:only-of-type {\n",
       "        vertical-align: middle;\n",
       "    }\n",
       "\n",
       "    .dataframe tbody tr th {\n",
       "        vertical-align: top;\n",
       "    }\n",
       "\n",
       "    .dataframe thead th {\n",
       "        text-align: right;\n",
       "    }\n",
       "</style>\n",
       "<table border=\"1\" class=\"dataframe\">\n",
       "  <thead>\n",
       "    <tr style=\"text-align: right;\">\n",
       "      <th></th>\n",
       "      <th>age</th>\n",
       "      <th>BMI</th>\n",
       "      <th>APACHEII</th>\n",
       "      <th>trauma</th>\n",
       "      <th>metabolic</th>\n",
       "      <th>gastrointestinal</th>\n",
       "      <th>Sepsis</th>\n",
       "      <th>EN_pro_day0/kg</th>\n",
       "      <th>EN_pro_day1/kg</th>\n",
       "      <th>EN_pro_day2/kg</th>\n",
       "      <th>EN_pro_day3/kg</th>\n",
       "      <th>EN_pro_day4/kg</th>\n",
       "      <th>EN_pro_day5/kg</th>\n",
       "    </tr>\n",
       "  </thead>\n",
       "  <tbody>\n",
       "    <tr>\n",
       "      <th>188</th>\n",
       "      <td>59</td>\n",
       "      <td>23.875115</td>\n",
       "      <td>26</td>\n",
       "      <td>0</td>\n",
       "      <td>1</td>\n",
       "      <td>0</td>\n",
       "      <td>1</td>\n",
       "      <td>1.098297</td>\n",
       "      <td>1.109454</td>\n",
       "      <td>1.564926</td>\n",
       "      <td>1.564926</td>\n",
       "      <td>1.147145</td>\n",
       "      <td>0.522284</td>\n",
       "    </tr>\n",
       "    <tr>\n",
       "      <th>410</th>\n",
       "      <td>35</td>\n",
       "      <td>20.811655</td>\n",
       "      <td>0</td>\n",
       "      <td>0</td>\n",
       "      <td>0</td>\n",
       "      <td>0</td>\n",
       "      <td>1</td>\n",
       "      <td>1.196643</td>\n",
       "      <td>1.488000</td>\n",
       "      <td>1.416840</td>\n",
       "      <td>1.488000</td>\n",
       "      <td>1.488000</td>\n",
       "      <td>1.488000</td>\n",
       "    </tr>\n",
       "    <tr>\n",
       "      <th>394</th>\n",
       "      <td>32</td>\n",
       "      <td>26.122449</td>\n",
       "      <td>0</td>\n",
       "      <td>0</td>\n",
       "      <td>0</td>\n",
       "      <td>1</td>\n",
       "      <td>1</td>\n",
       "      <td>0.000000</td>\n",
       "      <td>0.000000</td>\n",
       "      <td>0.000000</td>\n",
       "      <td>0.000000</td>\n",
       "      <td>0.257767</td>\n",
       "      <td>0.915167</td>\n",
       "    </tr>\n",
       "    <tr>\n",
       "      <th>46</th>\n",
       "      <td>69</td>\n",
       "      <td>24.167162</td>\n",
       "      <td>25</td>\n",
       "      <td>0</td>\n",
       "      <td>0</td>\n",
       "      <td>1</td>\n",
       "      <td>1</td>\n",
       "      <td>0.000000</td>\n",
       "      <td>0.000000</td>\n",
       "      <td>0.134908</td>\n",
       "      <td>0.269815</td>\n",
       "      <td>0.269815</td>\n",
       "      <td>0.000000</td>\n",
       "    </tr>\n",
       "    <tr>\n",
       "      <th>467</th>\n",
       "      <td>63</td>\n",
       "      <td>31.250000</td>\n",
       "      <td>0</td>\n",
       "      <td>0</td>\n",
       "      <td>1</td>\n",
       "      <td>1</td>\n",
       "      <td>0</td>\n",
       "      <td>0.000000</td>\n",
       "      <td>0.204950</td>\n",
       "      <td>0.804000</td>\n",
       "      <td>0.804000</td>\n",
       "      <td>0.804000</td>\n",
       "      <td>0.199325</td>\n",
       "    </tr>\n",
       "  </tbody>\n",
       "</table>\n",
       "</div>"
      ],
      "text/plain": [
       "    age        BMI  APACHEII  trauma  metabolic  gastrointestinal  Sepsis  \\\n",
       "188  59  23.875115        26       0          1                 0       1   \n",
       "410  35  20.811655         0       0          0                 0       1   \n",
       "394  32  26.122449         0       0          0                 1       1   \n",
       "46   69  24.167162        25       0          0                 1       1   \n",
       "467  63  31.250000         0       0          1                 1       0   \n",
       "\n",
       "     EN_pro_day0/kg  EN_pro_day1/kg  EN_pro_day2/kg  EN_pro_day3/kg  \\\n",
       "188        1.098297        1.109454        1.564926        1.564926   \n",
       "410        1.196643        1.488000        1.416840        1.488000   \n",
       "394        0.000000        0.000000        0.000000        0.000000   \n",
       "46         0.000000        0.000000        0.134908        0.269815   \n",
       "467        0.000000        0.204950        0.804000        0.804000   \n",
       "\n",
       "     EN_pro_day4/kg  EN_pro_day5/kg  \n",
       "188        1.147145        0.522284  \n",
       "410        1.488000        1.488000  \n",
       "394        0.257767        0.915167  \n",
       "46         0.269815        0.000000  \n",
       "467        0.804000        0.199325  "
      ]
     },
     "execution_count": 6,
     "metadata": {},
     "output_type": "execute_result"
    }
   ],
   "source": [
    "\n",
    "from sklearn.model_selection import train_test_split\n",
    "#this function randomly split the data into train and test sets\n",
    "x_train, x_test, y_train, y_test = train_test_split(x1, target, test_size=.3)\n",
    "#test_size=.3 means that our test set will be 30% of the train set.\n",
    "x_train.head()"
   ]
  },
  {
   "cell_type": "markdown",
   "metadata": {},
   "source": [
    "# models review:"
   ]
  },
  {
   "cell_type": "code",
   "execution_count": 7,
   "metadata": {},
   "outputs": [],
   "source": [
    "from sklearn.metrics import accuracy_score\n",
    "from sklearn.metrics import precision_score\n",
    "from sklearn.metrics import recall_score\n",
    "from sklearn.metrics import f1_score\n",
    "from sklearn.metrics import roc_auc_score\n",
    "from sklearn import metrics\n",
    "def stats(y_test,y_pred):\n",
    "    accuracy=accuracy_score(y_test, y_pred)\n",
    "    recall = recall_score(y_test, y_pred, average='binary')\n",
    "    precision = precision_score(y_test, y_pred, average='binary')\n",
    "    score = f1_score(y_test, y_pred, average='binary')\n",
    "    print('accuracy_score: %.3f' % accuracy)\n",
    "    print('recall: %.3f' % recall)\n",
    "    print('precision: %.3f' % precision)\n",
    "    print('F-Measure: %.3f' % score)\n",
    "    print('roc_auc_score: %.3f' % roc_auc_score(y_test,y_pred))\n",
    "    fpr, tpr, thresholds = metrics.roc_curve(y_test, y_pred, pos_label=2)\n",
    "    print('auc score: %.3f' % metrics.auc(fpr, tpr))"
   ]
  },
  {
   "cell_type": "code",
   "execution_count": 8,
   "metadata": {},
   "outputs": [
    {
     "name": "stderr",
     "output_type": "stream",
     "text": [
      "c:\\users\\97254\\appdata\\local\\programs\\python\\python38\\lib\\site-packages\\sklearn\\utils\\validation.py:63: DataConversionWarning: A column-vector y was passed when a 1d array was expected. Please change the shape of y to (n_samples, ), for example using ravel().\n",
      "  return f(*args, **kwargs)\n",
      "c:\\users\\97254\\appdata\\local\\programs\\python\\python38\\lib\\site-packages\\sklearn\\linear_model\\_logistic.py:763: ConvergenceWarning: lbfgs failed to converge (status=1):\n",
      "STOP: TOTAL NO. of ITERATIONS REACHED LIMIT.\n",
      "\n",
      "Increase the number of iterations (max_iter) or scale the data as shown in:\n",
      "    https://scikit-learn.org/stable/modules/preprocessing.html\n",
      "Please also refer to the documentation for alternative solver options:\n",
      "    https://scikit-learn.org/stable/modules/linear_model.html#logistic-regression\n",
      "  n_iter_i = _check_optimize_result(\n",
      "c:\\users\\97254\\appdata\\local\\programs\\python\\python38\\lib\\site-packages\\sklearn\\metrics\\_ranking.py:949: UndefinedMetricWarning: No positive samples in y_true, true positive value should be meaningless\n",
      "  warnings.warn(\"No positive samples in y_true, \"\n",
      "c:\\users\\97254\\appdata\\local\\programs\\python\\python38\\lib\\site-packages\\sklearn\\utils\\validation.py:63: DataConversionWarning: A column-vector y was passed when a 1d array was expected. Please change the shape of y to (n_samples, ), for example using ravel().\n",
      "  return f(*args, **kwargs)\n",
      "c:\\users\\97254\\appdata\\local\\programs\\python\\python38\\lib\\site-packages\\sklearn\\metrics\\_ranking.py:949: UndefinedMetricWarning: No positive samples in y_true, true positive value should be meaningless\n",
      "  warnings.warn(\"No positive samples in y_true, \"\n",
      "c:\\users\\97254\\appdata\\local\\programs\\python\\python38\\lib\\site-packages\\sklearn\\neighbors\\_classification.py:179: DataConversionWarning: A column-vector y was passed when a 1d array was expected. Please change the shape of y to (n_samples,), for example using ravel().\n",
      "  return self._fit(X, y)\n",
      "c:\\users\\97254\\appdata\\local\\programs\\python\\python38\\lib\\site-packages\\sklearn\\metrics\\_ranking.py:949: UndefinedMetricWarning: No positive samples in y_true, true positive value should be meaningless\n",
      "  warnings.warn(\"No positive samples in y_true, \"\n",
      "c:\\users\\97254\\appdata\\local\\programs\\python\\python38\\lib\\site-packages\\sklearn\\metrics\\_ranking.py:949: UndefinedMetricWarning: No positive samples in y_true, true positive value should be meaningless\n",
      "  warnings.warn(\"No positive samples in y_true, \"\n",
      "<ipython-input-8-cb108463c0c4>:36: DataConversionWarning: A column-vector y was passed when a 1d array was expected. Please change the shape of y to (n_samples,), for example using ravel().\n",
      "  model.fit(x_train, y_train)\n"
     ]
    },
    {
     "name": "stdout",
     "output_type": "stream",
     "text": [
      "---------LR---------\n",
      "accuracy_score: 0.728\n",
      "recall: 0.017\n",
      "precision: 0.200\n",
      "F-Measure: 0.031\n",
      "roc_auc_score: 0.497\n",
      "auc score: nan\n",
      "---------LDA---------\n",
      "accuracy_score: 0.719\n",
      "recall: 0.000\n",
      "precision: 0.000\n",
      "F-Measure: 0.000\n",
      "roc_auc_score: 0.485\n",
      "auc score: nan\n",
      "---------KNN---------\n",
      "accuracy_score: 0.719\n",
      "recall: 0.136\n",
      "precision: 0.381\n",
      "F-Measure: 0.200\n",
      "roc_auc_score: 0.529\n",
      "auc score: nan\n",
      "---------DT---------\n",
      "accuracy_score: 0.675\n",
      "recall: 0.373\n",
      "precision: 0.373\n",
      "F-Measure: 0.373\n",
      "roc_auc_score: 0.577\n",
      "auc score: nan\n",
      "---------RF---------\n",
      "accuracy_score: 0.724\n",
      "recall: 0.034\n",
      "precision: 0.250\n",
      "F-Measure: 0.060\n",
      "roc_auc_score: 0.499\n",
      "auc score: nan\n",
      "---------NB---------\n",
      "accuracy_score: 0.728\n",
      "recall: 0.203\n",
      "precision: 0.444\n",
      "F-Measure: 0.279\n",
      "roc_auc_score: 0.557\n",
      "auc score: nan\n",
      "---------SVM---------\n",
      "accuracy_score: 0.741\n",
      "recall: 0.000\n",
      "precision: 0.000\n",
      "F-Measure: 0.000\n",
      "roc_auc_score: 0.500\n",
      "auc score: nan\n"
     ]
    },
    {
     "name": "stderr",
     "output_type": "stream",
     "text": [
      "c:\\users\\97254\\appdata\\local\\programs\\python\\python38\\lib\\site-packages\\sklearn\\metrics\\_ranking.py:949: UndefinedMetricWarning: No positive samples in y_true, true positive value should be meaningless\n",
      "  warnings.warn(\"No positive samples in y_true, \"\n",
      "c:\\users\\97254\\appdata\\local\\programs\\python\\python38\\lib\\site-packages\\sklearn\\utils\\validation.py:63: DataConversionWarning: A column-vector y was passed when a 1d array was expected. Please change the shape of y to (n_samples, ), for example using ravel().\n",
      "  return f(*args, **kwargs)\n",
      "c:\\users\\97254\\appdata\\local\\programs\\python\\python38\\lib\\site-packages\\sklearn\\metrics\\_ranking.py:949: UndefinedMetricWarning: No positive samples in y_true, true positive value should be meaningless\n",
      "  warnings.warn(\"No positive samples in y_true, \"\n",
      "c:\\users\\97254\\appdata\\local\\programs\\python\\python38\\lib\\site-packages\\sklearn\\utils\\validation.py:63: DataConversionWarning: A column-vector y was passed when a 1d array was expected. Please change the shape of y to (n_samples, ), for example using ravel().\n",
      "  return f(*args, **kwargs)\n",
      "c:\\users\\97254\\appdata\\local\\programs\\python\\python38\\lib\\site-packages\\sklearn\\metrics\\_classification.py:1245: UndefinedMetricWarning: Precision is ill-defined and being set to 0.0 due to no predicted samples. Use `zero_division` parameter to control this behavior.\n",
      "  _warn_prf(average, modifier, msg_start, len(result))\n",
      "c:\\users\\97254\\appdata\\local\\programs\\python\\python38\\lib\\site-packages\\sklearn\\metrics\\_ranking.py:949: UndefinedMetricWarning: No positive samples in y_true, true positive value should be meaningless\n",
      "  warnings.warn(\"No positive samples in y_true, \"\n"
     ]
    }
   ],
   "source": [
    "from pandas.plotting import scatter_matrix\n",
    "import matplotlib.pyplot as plt\n",
    "from sklearn import model_selection # for command model_selection.cross_val_score\n",
    "from sklearn.metrics import classification_report\n",
    "from sklearn.metrics import confusion_matrix\n",
    "from sklearn.metrics import accuracy_score\n",
    "from sklearn.linear_model import LogisticRegression\n",
    "from sklearn.tree import DecisionTreeClassifier\n",
    "from sklearn.neighbors import KNeighborsClassifier\n",
    "from sklearn.discriminant_analysis import LinearDiscriminantAnalysis\n",
    "from sklearn.naive_bayes import GaussianNB\n",
    "from sklearn.svm import SVC\n",
    "from sklearn.metrics import recall_score\n",
    "from pandas import DataFrame\n",
    "from sklearn.ensemble import RandomForestClassifier\n",
    "from sklearn import preprocessing\n",
    "from sklearn.metrics import recall_score\n",
    "from sklearn.model_selection import cross_val_predict\n",
    "from sklearn.model_selection import GridSearchCV\n",
    "\n",
    "models = []\n",
    "models.append(('LR', LogisticRegression()))\n",
    "models.append(('LDA', LinearDiscriminantAnalysis()))\n",
    "models.append(('KNN', KNeighborsClassifier()))\n",
    "models.append(('DT', DecisionTreeClassifier()))\n",
    "models.append(('RF', RandomForestClassifier()))\n",
    "models.append(('NB', GaussianNB()))\n",
    "models.append(('SVM', SVC()))\n",
    "\n",
    "\n",
    "\n",
    "results = []\n",
    "names = []\n",
    "for name, model in models:\n",
    "    \n",
    "    model.fit(x_train, y_train)  \n",
    "    y_pred = model.predict(x_test)\n",
    "\n",
    "    \n",
    "    print('---------%s---------' % name)\n",
    "    stats(y_test,y_pred)"
   ]
  },
  {
   "cell_type": "markdown",
   "metadata": {},
   "source": [
    "# roc to fix"
   ]
  },
  {
   "cell_type": "code",
   "execution_count": 10,
   "metadata": {},
   "outputs": [
    {
     "data": {
      "image/png": "[encoded data removed]",
      "text/plain": [
       "<Figure size 720x504 with 1 Axes>"
      ]
     },
     "metadata": {
      "needs_background": "light"
     },
     "output_type": "display_data"
    }
   ],
   "source": [
    "from sklearn.metrics import roc_curve\n",
    "from sklearn.metrics import roc_auc_score\n",
    "from matplotlib import pyplot\n",
    "\n",
    "models = []\n",
    "\n",
    "models.append(('DT', DecisionTreeClassifier()))\n",
    "#models.append(('RF', RandomForestClassifier()))\n",
    "for name, model in models:\n",
    "    \n",
    "    model.fit(x_train, y_train) \n",
    "    y_pred = model.predict(x_test)\n",
    "    \n",
    "    roc_values = []\n",
    "    for thresh in np.linspace(0, 1, 100):\n",
    "        tn, fp, fn, tp = confusion_matrix(y_test, y_pred).ravel()\n",
    "        tpr = tp/(tp+fn)\n",
    "        fpr = fp/(fp+tn)\n",
    "        roc_values.append([tpr, fpr])\n",
    "    tpr_values, fpr_values = zip(*roc_values)\n",
    "    fig, ax = plt.subplots(figsize=(10,7))\n",
    "    ax.plot(fpr_values, tpr_values)\n",
    "    ax.plot(np.linspace(0, 1, 100),\n",
    "         np.linspace(0, 1, 100),\n",
    "         label='baseline',\n",
    "         linestyle='--')\n",
    "    plt.title('Receiver Operating Characteristic Curve', fontsize=18)\n",
    "    plt.ylabel('TPR', fontsize=16)\n",
    "    plt.xlabel('FPR', fontsize=16)\n",
    "    plt.legend(fontsize=12);\n",
    "\n",
    "\n"
   ]
  },
  {
   "cell_type": "markdown",
   "metadata": {},
   "source": [
    "to fix!"
   ]
  },
  {
   "cell_type": "code",
   "execution_count": 11,
   "metadata": {},
   "outputs": [
    {
     "name": "stdout",
     "output_type": "stream",
     "text": [
      "True Positives: 20\n",
      "False Positives: 34\n",
      "True Negatives: 135\n",
      "False Negatives: 39\n"
     ]
    }
   ],
   "source": [
    "tn, fp, fn, tp = confusion_matrix(y_test, y_pred).ravel()\n",
    "print(f'True Positives: {tp}')\n",
    "print(f'False Positives: {fp}')\n",
    "print(f'True Negatives: {tn}')\n",
    "print(f'False Negatives: {fn}')"
   ]
  },
  {
   "cell_type": "markdown",
   "metadata": {},
   "source": [
    "# DecisionTreeClassifier"
   ]
  },
  {
   "cell_type": "code",
   "execution_count": 17,
   "metadata": {},
   "outputs": [
    {
     "name": "stdout",
     "output_type": "stream",
     "text": [
      "Criterion=gini 0.6140350877192983\n",
      "recall: 0.236\n",
      "Criterion=entropy 0.6008771929824561\n",
      "recall: 0.273\n"
     ]
    }
   ],
   "source": [
    "\n",
    "\n",
    "dtree = DecisionTreeClassifier(criterion='gini')\n",
    "dtree.fit(x_train, y_train)\n",
    "pred = dtree.predict(x_test)\n",
    "print('Criterion=gini', accuracy_score(y_test, pred))\n",
    "recall = recall_score(y_test, pred, average='binary')\n",
    "print('recall: %.3f' % recall)\n",
    "dtree = DecisionTreeClassifier(criterion='entropy')\n",
    "dtree.fit(x_train, y_train)\n",
    "pred = dtree.predict(x_test)\n",
    "print('Criterion=entropy', accuracy_score(y_test, pred))\n",
    "recall = recall_score(y_test, pred, average='binary')\n",
    "print('recall: %.3f' % recall)\n"
   ]
  },
  {
   "cell_type": "code",
   "execution_count": 18,
   "metadata": {},
   "outputs": [],
   "source": [
    "max_depth = []\n",
    "acc_gini = []\n",
    "acc_entropy = []\n",
    "for i in range(1,20):\n",
    " dtree = DecisionTreeClassifier(criterion='gini', max_depth=i)\n",
    " dtree.fit(x_train, y_train)\n",
    " pred = dtree.predict(x_test)\n",
    " acc_gini.append(recall_score(y_test, pred))\n",
    " ####\n",
    " dtree = DecisionTreeClassifier(criterion='entropy', max_depth=i)\n",
    " dtree.fit(x_train, y_train)\n",
    " pred = dtree.predict(x_test)\n",
    " acc_entropy.append(recall_score(y_test, pred))\n",
    " ####\n",
    " max_depth.append(i)\n",
    "d = pd.DataFrame({'acc_gini':pd.Series(acc_gini), \n",
    " 'acc_entropy':pd.Series(acc_entropy),\n",
    " 'max_depth':pd.Series(max_depth)})\n",
    "# visualizing changes in parameters"
   ]
  },
  {
   "cell_type": "code",
   "execution_count": 19,
   "metadata": {},
   "outputs": [
    {
     "data": {
      "text/plain": [
       "<matplotlib.legend.Legend at 0x219a591dac0>"
      ]
     },
     "execution_count": 19,
     "metadata": {},
     "output_type": "execute_result"
    },
    {
     "data": {
      "image/png": "[encoded data removed]",
      "text/plain": [
       "<Figure size 432x288 with 1 Axes>"
      ]
     },
     "metadata": {
      "needs_background": "light"
     },
     "output_type": "display_data"
    }
   ],
   "source": [
    "# visualizing changes in parameters\n",
    "plt.plot('max_depth','acc_gini', data=d, label='gini')\n",
    "plt.plot('max_depth','acc_entropy', data=d, label='entropy')\n",
    "plt.xlabel('max_depth')\n",
    "plt.ylabel('recall')\n",
    "plt.legend()\n",
    "#parameters: targets to be predicted and predictions from new data used before"
   ]
  },
  {
   "cell_type": "code",
   "execution_count": null,
   "metadata": {},
   "outputs": [],
   "source": [
    "#explain:"
   ]
  },
  {
   "cell_type": "markdown",
   "metadata": {},
   "source": []
  },
  {
   "cell_type": "code",
   "execution_count": null,
   "metadata": {},
   "outputs": [],
   "source": []
  },
  {
   "cell_type": "code",
   "execution_count": null,
   "metadata": {},
   "outputs": [],
   "source": []
  },
  {
   "cell_type": "markdown",
   "metadata": {},
   "source": [
    "# visual tree:"
   ]
  },
  {
   "cell_type": "code",
   "execution_count": null,
   "metadata": {},
   "outputs": [],
   "source": []
  },
  {
   "cell_type": "code",
   "execution_count": null,
   "metadata": {},
   "outputs": [],
   "source": []
  },
  {
   "cell_type": "code",
   "execution_count": 20,
   "metadata": {},
   "outputs": [
    {
     "data": {
      "image/png": "[encoded data removed]",
      "text/plain": [
       "<Figure size 432x288 with 1 Axes>"
      ]
     },
     "metadata": {
      "needs_background": "light"
     },
     "output_type": "display_data"
    }
   ],
   "source": [
    "dtree = DecisionTreeClassifier(criterion='entropy', max_depth=14)\n",
    "dtree.fit(x_train, y_train)\n",
    "pred = dtree.predict(x_test)\n",
    "recall_score(y_test, pred)\n",
    "from sklearn import tree\n",
    "tree.plot_tree(dtree);"
   ]
  },
  {
   "cell_type": "markdown",
   "metadata": {},
   "source": [
    "explore by depth"
   ]
  },
  {
   "cell_type": "markdown",
   "metadata": {},
   "source": [
    "# RandomForestClassifier"
   ]
  },
  {
   "cell_type": "code",
   "execution_count": 21,
   "metadata": {},
   "outputs": [],
   "source": [
    "from sklearn.ensemble import RandomForestClassifier\n",
    "from sklearn.ensemble import RandomForestRegressor\n"
   ]
  },
  {
   "cell_type": "code",
   "execution_count": null,
   "metadata": {},
   "outputs": [],
   "source": []
  },
  {
   "cell_type": "code",
   "execution_count": 22,
   "metadata": {},
   "outputs": [
    {
     "name": "stdout",
     "output_type": "stream",
     "text": [
      "Fitting 4 folds for each of 40 candidates, totalling 160 fits\n"
     ]
    },
    {
     "name": "stderr",
     "output_type": "stream",
     "text": [
      "c:\\users\\97254\\appdata\\local\\programs\\python\\python38\\lib\\site-packages\\sklearn\\model_selection\\_search.py:880: DataConversionWarning: A column-vector y was passed when a 1d array was expected. Please change the shape of y to (n_samples,), for example using ravel().\n",
      "  self.best_estimator_.fit(X, y, **fit_params)\n"
     ]
    },
    {
     "data": {
      "text/plain": [
       "RandomizedSearchCV(cv=4, estimator=RandomForestClassifier(), n_iter=40,\n",
       "                   n_jobs=-1,\n",
       "                   param_distributions={'criterion': ['entropy', 'gini'],\n",
       "                                        'max_depth': [10, 142, 274, 406, 538,\n",
       "                                                      671, 803, 935, 1067, 1200,\n",
       "                                                      None],\n",
       "                                        'max_features': ['auto', 'sqrt', 'log2',\n",
       "                                                         None],\n",
       "                                        'min_samples_leaf': [4, 6, 8, 12],\n",
       "                                        'min_samples_split': [5, 7, 10, 14],\n",
       "                                        'n_estimators': [151, 267, 384, 500,\n",
       "                                                         617, 733, 850, 966,\n",
       "                                                         1083, 1200]},\n",
       "                   random_state=101, verbose=5)"
      ]
     },
     "execution_count": 22,
     "metadata": {},
     "output_type": "execute_result"
    }
   ],
   "source": [
    "from sklearn.model_selection import RandomizedSearchCV\n",
    "from sklearn.model_selection import cross_val_score\n",
    "\n",
    "random_search = {'criterion': ['entropy', 'gini'],\n",
    "               'max_depth': list(np.linspace(10, 1200, 10, dtype = int)) + [None],\n",
    "               'max_features': ['auto', 'sqrt','log2', None],\n",
    "               'min_samples_leaf': [4, 6, 8, 12],\n",
    "               'min_samples_split': [5, 7, 10, 14],\n",
    "               'n_estimators': list(np.linspace(151, 1200, 10, dtype = int))}\n",
    "\n",
    "clf = RandomForestClassifier()\n",
    "model = RandomizedSearchCV(estimator = clf, param_distributions = random_search, n_iter = 40, \n",
    "                               cv = 4, verbose= 5, random_state= 101, n_jobs = -1)\n",
    "model.fit(x_train,y_train)"
   ]
  },
  {
   "cell_type": "markdown",
   "metadata": {},
   "source": []
  },
  {
   "cell_type": "code",
   "execution_count": 23,
   "metadata": {},
   "outputs": [
    {
     "name": "stdout",
     "output_type": "stream",
     "text": [
      "[[172   1]\n",
      " [ 55   0]]\n",
      "              precision    recall  f1-score   support\n",
      "\n",
      "           0       0.76      0.99      0.86       173\n",
      "           1       0.00      0.00      0.00        55\n",
      "\n",
      "    accuracy                           0.75       228\n",
      "   macro avg       0.38      0.50      0.43       228\n",
      "weighted avg       0.57      0.75      0.65       228\n",
      "\n"
     ]
    }
   ],
   "source": [
    "predictionforest = model.best_estimator_.predict(x_test)\n",
    "print(confusion_matrix(y_test,predictionforest))\n",
    "print(classification_report(y_test,predictionforest))\n",
    "acc3 = accuracy_score(y_test,predictionforest)"
   ]
  },
  {
   "cell_type": "code",
   "execution_count": 59,
   "metadata": {},
   "outputs": [],
   "source": []
  },
  {
   "cell_type": "code",
   "execution_count": null,
   "metadata": {},
   "outputs": [],
   "source": []
  },
  {
   "cell_type": "code",
   "execution_count": 61,
   "metadata": {},
   "outputs": [
    {
     "data": {
      "text/plain": [
       "(266, 8)"
      ]
     },
     "execution_count": 61,
     "metadata": {},
     "output_type": "execute_result"
    }
   ],
   "source": []
  },
  {
   "cell_type": "code",
   "execution_count": 72,
   "metadata": {},
   "outputs": [
    {
     "data": {
      "text/plain": [
       "(266,)"
      ]
     },
     "execution_count": 72,
     "metadata": {},
     "output_type": "execute_result"
    }
   ],
   "source": []
  },
  {
   "cell_type": "code",
   "execution_count": 62,
   "metadata": {},
   "outputs": [],
   "source": []
  },
  {
   "cell_type": "code",
   "execution_count": 63,
   "metadata": {},
   "outputs": [],
   "source": []
  },
  {
   "cell_type": "code",
   "execution_count": 64,
   "metadata": {},
   "outputs": [
    {
     "data": {
      "text/plain": [
       "0.55"
      ]
     },
     "execution_count": 64,
     "metadata": {},
     "output_type": "execute_result"
    }
   ],
   "source": []
  },
  {
   "cell_type": "code",
   "execution_count": 65,
   "metadata": {},
   "outputs": [
    {
     "name": "stdout",
     "output_type": "stream",
     "text": [
      "Criterion=gini 0.575\n",
      "Criterion=entropy 0.525\n"
     ]
    }
   ],
   "source": []
  },
  {
   "cell_type": "code",
   "execution_count": 66,
   "metadata": {},
   "outputs": [],
   "source": []
  },
  {
   "cell_type": "code",
   "execution_count": null,
   "metadata": {},
   "outputs": [],
   "source": []
  },
  {
   "cell_type": "code",
   "execution_count": null,
   "metadata": {},
   "outputs": [],
   "source": []
  },
  {
   "cell_type": "code",
   "execution_count": 73,
   "metadata": {},
   "outputs": [
    {
     "data": {
      "text/plain": [
       "0.6625"
      ]
     },
     "execution_count": 73,
     "metadata": {},
     "output_type": "execute_result"
    }
   ],
   "source": []
  },
  {
   "cell_type": "code",
   "execution_count": null,
   "metadata": {},
   "outputs": [],
   "source": []
  },
  {
   "cell_type": "code",
   "execution_count": null,
   "metadata": {},
   "outputs": [],
   "source": []
  },
  {
   "cell_type": "markdown",
   "metadata": {},
   "source": []
  },
  {
   "cell_type": "code",
   "execution_count": null,
   "metadata": {},
   "outputs": [],
   "source": []
  },
  {
   "cell_type": "code",
   "execution_count": null,
   "metadata": {},
   "outputs": [],
   "source": []
  }
 ],
 "metadata": {
  "kernelspec": {
   "display_name": "Python 3",
   "language": "python",
   "name": "python3"
  },
  "language_info": {
   "codemirror_mode": {
    "name": "ipython",
    "version": 3
   },
   "file_extension": ".py",
   "mimetype": "text/x-python",
   "name": "python",
   "nbconvert_exporter": "python",
   "pygments_lexer": "ipython3",
   "version": "3.8.6"
  }
 },
 "nbformat": 4,
 "nbformat_minor": 4
}
